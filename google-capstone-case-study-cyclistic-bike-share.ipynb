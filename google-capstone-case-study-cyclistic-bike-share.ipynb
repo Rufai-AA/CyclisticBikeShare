{
 "cells": [
  {
   "cell_type": "markdown",
   "id": "2705a0a2",
   "metadata": {
    "papermill": {
     "duration": 0.016269,
     "end_time": "2023-05-29T17:06:42.176784",
     "exception": false,
     "start_time": "2023-05-29T17:06:42.160515",
     "status": "completed"
    },
    "tags": []
   },
   "source": [
    "# Google Capstone Project - Cyclistic BikeShare Analysis"
   ]
  },
  {
   "cell_type": "markdown",
   "id": "3a5d7861",
   "metadata": {
    "papermill": {
     "duration": 0.013481,
     "end_time": "2023-05-29T17:06:42.203951",
     "exception": false,
     "start_time": "2023-05-29T17:06:42.190470",
     "status": "completed"
    },
    "tags": []
   },
   "source": [
    "# **Introduction**\n",
    "\n",
    "This project is the final project in my Google Data Analytics Professional Certificate course on Coursera. In this case study, I will be analyzing a public dataset for a fictional company called Cyclistic, provided by the course. Here, I will be using R programming language for this analysis because of its potential benefits to reproducibility, transparency, easy statistical analysis tools and data visualizations.\n",
    "\n",
    "This project will be based on the data analysis process;\n",
    "\n",
    "* Ask\n",
    "* Prepare\n",
    "* Process\n",
    "* Analysis\n",
    "* Share\n",
    "* Act\n",
    "\n",
    "This project will follow the following road map steps\n",
    "\n",
    "* Code where applicable\n",
    "* Key tasks to be undertaken\n",
    "* Deliverable\n",
    "\n",
    "# **Scenario**\n",
    "\n",
    "I am a junior data analyst working in the marketing analyst team at Cyclistic, a bike-share company in Chicago. The director of marketing believes the company’s future success depends on maximizing the number of annual memberships,in essence, converting casual users to member. Therefore, my team wants to understand how casual riders and annual members use Cyclistic bikes differently. From these insights, my team will design a new marketing strategy to convert casual riders into annual members.But first, Cyclistic executives must approve my recommendations, so they must be backed up with compelling data insights and professional data visualizations\n",
    "\n",
    "# **Characters and Teams**\n",
    "\n",
    "**Cyclistic**: A bike-share program that features more than 5,800 bicycles and 600 docking stations. Cyclistic sets itself apart by also offering reclining bikes, hand tricycles, and cargo bikes, making bike-share more inclusive to people with disabilities and riders who can’t use a standard two-wheeled bike. Most riders opt for traditional bikes; about 8% of riders use the assistive options. Cyclist users are more likely to ride for leisure, but about 30% use them to commute to work each day.\n",
    "\n",
    "**Lily Moreno**: The director of marketing and your manager. Moreno is responsible for the development of campaigns and initiatives to promote the bike-share program. These may include email, social media, and other channels.\n",
    "\n",
    "**Cyclistic marketing analytics team**: A team of data analysts who are responsible for collecting, analyzing, and reporting data that helps guide Cyclistic marketing strategy. You joined this team six months ago and have been busy learning about Cyclistic mission and business goals as well as how you, as a junior data analyst, can help Cyclistic achieve them.\n",
    "\n",
    "**Cyclistic executive team**: The notoriously detail-oriented executive team will decide whether to approve the recommended marketing program.\n",
    "\n",
    "## **ASK**\n",
    "Three questions will guide the future marketing program:\n",
    "\n",
    "* How do annual members and casual riders use Cyclistic bikes differently?\n",
    "* Why would casual riders buy Cyclistic annual memberships?\n",
    "* How can Cyclistic use digital media to influence casual riders to become members?\n",
    "\n",
    "\n",
    "Lily Moreno (director of marketing and my manager) has assigned me the first question to answer:\n",
    "* How do annual members and casual riders use Cyclistic bikes differently?\n",
    "\n",
    "#### **Guiding questions**\n",
    "* What is the problem you are trying to solve?\n",
    "The main objective is to determine a way to build a profile for annual members and the best marketing strategies to turn casual bike riders into annual members.\n",
    "\n",
    "*  How can your insights drive business decisions?\n",
    "The insights will help the marketing team to increase annual members.\n",
    "\n",
    "#### Key tasks\n",
    "\n",
    "* Identify the business task\n",
    "The main business objective is to design marketing strategies aimed at converting casual riders into annual members by understanding how they differ.\n",
    "* Consider key stakeholders\n",
    "The key stakeholders are the Director of Marketing (Lily Moreno), Marketing Analytics team, and Executive team.\n",
    "\n",
    "\n",
    "#### Deliverable\n",
    " 1. A clear statement of the business task\n",
    "* To find the differences between the casual riders and annual members\n",
    "\n",
    "## **PREPARE**\n",
    "I will use Cyclistic’s historical trip data to analyze and identify trends.The data has been made available by Motivate International Inc. under this [license](https://www.divvybikes.com/data-license-agreement). Datasets are available [here](https://divvy-tripdata.s3.amazonaws.com/index.html) for download.\n",
    "\n",
    "#### **Guiding questions**\n",
    "* Where is your data located?\n",
    "The data is located in a kaggle dataset.\n",
    "\n",
    "* How is the data organized?\n",
    "The data is separated by month, each on it's own csv.\n",
    "\n",
    "* Are there issues with bias or credibility in this data? Does your data ROCCC?\n",
    "Bias isn't a problem, the population of the dataset is it's own clients as bike riders. And have full credibility for the same reason. And finally, it's ROCCC because it's reliable, original, comprehensive, current and cited.\n",
    "\n",
    "* How are you addressing licensing, privacy, security, and accessibility?\n",
    "The company has their own licence over the dataset. Besides that, the dataset doesn't have any personal information about the riders.\n",
    "\n",
    "* How did you verify the data’s integrity?\n",
    "All the files have consistent columns and each column has the correct type of data.\n",
    "\n",
    "* How does it help you answer your question?\n",
    "It may have some key insights about the riders and their riding style\n",
    "\n",
    "* Are there any problems with the data?\n",
    "It would be good to have some updated information about the bike stations. Also more information about the riders could be useful.\n",
    "\n",
    "#### Key tasks\n",
    "\n",
    "1. Download data and store it appropriately;\n",
    "Data has been downloaded and copies have been stored securely on my computer.\n",
    "2. Identify how it’s organized;\n",
    "The data is in CSV (comma-separated values) format, and there are a total of 13 columns in the dataset.\n",
    "3. Sort and filter the data;\n",
    "For this analysis, I will be using data from Dec 2020 to Nov 2021\n",
    "4. Determine the credibility of the data;\n",
    "For the purposes of this case study, the datasets are appropriate and will enable me to answer the business questions. The data has been made available by Motivate International Inc under this [license](https://www.divvybikes.com/data-license-agreement). This is public data that I can use to explore how different customer types are using Cyclistic bikes. All ride ids are unique.\n",
    "\n",
    "#### Deliverable\n",
    "\n",
    "1. A description of all data sources used\n",
    "* The main data source is 12 months (Between Dec 2020 and Nov 2021) of riding data provided by the Cicylistic company.\n",
    "\n",
    "## **PROCESS**\n",
    "This step will prepare the data for analysis. All the xls files will be merged into one, to improve workflow\n",
    "\n",
    "# **Guiding questions**\n",
    "* What tools are you choosing and why?\n",
    "I'm using R for this project, for two main reasons: Because of the large dataset and to gather experience with the language.\n",
    "\n",
    "* Have you ensured your data’s integrity?\n",
    "Yes, the data is consistent throughout the columns.\n",
    "\n",
    "* What steps have you taken to ensure that your data is clean?\n",
    "First the duplicated values where removed, then the columns where formatted to their appropriate format.\n",
    "\n",
    "* How can you verify that your data is clean and ready to analyze?\n",
    "It can be verified by this notebook.\n",
    "\n",
    "* Have you documented your cleaning process so you can review and share those results?\n",
    "Yes, it's all documented in this R notebook.\n",
    "\n",
    "\n",
    "#### **Key tasks**\n",
    "* Check the data for errors.\n",
    "* Choose your tools.\n",
    "* Transform the data for effective work\n",
    "* Document the cleaning process.\n",
    "\n",
    "#### **Deliverable**\n",
    "Documentation of any cleaning or manipulation of data\n",
    "\n",
    "**Code**\n",
    "\n",
    "**Dependencies**\n",
    "The main dependencie for the project will be tidyverse.\n",
    "\n"
   ]
  },
  {
   "cell_type": "code",
   "execution_count": 1,
   "id": "d598491a",
   "metadata": {
    "execution": {
     "iopub.execute_input": "2023-05-29T17:06:42.235460Z",
     "iopub.status.busy": "2023-05-29T17:06:42.233450Z",
     "iopub.status.idle": "2023-05-29T17:06:42.357653Z",
     "shell.execute_reply": "2023-05-29T17:06:42.356157Z"
    },
    "papermill": {
     "duration": 0.142071,
     "end_time": "2023-05-29T17:06:42.359552",
     "exception": false,
     "start_time": "2023-05-29T17:06:42.217481",
     "status": "completed"
    },
    "tags": []
   },
   "outputs": [],
   "source": [
    "# Set working directory\n",
    "setwd(\"/kaggle/input/coursera-google-capstone\")"
   ]
  },
  {
   "cell_type": "markdown",
   "id": "fc5a9a95",
   "metadata": {
    "papermill": {
     "duration": 0.014227,
     "end_time": "2023-05-29T17:06:42.387916",
     "exception": false,
     "start_time": "2023-05-29T17:06:42.373689",
     "status": "completed"
    },
    "tags": []
   },
   "source": [
    "Install and load necessary packages"
   ]
  },
  {
   "cell_type": "code",
   "execution_count": 2,
   "id": "1150852e",
   "metadata": {
    "execution": {
     "iopub.execute_input": "2023-05-29T17:06:42.444754Z",
     "iopub.status.busy": "2023-05-29T17:06:42.417904Z",
     "iopub.status.idle": "2023-05-29T17:09:23.716930Z",
     "shell.execute_reply": "2023-05-29T17:09:23.715706Z"
    },
    "papermill": {
     "duration": 161.317153,
     "end_time": "2023-05-29T17:09:23.719143",
     "exception": false,
     "start_time": "2023-05-29T17:06:42.401990",
     "status": "completed"
    },
    "tags": []
   },
   "outputs": [
    {
     "name": "stderr",
     "output_type": "stream",
     "text": [
      "Installing package into ‘/usr/local/lib/R/site-library’\n",
      "(as ‘lib’ is unspecified)\n",
      "\n",
      "Installing package into ‘/usr/local/lib/R/site-library’\n",
      "(as ‘lib’ is unspecified)\n",
      "\n",
      "Installing package into ‘/usr/local/lib/R/site-library’\n",
      "(as ‘lib’ is unspecified)\n",
      "\n",
      "Installing package into ‘/usr/local/lib/R/site-library’\n",
      "(as ‘lib’ is unspecified)\n",
      "\n",
      "Warning message in install.packages(\"dplyr\"):\n",
      "“installation of package ‘dplyr’ had non-zero exit status”\n",
      "Installing package into ‘/usr/local/lib/R/site-library’\n",
      "(as ‘lib’ is unspecified)\n",
      "\n",
      "Warning message in install.packages(\"pillar\"):\n",
      "“installation of package ‘pillar’ had non-zero exit status”\n",
      "Installing package into ‘/usr/local/lib/R/site-library’\n",
      "(as ‘lib’ is unspecified)\n",
      "\n",
      "Installing package into ‘/usr/local/lib/R/site-library’\n",
      "(as ‘lib’ is unspecified)\n",
      "\n",
      "Warning message in install.packages(\"pkgconfig\"):\n",
      "“installation of package ‘pkgconfig’ had non-zero exit status”\n",
      "Installing package into ‘/usr/local/lib/R/site-library’\n",
      "(as ‘lib’ is unspecified)\n",
      "\n",
      "Installing package into ‘/usr/local/lib/R/site-library’\n",
      "(as ‘lib’ is unspecified)\n",
      "\n",
      "Installing package into ‘/usr/local/lib/R/site-library’\n",
      "(as ‘lib’ is unspecified)\n",
      "\n",
      "Installing package into ‘/usr/local/lib/R/site-library’\n",
      "(as ‘lib’ is unspecified)\n",
      "\n",
      "\n",
      "Attaching package: ‘dplyr’\n",
      "\n",
      "\n",
      "The following objects are masked from ‘package:stats’:\n",
      "\n",
      "    filter, lag\n",
      "\n",
      "\n",
      "The following objects are masked from ‘package:base’:\n",
      "\n",
      "    intersect, setdiff, setequal, union\n",
      "\n",
      "\n",
      "── \u001b[1mAttaching core tidyverse packages\u001b[22m ──────────────────────── tidyverse 2.0.0 ──\n",
      "\u001b[32m✔\u001b[39m \u001b[34mforcats  \u001b[39m 1.0.0     \u001b[32m✔\u001b[39m \u001b[34mstringr  \u001b[39m 1.5.0\n",
      "\u001b[32m✔\u001b[39m \u001b[34mlubridate\u001b[39m 1.9.2     \u001b[32m✔\u001b[39m \u001b[34mtibble   \u001b[39m 3.2.1\n",
      "\u001b[32m✔\u001b[39m \u001b[34mpurrr    \u001b[39m 1.0.1     \u001b[32m✔\u001b[39m \u001b[34mtidyr    \u001b[39m 1.3.0\n",
      "\u001b[32m✔\u001b[39m \u001b[34mreadr    \u001b[39m 2.1.4     \n",
      "── \u001b[1mConflicts\u001b[22m ────────────────────────────────────────── tidyverse_conflicts() ──\n",
      "\u001b[31m✖\u001b[39m \u001b[34mdplyr\u001b[39m::\u001b[32mfilter()\u001b[39m masks \u001b[34mstats\u001b[39m::filter()\n",
      "\u001b[31m✖\u001b[39m \u001b[34mdplyr\u001b[39m::\u001b[32mlag()\u001b[39m    masks \u001b[34mstats\u001b[39m::lag()\n",
      "\u001b[36mℹ\u001b[39m Use the conflicted package (\u001b[3m\u001b[34m<http://conflicted.r-lib.org/>\u001b[39m\u001b[23m) to force all conflicts to become errors\n",
      "\n",
      "Attaching package: ‘janitor’\n",
      "\n",
      "\n",
      "The following objects are masked from ‘package:stats’:\n",
      "\n",
      "    chisq.test, fisher.test\n",
      "\n",
      "\n",
      "\n",
      "Attaching package: ‘scales’\n",
      "\n",
      "\n",
      "The following object is masked from ‘package:purrr’:\n",
      "\n",
      "    discard\n",
      "\n",
      "\n",
      "The following object is masked from ‘package:readr’:\n",
      "\n",
      "    col_factor\n",
      "\n",
      "\n"
     ]
    }
   ],
   "source": [
    "# Install necessary packages\n",
    "install.packages(\"tidyverse\")\n",
    "install.packages(\"scales\")\n",
    "install.packages(\"date\")\n",
    "install.packages(\"dplyr\")\n",
    "install.packages(\"pillar\")\n",
    "install.packages(\"ggplot2\")\n",
    "install.packages(\"pkgconfig\")\n",
    "install.packages(\"isoband\")\n",
    "install.packages(\"janitor\")\n",
    "install.packages('stringi')\n",
    "install.packages('skimr')\n",
    "\n",
    "\n",
    "# Load necessary packages\n",
    "library(date)\n",
    "library(ggplot2)\n",
    "library(dplyr)\n",
    "library(tidyverse)\n",
    "library(lubridate)\n",
    "library(tidyr)\n",
    "library(skimr)\n",
    "library(janitor)\n",
    "library(scales)\n",
    "library(readr)"
   ]
  },
  {
   "cell_type": "code",
   "execution_count": 3,
   "id": "17918bda",
   "metadata": {
    "execution": {
     "iopub.execute_input": "2023-05-29T17:09:23.757123Z",
     "iopub.status.busy": "2023-05-29T17:09:23.755433Z",
     "iopub.status.idle": "2023-05-29T17:09:23.765851Z",
     "shell.execute_reply": "2023-05-29T17:09:23.764632Z"
    },
    "papermill": {
     "duration": 0.029044,
     "end_time": "2023-05-29T17:09:23.767883",
     "exception": false,
     "start_time": "2023-05-29T17:09:23.738839",
     "status": "completed"
    },
    "tags": []
   },
   "outputs": [],
   "source": [
    "library(ggplot2)"
   ]
  },
  {
   "cell_type": "markdown",
   "id": "806a378e",
   "metadata": {
    "papermill": {
     "duration": 0.015557,
     "end_time": "2023-05-29T17:09:23.799177",
     "exception": false,
     "start_time": "2023-05-29T17:09:23.783620",
     "status": "completed"
    },
    "tags": []
   },
   "source": [
    "**Concatenating**\n",
    "* All the csv files will be concatenated into one dataframe.\n"
   ]
  },
  {
   "cell_type": "code",
   "execution_count": 4,
   "id": "615abcd7",
   "metadata": {
    "execution": {
     "iopub.execute_input": "2023-05-29T17:09:23.833588Z",
     "iopub.status.busy": "2023-05-29T17:09:23.832389Z",
     "iopub.status.idle": "2023-05-29T17:10:52.963970Z",
     "shell.execute_reply": "2023-05-29T17:10:52.962583Z"
    },
    "papermill": {
     "duration": 89.151369,
     "end_time": "2023-05-29T17:10:52.966404",
     "exception": false,
     "start_time": "2023-05-29T17:09:23.815035",
     "status": "completed"
    },
    "tags": []
   },
   "outputs": [],
   "source": [
    "# Read in the data files\n",
    "trips_2020_12 <- read.csv(\"/kaggle/input/coursera-google-capstone/td1.csv\")\n",
    "trips_2021_01 <- read.csv(\"/kaggle/input/coursera-google-capstone/td2.csv\")\n",
    "trips_2021_02 <- read.csv(\"/kaggle/input/coursera-google-capstone/td3.csv\")\n",
    "trips_2021_03 <- read.csv(\"/kaggle/input/coursera-google-capstone/td4.csv\")\n",
    "trips_2021_04 <- read.csv(\"/kaggle/input/coursera-google-capstone/td5.csv\")\n",
    "trips_2021_05 <- read.csv(\"/kaggle/input/coursera-google-capstone/td6.csv\")\n",
    "trips_2021_06 <- read.csv(\"/kaggle/input/coursera-google-capstone/td7.csv\")\n",
    "trips_2021_07 <- read.csv(\"/kaggle/input/coursera-google-capstone/td8.csv\")\n",
    "trips_2021_08 <- read.csv(\"/kaggle/input/coursera-google-capstone/td9.csv\")\n",
    "trips_2021_09 <- read.csv(\"/kaggle/input/coursera-google-capstone/td10.csv\")\n",
    "trips_2021_10 <- read.csv(\"/kaggle/input/coursera-google-capstone/td11.csv\")\n",
    "trips_2021_11 <- read.csv(\"/kaggle/input/coursera-google-capstone/td12.csv\")"
   ]
  },
  {
   "cell_type": "markdown",
   "id": "97e2aabe",
   "metadata": {
    "papermill": {
     "duration": 0.015462,
     "end_time": "2023-05-29T17:10:53.002119",
     "exception": false,
     "start_time": "2023-05-29T17:10:52.986657",
     "status": "completed"
    },
    "tags": []
   },
   "source": [
    "Checking the structure of a data frame is important to understand the organization of the data and to ensure that the data is correctly loaded into R. The structure of a data frame includes information about the number of observations, the number of variables, the variable names, and the data types of the variables."
   ]
  },
  {
   "cell_type": "code",
   "execution_count": 5,
   "id": "720697ed",
   "metadata": {
    "execution": {
     "iopub.execute_input": "2023-05-29T17:10:53.035790Z",
     "iopub.status.busy": "2023-05-29T17:10:53.034561Z",
     "iopub.status.idle": "2023-05-29T17:10:53.063899Z",
     "shell.execute_reply": "2023-05-29T17:10:53.062246Z"
    },
    "papermill": {
     "duration": 0.047758,
     "end_time": "2023-05-29T17:10:53.065604",
     "exception": false,
     "start_time": "2023-05-29T17:10:53.017846",
     "status": "completed"
    },
    "tags": []
   },
   "outputs": [
    {
     "name": "stdout",
     "output_type": "stream",
     "text": [
      "'data.frame':\t96834 obs. of  13 variables:\n",
      " $ ride_id           : chr  \"E19E6F1B8D4C42ED\" \"DC88F20C2C55F27F\" \"EC45C94683FE3F27\" \"4FA453A75AE377DB\" ...\n",
      " $ rideable_type     : chr  \"electric_bike\" \"electric_bike\" \"electric_bike\" \"electric_bike\" ...\n",
      " $ started_at        : chr  \"2021-01-23 16:14:19\" \"2021-01-27 18:43:08\" \"2021-01-21 22:35:54\" \"2021-01-07 13:31:13\" ...\n",
      " $ ended_at          : chr  \"2021-01-23 16:24:44\" \"2021-01-27 18:47:12\" \"2021-01-21 22:37:14\" \"2021-01-07 13:42:55\" ...\n",
      " $ start_station_name: chr  \"California Ave & Cortez St\" \"California Ave & Cortez St\" \"California Ave & Cortez St\" \"California Ave & Cortez St\" ...\n",
      " $ start_station_id  : chr  \"17660\" \"17660\" \"17660\" \"17660\" ...\n",
      " $ end_station_name  : chr  \"\" \"\" \"\" \"\" ...\n",
      " $ end_station_id    : chr  \"\" \"\" \"\" \"\" ...\n",
      " $ start_lat         : num  41.9 41.9 41.9 41.9 41.9 ...\n",
      " $ start_lng         : num  -87.7 -87.7 -87.7 -87.7 -87.7 ...\n",
      " $ end_lat           : num  41.9 41.9 41.9 41.9 41.9 ...\n",
      " $ end_lng           : num  -87.7 -87.7 -87.7 -87.7 -87.7 ...\n",
      " $ member_casual     : chr  \"member\" \"member\" \"member\" \"member\" ...\n"
     ]
    }
   ],
   "source": [
    "# Check the structure of one of the data frames\n",
    "str(trips_2021_01)"
   ]
  },
  {
   "cell_type": "code",
   "execution_count": 6,
   "id": "6ae38740",
   "metadata": {
    "execution": {
     "iopub.execute_input": "2023-05-29T17:10:53.099503Z",
     "iopub.status.busy": "2023-05-29T17:10:53.098219Z",
     "iopub.status.idle": "2023-05-29T17:10:53.141870Z",
     "shell.execute_reply": "2023-05-29T17:10:53.140475Z"
    },
    "papermill": {
     "duration": 0.062471,
     "end_time": "2023-05-29T17:10:53.143629",
     "exception": false,
     "start_time": "2023-05-29T17:10:53.081158",
     "status": "completed"
    },
    "tags": []
   },
   "outputs": [
    {
     "data": {
      "text/html": [
       "<table class=\"dataframe\">\n",
       "<caption>A data.frame: 13 × 13</caption>\n",
       "<thead>\n",
       "\t<tr><th scope=col>column_name</th><th scope=col>trips_2021_01</th><th scope=col>trips_2021_02</th><th scope=col>trips_2021_03</th><th scope=col>trips_2021_04</th><th scope=col>trips_2021_05</th><th scope=col>trips_2021_06</th><th scope=col>trips_2021_07</th><th scope=col>trips_2021_08</th><th scope=col>trips_2021_09</th><th scope=col>trips_2021_10</th><th scope=col>trips_2021_11</th><th scope=col>trips_2020_12</th></tr>\n",
       "\t<tr><th scope=col>&lt;chr&gt;</th><th scope=col>&lt;chr&gt;</th><th scope=col>&lt;chr&gt;</th><th scope=col>&lt;chr&gt;</th><th scope=col>&lt;chr&gt;</th><th scope=col>&lt;chr&gt;</th><th scope=col>&lt;chr&gt;</th><th scope=col>&lt;chr&gt;</th><th scope=col>&lt;chr&gt;</th><th scope=col>&lt;chr&gt;</th><th scope=col>&lt;chr&gt;</th><th scope=col>&lt;chr&gt;</th><th scope=col>&lt;chr&gt;</th></tr>\n",
       "</thead>\n",
       "<tbody>\n",
       "\t<tr><td>end_lat           </td><td>numeric  </td><td>numeric  </td><td>numeric  </td><td>numeric  </td><td>numeric  </td><td>numeric  </td><td>numeric  </td><td>numeric  </td><td>numeric  </td><td>numeric  </td><td>numeric  </td><td>numeric  </td></tr>\n",
       "\t<tr><td>end_lng           </td><td>numeric  </td><td>numeric  </td><td>numeric  </td><td>numeric  </td><td>numeric  </td><td>numeric  </td><td>numeric  </td><td>numeric  </td><td>numeric  </td><td>numeric  </td><td>numeric  </td><td>numeric  </td></tr>\n",
       "\t<tr><td>end_station_id    </td><td>character</td><td>character</td><td>character</td><td>character</td><td>character</td><td>character</td><td>character</td><td>character</td><td>character</td><td>character</td><td>character</td><td>character</td></tr>\n",
       "\t<tr><td>end_station_name  </td><td>character</td><td>character</td><td>character</td><td>character</td><td>character</td><td>character</td><td>character</td><td>character</td><td>character</td><td>character</td><td>character</td><td>character</td></tr>\n",
       "\t<tr><td>ended_at          </td><td>character</td><td>character</td><td>character</td><td>character</td><td>character</td><td>character</td><td>character</td><td>character</td><td>character</td><td>character</td><td>character</td><td>character</td></tr>\n",
       "\t<tr><td>member_casual     </td><td>character</td><td>character</td><td>character</td><td>character</td><td>character</td><td>character</td><td>character</td><td>character</td><td>character</td><td>character</td><td>character</td><td>character</td></tr>\n",
       "\t<tr><td>ride_id           </td><td>character</td><td>character</td><td>character</td><td>character</td><td>character</td><td>character</td><td>character</td><td>character</td><td>character</td><td>character</td><td>character</td><td>character</td></tr>\n",
       "\t<tr><td>rideable_type     </td><td>character</td><td>character</td><td>character</td><td>character</td><td>character</td><td>character</td><td>character</td><td>character</td><td>character</td><td>character</td><td>character</td><td>character</td></tr>\n",
       "\t<tr><td>start_lat         </td><td>numeric  </td><td>numeric  </td><td>numeric  </td><td>numeric  </td><td>numeric  </td><td>numeric  </td><td>numeric  </td><td>numeric  </td><td>numeric  </td><td>numeric  </td><td>numeric  </td><td>numeric  </td></tr>\n",
       "\t<tr><td>start_lng         </td><td>numeric  </td><td>numeric  </td><td>numeric  </td><td>numeric  </td><td>numeric  </td><td>numeric  </td><td>numeric  </td><td>numeric  </td><td>numeric  </td><td>numeric  </td><td>numeric  </td><td>numeric  </td></tr>\n",
       "\t<tr><td>start_station_id  </td><td>character</td><td>character</td><td>character</td><td>character</td><td>character</td><td>character</td><td>character</td><td>character</td><td>character</td><td>character</td><td>character</td><td>character</td></tr>\n",
       "\t<tr><td>start_station_name</td><td>character</td><td>character</td><td>character</td><td>character</td><td>character</td><td>character</td><td>character</td><td>character</td><td>character</td><td>character</td><td>character</td><td>character</td></tr>\n",
       "\t<tr><td>started_at        </td><td>character</td><td>character</td><td>character</td><td>character</td><td>character</td><td>character</td><td>character</td><td>character</td><td>character</td><td>character</td><td>character</td><td>character</td></tr>\n",
       "</tbody>\n",
       "</table>\n"
      ],
      "text/latex": [
       "A data.frame: 13 × 13\n",
       "\\begin{tabular}{lllllllllllll}\n",
       " column\\_name & trips\\_2021\\_01 & trips\\_2021\\_02 & trips\\_2021\\_03 & trips\\_2021\\_04 & trips\\_2021\\_05 & trips\\_2021\\_06 & trips\\_2021\\_07 & trips\\_2021\\_08 & trips\\_2021\\_09 & trips\\_2021\\_10 & trips\\_2021\\_11 & trips\\_2020\\_12\\\\\n",
       " <chr> & <chr> & <chr> & <chr> & <chr> & <chr> & <chr> & <chr> & <chr> & <chr> & <chr> & <chr> & <chr>\\\\\n",
       "\\hline\n",
       "\t end\\_lat            & numeric   & numeric   & numeric   & numeric   & numeric   & numeric   & numeric   & numeric   & numeric   & numeric   & numeric   & numeric  \\\\\n",
       "\t end\\_lng            & numeric   & numeric   & numeric   & numeric   & numeric   & numeric   & numeric   & numeric   & numeric   & numeric   & numeric   & numeric  \\\\\n",
       "\t end\\_station\\_id     & character & character & character & character & character & character & character & character & character & character & character & character\\\\\n",
       "\t end\\_station\\_name   & character & character & character & character & character & character & character & character & character & character & character & character\\\\\n",
       "\t ended\\_at           & character & character & character & character & character & character & character & character & character & character & character & character\\\\\n",
       "\t member\\_casual      & character & character & character & character & character & character & character & character & character & character & character & character\\\\\n",
       "\t ride\\_id            & character & character & character & character & character & character & character & character & character & character & character & character\\\\\n",
       "\t rideable\\_type      & character & character & character & character & character & character & character & character & character & character & character & character\\\\\n",
       "\t start\\_lat          & numeric   & numeric   & numeric   & numeric   & numeric   & numeric   & numeric   & numeric   & numeric   & numeric   & numeric   & numeric  \\\\\n",
       "\t start\\_lng          & numeric   & numeric   & numeric   & numeric   & numeric   & numeric   & numeric   & numeric   & numeric   & numeric   & numeric   & numeric  \\\\\n",
       "\t start\\_station\\_id   & character & character & character & character & character & character & character & character & character & character & character & character\\\\\n",
       "\t start\\_station\\_name & character & character & character & character & character & character & character & character & character & character & character & character\\\\\n",
       "\t started\\_at         & character & character & character & character & character & character & character & character & character & character & character & character\\\\\n",
       "\\end{tabular}\n"
      ],
      "text/markdown": [
       "\n",
       "A data.frame: 13 × 13\n",
       "\n",
       "| column_name &lt;chr&gt; | trips_2021_01 &lt;chr&gt; | trips_2021_02 &lt;chr&gt; | trips_2021_03 &lt;chr&gt; | trips_2021_04 &lt;chr&gt; | trips_2021_05 &lt;chr&gt; | trips_2021_06 &lt;chr&gt; | trips_2021_07 &lt;chr&gt; | trips_2021_08 &lt;chr&gt; | trips_2021_09 &lt;chr&gt; | trips_2021_10 &lt;chr&gt; | trips_2021_11 &lt;chr&gt; | trips_2020_12 &lt;chr&gt; |\n",
       "|---|---|---|---|---|---|---|---|---|---|---|---|---|\n",
       "| end_lat            | numeric   | numeric   | numeric   | numeric   | numeric   | numeric   | numeric   | numeric   | numeric   | numeric   | numeric   | numeric   |\n",
       "| end_lng            | numeric   | numeric   | numeric   | numeric   | numeric   | numeric   | numeric   | numeric   | numeric   | numeric   | numeric   | numeric   |\n",
       "| end_station_id     | character | character | character | character | character | character | character | character | character | character | character | character |\n",
       "| end_station_name   | character | character | character | character | character | character | character | character | character | character | character | character |\n",
       "| ended_at           | character | character | character | character | character | character | character | character | character | character | character | character |\n",
       "| member_casual      | character | character | character | character | character | character | character | character | character | character | character | character |\n",
       "| ride_id            | character | character | character | character | character | character | character | character | character | character | character | character |\n",
       "| rideable_type      | character | character | character | character | character | character | character | character | character | character | character | character |\n",
       "| start_lat          | numeric   | numeric   | numeric   | numeric   | numeric   | numeric   | numeric   | numeric   | numeric   | numeric   | numeric   | numeric   |\n",
       "| start_lng          | numeric   | numeric   | numeric   | numeric   | numeric   | numeric   | numeric   | numeric   | numeric   | numeric   | numeric   | numeric   |\n",
       "| start_station_id   | character | character | character | character | character | character | character | character | character | character | character | character |\n",
       "| start_station_name | character | character | character | character | character | character | character | character | character | character | character | character |\n",
       "| started_at         | character | character | character | character | character | character | character | character | character | character | character | character |\n",
       "\n"
      ],
      "text/plain": [
       "   column_name        trips_2021_01 trips_2021_02 trips_2021_03 trips_2021_04\n",
       "1  end_lat            numeric       numeric       numeric       numeric      \n",
       "2  end_lng            numeric       numeric       numeric       numeric      \n",
       "3  end_station_id     character     character     character     character    \n",
       "4  end_station_name   character     character     character     character    \n",
       "5  ended_at           character     character     character     character    \n",
       "6  member_casual      character     character     character     character    \n",
       "7  ride_id            character     character     character     character    \n",
       "8  rideable_type      character     character     character     character    \n",
       "9  start_lat          numeric       numeric       numeric       numeric      \n",
       "10 start_lng          numeric       numeric       numeric       numeric      \n",
       "11 start_station_id   character     character     character     character    \n",
       "12 start_station_name character     character     character     character    \n",
       "13 started_at         character     character     character     character    \n",
       "   trips_2021_05 trips_2021_06 trips_2021_07 trips_2021_08 trips_2021_09\n",
       "1  numeric       numeric       numeric       numeric       numeric      \n",
       "2  numeric       numeric       numeric       numeric       numeric      \n",
       "3  character     character     character     character     character    \n",
       "4  character     character     character     character     character    \n",
       "5  character     character     character     character     character    \n",
       "6  character     character     character     character     character    \n",
       "7  character     character     character     character     character    \n",
       "8  character     character     character     character     character    \n",
       "9  numeric       numeric       numeric       numeric       numeric      \n",
       "10 numeric       numeric       numeric       numeric       numeric      \n",
       "11 character     character     character     character     character    \n",
       "12 character     character     character     character     character    \n",
       "13 character     character     character     character     character    \n",
       "   trips_2021_10 trips_2021_11 trips_2020_12\n",
       "1  numeric       numeric       numeric      \n",
       "2  numeric       numeric       numeric      \n",
       "3  character     character     character    \n",
       "4  character     character     character    \n",
       "5  character     character     character    \n",
       "6  character     character     character    \n",
       "7  character     character     character    \n",
       "8  character     character     character    \n",
       "9  numeric       numeric       numeric      \n",
       "10 numeric       numeric       numeric      \n",
       "11 character     character     character    \n",
       "12 character     character     character    \n",
       "13 character     character     character    "
      ]
     },
     "metadata": {},
     "output_type": "display_data"
    }
   ],
   "source": [
    "# Compare column names of all data frames\n",
    "compare_df_cols(trips_2021_01, trips_2021_02, trips_2021_03, trips_2021_04, trips_2021_05, trips_2021_06, trips_2021_07, trips_2021_08, trips_2021_09, trips_2021_10, trips_2021_11, trips_2020_12)\n"
   ]
  },
  {
   "cell_type": "markdown",
   "id": "5fea2314",
   "metadata": {
    "papermill": {
     "duration": 0.015765,
     "end_time": "2023-05-29T17:10:53.175329",
     "exception": false,
     "start_time": "2023-05-29T17:10:53.159564",
     "status": "completed"
    },
    "tags": []
   },
   "source": [
    "Comparing columns in a data frame is to check for inconsistencies, errors, or missing values. Comparing columns can help identify if there are any differences or similarities between the data in the columns, such as if they have the same data types or if they contain the same values. This can be particularly useful when merging or joining multiple data frames, as it helps ensure that the data is aligned correctly and any discrepancies are resolved before analysis."
   ]
  },
  {
   "cell_type": "markdown",
   "id": "2baaed5e",
   "metadata": {
    "papermill": {
     "duration": 0.015656,
     "end_time": "2023-05-29T17:10:53.206690",
     "exception": false,
     "start_time": "2023-05-29T17:10:53.191034",
     "status": "completed"
    },
    "tags": []
   },
   "source": [
    "**Combining all the dataset into one dataframe**"
   ]
  },
  {
   "cell_type": "code",
   "execution_count": 7,
   "id": "1bebd5dd",
   "metadata": {
    "execution": {
     "iopub.execute_input": "2023-05-29T17:10:53.241616Z",
     "iopub.status.busy": "2023-05-29T17:10:53.240336Z",
     "iopub.status.idle": "2023-05-29T17:11:14.609275Z",
     "shell.execute_reply": "2023-05-29T17:11:14.607772Z"
    },
    "papermill": {
     "duration": 21.38985,
     "end_time": "2023-05-29T17:11:14.612341",
     "exception": false,
     "start_time": "2023-05-29T17:10:53.222491",
     "status": "completed"
    },
    "tags": []
   },
   "outputs": [],
   "source": [
    "# Combine all data frames into one\n",
    "Trips2021 <- rbind(trips_2021_01, trips_2021_02, trips_2021_03, trips_2021_04, trips_2021_05, trips_2021_06, trips_2021_07, trips_2021_08, trips_2021_09, trips_2021_10, trips_2021_11, trips_2020_12)\n"
   ]
  },
  {
   "cell_type": "code",
   "execution_count": 8,
   "id": "6bcdbe85",
   "metadata": {
    "execution": {
     "iopub.execute_input": "2023-05-29T17:11:14.648185Z",
     "iopub.status.busy": "2023-05-29T17:11:14.646840Z",
     "iopub.status.idle": "2023-05-29T17:11:14.675027Z",
     "shell.execute_reply": "2023-05-29T17:11:14.672627Z"
    },
    "papermill": {
     "duration": 0.047832,
     "end_time": "2023-05-29T17:11:14.677083",
     "exception": false,
     "start_time": "2023-05-29T17:11:14.629251",
     "status": "completed"
    },
    "tags": []
   },
   "outputs": [
    {
     "name": "stdout",
     "output_type": "stream",
     "text": [
      "'data.frame':\t5479096 obs. of  13 variables:\n",
      " $ ride_id           : chr  \"E19E6F1B8D4C42ED\" \"DC88F20C2C55F27F\" \"EC45C94683FE3F27\" \"4FA453A75AE377DB\" ...\n",
      " $ rideable_type     : chr  \"electric_bike\" \"electric_bike\" \"electric_bike\" \"electric_bike\" ...\n",
      " $ started_at        : chr  \"2021-01-23 16:14:19\" \"2021-01-27 18:43:08\" \"2021-01-21 22:35:54\" \"2021-01-07 13:31:13\" ...\n",
      " $ ended_at          : chr  \"2021-01-23 16:24:44\" \"2021-01-27 18:47:12\" \"2021-01-21 22:37:14\" \"2021-01-07 13:42:55\" ...\n",
      " $ start_station_name: chr  \"California Ave & Cortez St\" \"California Ave & Cortez St\" \"California Ave & Cortez St\" \"California Ave & Cortez St\" ...\n",
      " $ start_station_id  : chr  \"17660\" \"17660\" \"17660\" \"17660\" ...\n",
      " $ end_station_name  : chr  \"\" \"\" \"\" \"\" ...\n",
      " $ end_station_id    : chr  \"\" \"\" \"\" \"\" ...\n",
      " $ start_lat         : num  41.9 41.9 41.9 41.9 41.9 ...\n",
      " $ start_lng         : num  -87.7 -87.7 -87.7 -87.7 -87.7 ...\n",
      " $ end_lat           : num  41.9 41.9 41.9 41.9 41.9 ...\n",
      " $ end_lng           : num  -87.7 -87.7 -87.7 -87.7 -87.7 ...\n",
      " $ member_casual     : chr  \"member\" \"member\" \"member\" \"member\" ...\n"
     ]
    }
   ],
   "source": [
    "# Check the structure of the combined data frame\n",
    "str(Trips2021)"
   ]
  },
  {
   "cell_type": "markdown",
   "id": "c53f50ce",
   "metadata": {
    "papermill": {
     "duration": 0.015761,
     "end_time": "2023-05-29T17:11:14.709026",
     "exception": false,
     "start_time": "2023-05-29T17:11:14.693265",
     "status": "completed"
    },
    "tags": []
   },
   "source": [
    "**Data Cleaning**\n",
    "* removing duplicates"
   ]
  },
  {
   "cell_type": "code",
   "execution_count": 9,
   "id": "5552bb12",
   "metadata": {
    "execution": {
     "iopub.execute_input": "2023-05-29T17:11:14.744359Z",
     "iopub.status.busy": "2023-05-29T17:11:14.743114Z",
     "iopub.status.idle": "2023-05-29T17:11:15.283411Z",
     "shell.execute_reply": "2023-05-29T17:11:15.282073Z"
    },
    "papermill": {
     "duration": 0.560409,
     "end_time": "2023-05-29T17:11:15.285098",
     "exception": false,
     "start_time": "2023-05-29T17:11:14.724689",
     "status": "completed"
    },
    "tags": []
   },
   "outputs": [
    {
     "name": "stdout",
     "output_type": "stream",
     "text": [
      "[1] \"Number of duplicates removed:  0\"\n"
     ]
    }
   ],
   "source": [
    "# Identify and remove duplicates\n",
    "duplicates <- duplicated(Trips2021$ride_id)\n",
    "num_duplicates <- sum(duplicates)\n",
    "print(paste(\"Number of duplicates removed: \", num_duplicates))"
   ]
  },
  {
   "cell_type": "code",
   "execution_count": 10,
   "id": "b349e452",
   "metadata": {
    "execution": {
     "iopub.execute_input": "2023-05-29T17:11:15.318735Z",
     "iopub.status.busy": "2023-05-29T17:11:15.317558Z",
     "iopub.status.idle": "2023-05-29T17:11:49.730998Z",
     "shell.execute_reply": "2023-05-29T17:11:49.729851Z"
    },
    "papermill": {
     "duration": 34.448593,
     "end_time": "2023-05-29T17:11:49.749210",
     "exception": false,
     "start_time": "2023-05-29T17:11:15.300617",
     "status": "completed"
    },
    "tags": []
   },
   "outputs": [
    {
     "data": {
      "text/html": [
       "<style>\n",
       ".dl-inline {width: auto; margin:0; padding: 0}\n",
       ".dl-inline>dt, .dl-inline>dd {float: none; width: auto; display: inline-block}\n",
       ".dl-inline>dt::after {content: \":\\0020\"; padding-right: .5ex}\n",
       ".dl-inline>dt:not(:first-of-type) {padding-left: .5ex}\n",
       "</style><dl class=dl-inline><dt>ride_id</dt><dd>0</dd><dt>rideable_type</dt><dd>0</dd><dt>started_at</dt><dd>0</dd><dt>ended_at</dt><dd>0</dd><dt>start_station_name</dt><dd>0</dd><dt>start_station_id</dt><dd>0</dd><dt>end_station_name</dt><dd>0</dd><dt>end_station_id</dt><dd>0</dd><dt>start_lat</dt><dd>0</dd><dt>start_lng</dt><dd>0</dd><dt>end_lat</dt><dd>0</dd><dt>end_lng</dt><dd>0</dd><dt>member_casual</dt><dd>0</dd></dl>\n"
      ],
      "text/latex": [
       "\\begin{description*}\n",
       "\\item[ride\\textbackslash{}\\_id] 0\n",
       "\\item[rideable\\textbackslash{}\\_type] 0\n",
       "\\item[started\\textbackslash{}\\_at] 0\n",
       "\\item[ended\\textbackslash{}\\_at] 0\n",
       "\\item[start\\textbackslash{}\\_station\\textbackslash{}\\_name] 0\n",
       "\\item[start\\textbackslash{}\\_station\\textbackslash{}\\_id] 0\n",
       "\\item[end\\textbackslash{}\\_station\\textbackslash{}\\_name] 0\n",
       "\\item[end\\textbackslash{}\\_station\\textbackslash{}\\_id] 0\n",
       "\\item[start\\textbackslash{}\\_lat] 0\n",
       "\\item[start\\textbackslash{}\\_lng] 0\n",
       "\\item[end\\textbackslash{}\\_lat] 0\n",
       "\\item[end\\textbackslash{}\\_lng] 0\n",
       "\\item[member\\textbackslash{}\\_casual] 0\n",
       "\\end{description*}\n"
      ],
      "text/markdown": [
       "ride_id\n",
       ":   0rideable_type\n",
       ":   0started_at\n",
       ":   0ended_at\n",
       ":   0start_station_name\n",
       ":   0start_station_id\n",
       ":   0end_station_name\n",
       ":   0end_station_id\n",
       ":   0start_lat\n",
       ":   0start_lng\n",
       ":   0end_lat\n",
       ":   0end_lng\n",
       ":   0member_casual\n",
       ":   0\n",
       "\n"
      ],
      "text/plain": [
       "           ride_id      rideable_type         started_at           ended_at \n",
       "                 0                  0                  0                  0 \n",
       "start_station_name   start_station_id   end_station_name     end_station_id \n",
       "                 0                  0                  0                  0 \n",
       "         start_lat          start_lng            end_lat            end_lng \n",
       "                 0                  0                  0                  0 \n",
       "     member_casual \n",
       "                 0 "
      ]
     },
     "metadata": {},
     "output_type": "display_data"
    }
   ],
   "source": [
    "#Replace blanks or empty spaces with NA\n",
    "is.na(Trips2021) <- Trips2021 == \"\"\n",
    "\n",
    "\n",
    "#Removing all NA values from dataframe\n",
    "Trips2021 <- na.omit(Trips2021)\n",
    "\n",
    "#Check for missing values\n",
    "colSums(is.na(Trips2021))"
   ]
  },
  {
   "cell_type": "code",
   "execution_count": 11,
   "id": "7456924e",
   "metadata": {
    "execution": {
     "iopub.execute_input": "2023-05-29T17:11:49.785392Z",
     "iopub.status.busy": "2023-05-29T17:11:49.784195Z",
     "iopub.status.idle": "2023-05-29T17:12:02.774768Z",
     "shell.execute_reply": "2023-05-29T17:12:02.773369Z"
    },
    "papermill": {
     "duration": 13.01124,
     "end_time": "2023-05-29T17:12:02.776812",
     "exception": false,
     "start_time": "2023-05-29T17:11:49.765572",
     "status": "completed"
    },
    "tags": []
   },
   "outputs": [],
   "source": [
    "# Convert date and time columns to POSIXct format\n",
    "Trips2021$started_at <- as.POSIXct(as.character(Trips2021$started_at), format = \"%Y-%m-%d %H:%M\", tz = \"Africa/Lagos\")\n",
    "Trips2021$ended_at <- as.POSIXct(as.character(Trips2021$ended_at), format = \"%Y-%m-%d %H:%M\", tz = \"Africa/Lagos\")"
   ]
  },
  {
   "cell_type": "markdown",
   "id": "090ab0b9",
   "metadata": {
    "papermill": {
     "duration": 0.016259,
     "end_time": "2023-05-29T17:12:02.809515",
     "exception": false,
     "start_time": "2023-05-29T17:12:02.793256",
     "status": "completed"
    },
    "tags": []
   },
   "source": [
    "**Parsing datetime columns**\n",
    "Started_at and Ended_at columns are in character data type and we need to convert to POSIXct so as to be able to calculate ride lengths."
   ]
  },
  {
   "cell_type": "markdown",
   "id": "0a3b140c",
   "metadata": {
    "papermill": {
     "duration": 0.016123,
     "end_time": "2023-05-29T17:12:02.841807",
     "exception": false,
     "start_time": "2023-05-29T17:12:02.825684",
     "status": "completed"
    },
    "tags": []
   },
   "source": [
    "**Data Manipulation**\n",
    "* New columns will help improve calculation time in the future\n",
    "\n",
    "\n",
    "*Adding ride_length column to the dataframe. Calculating the length of each ride by subtracting the column “started_at” from the column “ended_at”. Leaving answer in minutes and filtering to have our minutes greater than 0*"
   ]
  },
  {
   "cell_type": "code",
   "execution_count": 12,
   "id": "44885e32",
   "metadata": {
    "execution": {
     "iopub.execute_input": "2023-05-29T17:12:02.877032Z",
     "iopub.status.busy": "2023-05-29T17:12:02.875832Z",
     "iopub.status.idle": "2023-05-29T17:12:04.197704Z",
     "shell.execute_reply": "2023-05-29T17:12:04.196537Z"
    },
    "papermill": {
     "duration": 1.341664,
     "end_time": "2023-05-29T17:12:04.199449",
     "exception": false,
     "start_time": "2023-05-29T17:12:02.857785",
     "status": "completed"
    },
    "tags": []
   },
   "outputs": [
    {
     "data": {
      "text/plain": [
       "  Length    Class     Mode \n",
       " 4491263 difftime  numeric "
      ]
     },
     "metadata": {},
     "output_type": "display_data"
    }
   ],
   "source": [
    "# Create/add a new column to the dataframe and calculate ride length in minutes\n",
    "Trips2021<-mutate(Trips2021,ride_length=round(difftime(ended_at,started_at,units = \"mins\"),0))\n",
    "\n",
    "# Remove rows with negative ride_length\n",
    "Trips2021 <- Trips2021 %>%\n",
    "  filter(ride_length > 0)\n",
    "    \n",
    "\n",
    "# View the summary of ride_length variable\n",
    "summary(Trips2021$ride_length)"
   ]
  },
  {
   "cell_type": "markdown",
   "id": "a50b53c4",
   "metadata": {
    "papermill": {
     "duration": 0.04636,
     "end_time": "2023-05-29T17:12:04.262096",
     "exception": false,
     "start_time": "2023-05-29T17:12:04.215736",
     "status": "completed"
    },
    "tags": []
   },
   "source": [
    "Adding \"day_of_week\" column to the dataframe using the start time variable"
   ]
  },
  {
   "cell_type": "code",
   "execution_count": 13,
   "id": "7e031df7",
   "metadata": {
    "execution": {
     "iopub.execute_input": "2023-05-29T17:12:04.297545Z",
     "iopub.status.busy": "2023-05-29T17:12:04.296276Z",
     "iopub.status.idle": "2023-05-29T17:12:08.332622Z",
     "shell.execute_reply": "2023-05-29T17:12:08.331263Z"
    },
    "papermill": {
     "duration": 4.056585,
     "end_time": "2023-05-29T17:12:08.334866",
     "exception": false,
     "start_time": "2023-05-29T17:12:04.278281",
     "status": "completed"
    },
    "tags": []
   },
   "outputs": [],
   "source": [
    "# Add day_of_week column using the start time variable\n",
    "Trips2021<- Trips2021 %>%\n",
    "  mutate(day_of_week=wday(Trips2021$started_at,label=TRUE, abbr=TRUE))"
   ]
  },
  {
   "cell_type": "code",
   "execution_count": 14,
   "id": "eda30a68",
   "metadata": {
    "execution": {
     "iopub.execute_input": "2023-05-29T17:12:08.370260Z",
     "iopub.status.busy": "2023-05-29T17:12:08.369031Z",
     "iopub.status.idle": "2023-05-29T17:12:08.396228Z",
     "shell.execute_reply": "2023-05-29T17:12:08.394686Z"
    },
    "papermill": {
     "duration": 0.047215,
     "end_time": "2023-05-29T17:12:08.398512",
     "exception": false,
     "start_time": "2023-05-29T17:12:08.351297",
     "status": "completed"
    },
    "tags": []
   },
   "outputs": [
    {
     "name": "stdout",
     "output_type": "stream",
     "text": [
      "Rows: 4,491,263\n",
      "Columns: 15\n",
      "$ ride_id            \u001b[3m\u001b[90m<chr>\u001b[39m\u001b[23m \"B9F73448DFBE0D45\", \"457C7F4B5D3DA135\", \"57C750326F…\n",
      "$ rideable_type      \u001b[3m\u001b[90m<chr>\u001b[39m\u001b[23m \"classic_bike\", \"electric_bike\", \"electric_bike\", \"…\n",
      "$ started_at         \u001b[3m\u001b[90m<dttm>\u001b[39m\u001b[23m 2021-01-24 19:15:00, 2021-01-23 12:57:00, 2021-01-…\n",
      "$ ended_at           \u001b[3m\u001b[90m<dttm>\u001b[39m\u001b[23m 2021-01-24 19:22:00, 2021-01-23 13:02:00, 2021-01-…\n",
      "$ start_station_name \u001b[3m\u001b[90m<chr>\u001b[39m\u001b[23m \"California Ave & Cortez St\", \"California Ave & Cor…\n",
      "$ start_station_id   \u001b[3m\u001b[90m<chr>\u001b[39m\u001b[23m \"17660\", \"17660\", \"17660\", \"17660\", \"17660\", \"17660…\n",
      "$ end_station_name   \u001b[3m\u001b[90m<chr>\u001b[39m\u001b[23m \"Wood St & Augusta Blvd\", \"California Ave & North A…\n",
      "$ end_station_id     \u001b[3m\u001b[90m<chr>\u001b[39m\u001b[23m \"657\", \"13258\", \"657\", \"657\", \"657\", \"KA1504000135\"…\n",
      "$ start_lat          \u001b[3m\u001b[90m<dbl>\u001b[39m\u001b[23m 41.90036, 41.90041, 41.90037, 41.90038, 41.90036, 4…\n",
      "$ start_lng          \u001b[3m\u001b[90m<dbl>\u001b[39m\u001b[23m -87.69670, -87.69673, -87.69669, -87.69672, -87.696…\n",
      "$ end_lat            \u001b[3m\u001b[90m<dbl>\u001b[39m\u001b[23m 41.89918, 41.91044, 41.89918, 41.89915, 41.89918, 4…\n",
      "$ end_lng            \u001b[3m\u001b[90m<dbl>\u001b[39m\u001b[23m -87.67220, -87.69689, -87.67218, -87.67218, -87.672…\n",
      "$ member_casual      \u001b[3m\u001b[90m<chr>\u001b[39m\u001b[23m \"member\", \"member\", \"casual\", \"casual\", \"casual\", \"…\n",
      "$ ride_length        \u001b[3m\u001b[90m<drtn>\u001b[39m\u001b[23m 7 mins, 5 mins, 9 mins, 9 mins, 11 mins, 21 mins, …\n",
      "$ day_of_week        \u001b[3m\u001b[90m<ord>\u001b[39m\u001b[23m Sun, Sat, Sat, Sat, Sun, Fri, Tue, Sat, Wed, Fri, S…\n"
     ]
    }
   ],
   "source": [
    "# View dataframe structure\n",
    "glimpse(Trips2021)"
   ]
  },
  {
   "cell_type": "code",
   "execution_count": 15,
   "id": "4d2eb625",
   "metadata": {
    "execution": {
     "iopub.execute_input": "2023-05-29T17:12:08.433831Z",
     "iopub.status.busy": "2023-05-29T17:12:08.432648Z",
     "iopub.status.idle": "2023-05-29T17:12:12.379222Z",
     "shell.execute_reply": "2023-05-29T17:12:12.377792Z"
    },
    "papermill": {
     "duration": 3.966722,
     "end_time": "2023-05-29T17:12:12.381710",
     "exception": false,
     "start_time": "2023-05-29T17:12:08.414988",
     "status": "completed"
    },
    "tags": []
   },
   "outputs": [],
   "source": [
    "# Add date, month and year columns using the start time variable\n",
    "Trips2021$date <- as.Date(Trips2021$started_at)\n",
    "Trips2021$month <- format(as.Date(Trips2021$date), \"%B\")\n",
    "Trips2021$day <- format(as.Date(Trips2021$date), \"%d\")\n",
    "Trips2021$year <- format(as.Date(Trips2021$date), \"%Y\")"
   ]
  },
  {
   "cell_type": "markdown",
   "id": "b0f4e7de",
   "metadata": {
    "papermill": {
     "duration": 0.015783,
     "end_time": "2023-05-29T17:12:12.413917",
     "exception": false,
     "start_time": "2023-05-29T17:12:12.398134",
     "status": "completed"
    },
    "tags": []
   },
   "source": [
    "New columns have been added and will like to see how the dataframe is now"
   ]
  },
  {
   "cell_type": "code",
   "execution_count": 16,
   "id": "cba33646",
   "metadata": {
    "execution": {
     "iopub.execute_input": "2023-05-29T17:12:12.448954Z",
     "iopub.status.busy": "2023-05-29T17:12:12.447662Z",
     "iopub.status.idle": "2023-05-29T17:12:15.537378Z",
     "shell.execute_reply": "2023-05-29T17:12:15.535528Z"
    },
    "papermill": {
     "duration": 3.109777,
     "end_time": "2023-05-29T17:12:15.539458",
     "exception": false,
     "start_time": "2023-05-29T17:12:12.429681",
     "status": "completed"
    },
    "tags": []
   },
   "outputs": [
    {
     "data": {
      "text/plain": [
       "   ride_id          rideable_type        started_at                 \n",
       " Length:4491263     Length:4491263     Min.   :2020-12-01 00:07:00  \n",
       " Class :character   Class :character   1st Qu.:2021-05-28 09:28:00  \n",
       " Mode  :character   Mode  :character   Median :2021-07-22 13:45:00  \n",
       "                                       Mean   :2021-07-14 02:56:53  \n",
       "                                       3rd Qu.:2021-09-11 11:34:00  \n",
       "                                       Max.   :2021-11-30 23:59:00  \n",
       "                                                                    \n",
       "    ended_at                   start_station_name start_station_id  \n",
       " Min.   :2020-12-01 00:10:00   Length:4491263     Length:4491263    \n",
       " 1st Qu.:2021-05-28 09:46:00   Class :character   Class :character  \n",
       " Median :2021-07-22 14:11:00   Mode  :character   Mode  :character  \n",
       " Mean   :2021-07-14 03:19:00                                        \n",
       " 3rd Qu.:2021-09-11 11:58:00                                        \n",
       " Max.   :2021-12-01 00:15:00                                        \n",
       "                                                                    \n",
       " end_station_name   end_station_id       start_lat       start_lng     \n",
       " Length:4491263     Length:4491263     Min.   :41.65   Min.   :-87.83  \n",
       " Class :character   Class :character   1st Qu.:41.88   1st Qu.:-87.66  \n",
       " Mode  :character   Mode  :character   Median :41.90   Median :-87.64  \n",
       "                                       Mean   :41.90   Mean   :-87.64  \n",
       "                                       3rd Qu.:41.93   3rd Qu.:-87.63  \n",
       "                                       Max.   :42.06   Max.   :-87.53  \n",
       "                                                                       \n",
       "    end_lat         end_lng       member_casual      ride_length      \n",
       " Min.   :41.65   Min.   :-87.83   Length:4491263     Length:4491263   \n",
       " 1st Qu.:41.88   1st Qu.:-87.66   Class :character   Class :difftime  \n",
       " Median :41.90   Median :-87.64   Mode  :character   Mode  :numeric   \n",
       " Mean   :41.90   Mean   :-87.64                                       \n",
       " 3rd Qu.:41.93   3rd Qu.:-87.63                                       \n",
       " Max.   :42.17   Max.   :-87.52                                       \n",
       "                                                                      \n",
       " day_of_week       date               month               day           \n",
       " Sun:707620   Min.   :2020-11-30   Length:4491263     Length:4491263    \n",
       " Mon:564101   1st Qu.:2021-05-28   Class :character   Class :character  \n",
       " Tue:596155   Median :2021-07-22   Mode  :character   Mode  :character  \n",
       " Wed:598574   Mean   :2021-07-13                                        \n",
       " Thu:577665   3rd Qu.:2021-09-11                                        \n",
       " Fri:634980   Max.   :2021-11-30                                        \n",
       " Sat:812168                                                             \n",
       "     year          \n",
       " Length:4491263    \n",
       " Class :character  \n",
       " Mode  :character  \n",
       "                   \n",
       "                   \n",
       "                   \n",
       "                   "
      ]
     },
     "metadata": {},
     "output_type": "display_data"
    },
    {
     "data": {
      "text/html": [
       "<table class=\"dataframe\">\n",
       "<caption>A data.frame: 50 × 19</caption>\n",
       "<thead>\n",
       "\t<tr><th></th><th scope=col>ride_id</th><th scope=col>rideable_type</th><th scope=col>started_at</th><th scope=col>ended_at</th><th scope=col>start_station_name</th><th scope=col>start_station_id</th><th scope=col>end_station_name</th><th scope=col>end_station_id</th><th scope=col>start_lat</th><th scope=col>start_lng</th><th scope=col>end_lat</th><th scope=col>end_lng</th><th scope=col>member_casual</th><th scope=col>ride_length</th><th scope=col>day_of_week</th><th scope=col>date</th><th scope=col>month</th><th scope=col>day</th><th scope=col>year</th></tr>\n",
       "\t<tr><th></th><th scope=col>&lt;chr&gt;</th><th scope=col>&lt;chr&gt;</th><th scope=col>&lt;dttm&gt;</th><th scope=col>&lt;dttm&gt;</th><th scope=col>&lt;chr&gt;</th><th scope=col>&lt;chr&gt;</th><th scope=col>&lt;chr&gt;</th><th scope=col>&lt;chr&gt;</th><th scope=col>&lt;dbl&gt;</th><th scope=col>&lt;dbl&gt;</th><th scope=col>&lt;dbl&gt;</th><th scope=col>&lt;dbl&gt;</th><th scope=col>&lt;chr&gt;</th><th scope=col>&lt;drtn&gt;</th><th scope=col>&lt;ord&gt;</th><th scope=col>&lt;date&gt;</th><th scope=col>&lt;chr&gt;</th><th scope=col>&lt;chr&gt;</th><th scope=col>&lt;chr&gt;</th></tr>\n",
       "</thead>\n",
       "<tbody>\n",
       "\t<tr><th scope=row>1</th><td>B9F73448DFBE0D45</td><td>classic_bike </td><td>2021-01-24 19:15:00</td><td>2021-01-24 19:22:00</td><td><span style=white-space:pre-wrap>California Ave &amp; Cortez St  </span></td><td><span style=white-space:pre-wrap>17660       </span></td><td><span style=white-space:pre-wrap>Wood St &amp; Augusta Blvd         </span></td><td><span style=white-space:pre-wrap>657         </span></td><td>41.90036</td><td>-87.69670</td><td>41.89918</td><td>-87.67220</td><td>member</td><td> 7 mins</td><td>Sun</td><td>2021-01-24</td><td>January</td><td>24</td><td>2021</td></tr>\n",
       "\t<tr><th scope=row>2</th><td>457C7F4B5D3DA135</td><td>electric_bike</td><td>2021-01-23 12:57:00</td><td>2021-01-23 13:02:00</td><td><span style=white-space:pre-wrap>California Ave &amp; Cortez St  </span></td><td><span style=white-space:pre-wrap>17660       </span></td><td><span style=white-space:pre-wrap>California Ave &amp; North Ave     </span></td><td><span style=white-space:pre-wrap>13258       </span></td><td>41.90041</td><td>-87.69673</td><td>41.91044</td><td>-87.69689</td><td>member</td><td> 5 mins</td><td>Sat</td><td>2021-01-23</td><td>January</td><td>23</td><td>2021</td></tr>\n",
       "\t<tr><th scope=row>3</th><td>57C750326F9FDABE</td><td>electric_bike</td><td>2021-01-09 15:28:00</td><td>2021-01-09 15:37:00</td><td><span style=white-space:pre-wrap>California Ave &amp; Cortez St  </span></td><td><span style=white-space:pre-wrap>17660       </span></td><td><span style=white-space:pre-wrap>Wood St &amp; Augusta Blvd         </span></td><td><span style=white-space:pre-wrap>657         </span></td><td>41.90037</td><td>-87.69669</td><td>41.89918</td><td>-87.67218</td><td>casual</td><td> 9 mins</td><td>Sat</td><td>2021-01-09</td><td>January</td><td>09</td><td>2021</td></tr>\n",
       "\t<tr><th scope=row>4</th><td>4D518C65E338D070</td><td>electric_bike</td><td>2021-01-09 15:28:00</td><td>2021-01-09 15:37:00</td><td><span style=white-space:pre-wrap>California Ave &amp; Cortez St  </span></td><td><span style=white-space:pre-wrap>17660       </span></td><td><span style=white-space:pre-wrap>Wood St &amp; Augusta Blvd         </span></td><td><span style=white-space:pre-wrap>657         </span></td><td>41.90038</td><td>-87.69672</td><td>41.89915</td><td>-87.67218</td><td>casual</td><td> 9 mins</td><td>Sat</td><td>2021-01-09</td><td>January</td><td>09</td><td>2021</td></tr>\n",
       "\t<tr><th scope=row>5</th><td>9D08A3AFF410474D</td><td>classic_bike </td><td>2021-01-24 15:56:00</td><td>2021-01-24 16:07:00</td><td><span style=white-space:pre-wrap>California Ave &amp; Cortez St  </span></td><td><span style=white-space:pre-wrap>17660       </span></td><td><span style=white-space:pre-wrap>Wood St &amp; Augusta Blvd         </span></td><td><span style=white-space:pre-wrap>657         </span></td><td>41.90036</td><td>-87.69670</td><td>41.89918</td><td>-87.67220</td><td>casual</td><td>11 mins</td><td>Sun</td><td>2021-01-24</td><td>January</td><td>24</td><td>2021</td></tr>\n",
       "\t<tr><th scope=row>6</th><td>49FCE1F8598F12C6</td><td>electric_bike</td><td>2021-01-22 15:15:00</td><td>2021-01-22 15:36:00</td><td><span style=white-space:pre-wrap>California Ave &amp; Cortez St  </span></td><td><span style=white-space:pre-wrap>17660       </span></td><td><span style=white-space:pre-wrap>Wells St &amp; Elm St              </span></td><td>KA1504000135</td><td>41.90037</td><td>-87.69679</td><td>41.90327</td><td>-87.63446</td><td>member</td><td>21 mins</td><td>Fri</td><td>2021-01-22</td><td>January</td><td>22</td><td>2021</td></tr>\n",
       "\t<tr><th scope=row>7</th><td>0FEED5C2C8749A1C</td><td>classic_bike </td><td>2021-01-05 10:33:00</td><td>2021-01-05 10:39:00</td><td><span style=white-space:pre-wrap>California Ave &amp; Cortez St  </span></td><td><span style=white-space:pre-wrap>17660       </span></td><td>Sacramento Blvd &amp; Franklin Blvd</td><td>KA1504000113</td><td>41.90036</td><td>-87.69670</td><td>41.89047</td><td>-87.70261</td><td>member</td><td> 6 mins</td><td>Tue</td><td>2021-01-05</td><td>January</td><td>05</td><td>2021</td></tr>\n",
       "\t<tr><th scope=row>8</th><td>E276FD43BDED6420</td><td>classic_bike </td><td>2021-01-30 11:59:00</td><td>2021-01-30 12:03:00</td><td><span style=white-space:pre-wrap>California Ave &amp; Cortez St  </span></td><td><span style=white-space:pre-wrap>17660       </span></td><td><span style=white-space:pre-wrap>Western Ave &amp; Walton St        </span></td><td>KA1504000103</td><td>41.90036</td><td>-87.69670</td><td>41.89842</td><td>-87.68660</td><td>member</td><td> 4 mins</td><td>Sat</td><td>2021-01-30</td><td>January</td><td>30</td><td>2021</td></tr>\n",
       "\t<tr><th scope=row>9</th><td>88BFCF66C2D585EC</td><td>electric_bike</td><td>2021-01-27 07:27:00</td><td>2021-01-27 07:45:00</td><td><span style=white-space:pre-wrap>California Ave &amp; Cortez St  </span></td><td><span style=white-space:pre-wrap>17660       </span></td><td><span style=white-space:pre-wrap>Damen Ave &amp; Clybourn Ave       </span></td><td><span style=white-space:pre-wrap>13271       </span></td><td>41.90031</td><td>-87.69679</td><td>41.93184</td><td>-87.67781</td><td>member</td><td>18 mins</td><td>Wed</td><td>2021-01-27</td><td>January</td><td>27</td><td>2021</td></tr>\n",
       "\t<tr><th scope=row>10</th><td>8BD6F6510F5C8BD2</td><td>electric_bike</td><td>2021-01-15 08:54:00</td><td>2021-01-15 09:11:00</td><td><span style=white-space:pre-wrap>California Ave &amp; Cortez St  </span></td><td><span style=white-space:pre-wrap>17660       </span></td><td><span style=white-space:pre-wrap>Damen Ave &amp; Clybourn Ave       </span></td><td><span style=white-space:pre-wrap>13271       </span></td><td>41.90036</td><td>-87.69663</td><td>41.93192</td><td>-87.67786</td><td>member</td><td>17 mins</td><td>Fri</td><td>2021-01-15</td><td>January</td><td>15</td><td>2021</td></tr>\n",
       "\t<tr><th scope=row>11</th><td>84F11CC620F83254</td><td>electric_bike</td><td>2021-01-10 08:05:00</td><td>2021-01-10 08:13:00</td><td><span style=white-space:pre-wrap>California Ave &amp; Cortez St  </span></td><td><span style=white-space:pre-wrap>17660       </span></td><td><span style=white-space:pre-wrap>Leavitt St &amp; North Ave         </span></td><td>TA1308000005</td><td>41.90040</td><td>-87.69671</td><td>41.91012</td><td>-87.68240</td><td>casual</td><td> 8 mins</td><td>Sun</td><td>2021-01-10</td><td>January</td><td>10</td><td>2021</td></tr>\n",
       "\t<tr><th scope=row>12</th><td>C84E5DD4D74F4FC0</td><td>electric_bike</td><td>2021-01-18 13:30:00</td><td>2021-01-18 13:37:00</td><td><span style=white-space:pre-wrap>California Ave &amp; Cortez St  </span></td><td><span style=white-space:pre-wrap>17660       </span></td><td><span style=white-space:pre-wrap>Leavitt St &amp; North Ave         </span></td><td>TA1308000005</td><td>41.90041</td><td>-87.69671</td><td>41.91015</td><td>-87.68246</td><td>casual</td><td> 7 mins</td><td>Mon</td><td>2021-01-18</td><td>January</td><td>18</td><td>2021</td></tr>\n",
       "\t<tr><th scope=row>13</th><td>00AEF8EE4622147F</td><td>electric_bike</td><td>2021-01-07 09:45:00</td><td>2021-01-07 09:52:00</td><td><span style=white-space:pre-wrap>California Ave &amp; Cortez St  </span></td><td><span style=white-space:pre-wrap>17660       </span></td><td><span style=white-space:pre-wrap>Leavitt St &amp; North Ave         </span></td><td>TA1308000005</td><td>41.90041</td><td>-87.69685</td><td>41.91013</td><td>-87.68244</td><td>casual</td><td> 7 mins</td><td>Thu</td><td>2021-01-07</td><td>January</td><td>07</td><td>2021</td></tr>\n",
       "\t<tr><th scope=row>14</th><td>55DAB9E709B61EA5</td><td>classic_bike </td><td>2021-01-11 11:20:00</td><td>2021-01-11 11:29:00</td><td><span style=white-space:pre-wrap>California Ave &amp; Cortez St  </span></td><td><span style=white-space:pre-wrap>17660       </span></td><td><span style=white-space:pre-wrap>Leavitt St &amp; North Ave         </span></td><td>TA1308000005</td><td>41.90036</td><td>-87.69670</td><td>41.91051</td><td>-87.68239</td><td>casual</td><td> 9 mins</td><td>Mon</td><td>2021-01-11</td><td>January</td><td>11</td><td>2021</td></tr>\n",
       "\t<tr><th scope=row>15</th><td>3E41D6E4EFE87DD9</td><td>classic_bike </td><td>2021-01-22 21:54:00</td><td>2021-01-22 22:04:00</td><td><span style=white-space:pre-wrap>California Ave &amp; Cortez St  </span></td><td><span style=white-space:pre-wrap>17660       </span></td><td><span style=white-space:pre-wrap>Honore St &amp; Division St        </span></td><td>TA1305000034</td><td>41.90036</td><td>-87.69670</td><td>41.90312</td><td>-87.67394</td><td>casual</td><td>10 mins</td><td>Fri</td><td>2021-01-22</td><td>January</td><td>22</td><td>2021</td></tr>\n",
       "\t<tr><th scope=row>16</th><td>FCE0D29EB2DF84DA</td><td>electric_bike</td><td>2021-01-16 01:05:00</td><td>2021-01-16 01:19:00</td><td><span style=white-space:pre-wrap>California Ave &amp; Cortez St  </span></td><td><span style=white-space:pre-wrap>17660       </span></td><td><span style=white-space:pre-wrap>Ogden Ave &amp; Chicago Ave        </span></td><td>TA1305000020</td><td>41.90031</td><td>-87.69683</td><td>41.89636</td><td>-87.65421</td><td>casual</td><td>14 mins</td><td>Sat</td><td>2021-01-16</td><td>January</td><td>16</td><td>2021</td></tr>\n",
       "\t<tr><th scope=row>17</th><td>77E53236C1F0EA3F</td><td>classic_bike </td><td>2021-01-28 20:35:00</td><td>2021-01-28 21:06:00</td><td>Halsted St &amp; North Branch St</td><td>KA1504000117</td><td><span style=white-space:pre-wrap>Southport Ave &amp; Clark St       </span></td><td>TA1308000047</td><td>41.89937</td><td>-87.64848</td><td>41.95708</td><td>-87.66420</td><td>member</td><td>31 mins</td><td>Thu</td><td>2021-01-28</td><td>January</td><td>28</td><td>2021</td></tr>\n",
       "\t<tr><th scope=row>18</th><td>72335684BF7A0943</td><td>electric_bike</td><td>2021-01-09 00:35:00</td><td>2021-01-09 00:43:00</td><td>Halsted St &amp; North Branch St</td><td>KA1504000117</td><td><span style=white-space:pre-wrap>Bissell St &amp; Armitage Ave      </span></td><td><span style=white-space:pre-wrap>13059       </span></td><td>41.89936</td><td>-87.64849</td><td>41.91799</td><td>-87.65250</td><td>member</td><td> 8 mins</td><td>Sat</td><td>2021-01-08</td><td>January</td><td>08</td><td>2021</td></tr>\n",
       "\t<tr><th scope=row>19</th><td>625DDA8DCCCCB3E2</td><td>classic_bike </td><td>2021-01-17 15:07:00</td><td>2021-01-17 15:20:00</td><td><span style=white-space:pre-wrap>Glenwood Ave &amp; Touhy Ave    </span></td><td><span style=white-space:pre-wrap>525         </span></td><td><span style=white-space:pre-wrap>Broadway &amp; Granville Ave       </span></td><td><span style=white-space:pre-wrap>15571       </span></td><td>42.01270</td><td>-87.66606</td><td>41.99478</td><td>-87.66028</td><td>member</td><td>13 mins</td><td>Sun</td><td>2021-01-17</td><td>January</td><td>17</td><td>2021</td></tr>\n",
       "\t<tr><th scope=row>20</th><td>61C6977EA354684C</td><td>electric_bike</td><td>2021-01-25 15:39:00</td><td>2021-01-25 15:52:00</td><td>Halsted St &amp; North Branch St</td><td>KA1504000117</td><td><span style=white-space:pre-wrap>Clark St &amp; Lincoln Ave         </span></td><td><span style=white-space:pre-wrap>13179       </span></td><td>41.89933</td><td>-87.64847</td><td>41.91576</td><td>-87.63480</td><td>member</td><td>13 mins</td><td>Mon</td><td>2021-01-25</td><td>January</td><td>25</td><td>2021</td></tr>\n",
       "\t<tr><th scope=row>21</th><td>07F1F6A27AB0436E</td><td>classic_bike </td><td>2021-01-11 15:32:00</td><td>2021-01-11 15:35:00</td><td><span style=white-space:pre-wrap>California Ave &amp; Cortez St  </span></td><td><span style=white-space:pre-wrap>17660       </span></td><td><span style=white-space:pre-wrap>California Ave &amp; Division St   </span></td><td><span style=white-space:pre-wrap>13256       </span></td><td>41.90036</td><td>-87.69670</td><td>41.90303</td><td>-87.69747</td><td>member</td><td> 3 mins</td><td>Mon</td><td>2021-01-11</td><td>January</td><td>11</td><td>2021</td></tr>\n",
       "\t<tr><th scope=row>22</th><td>09BD39967CCCBFB3</td><td>classic_bike </td><td>2021-01-14 13:39:00</td><td>2021-01-14 13:40:00</td><td><span style=white-space:pre-wrap>California Ave &amp; Cortez St  </span></td><td><span style=white-space:pre-wrap>17660       </span></td><td><span style=white-space:pre-wrap>California Ave &amp; Division St   </span></td><td><span style=white-space:pre-wrap>13256       </span></td><td>41.90036</td><td>-87.69670</td><td>41.90303</td><td>-87.69747</td><td>member</td><td> 1 mins</td><td>Thu</td><td>2021-01-14</td><td>January</td><td>14</td><td>2021</td></tr>\n",
       "\t<tr><th scope=row>23</th><td>D57B11E4C1160596</td><td>classic_bike </td><td>2021-01-07 13:31:00</td><td>2021-01-07 13:41:00</td><td><span style=white-space:pre-wrap>California Ave &amp; Cortez St  </span></td><td><span style=white-space:pre-wrap>17660       </span></td><td>California Ave &amp; Milwaukee Ave </td><td><span style=white-space:pre-wrap>13084       </span></td><td>41.90036</td><td>-87.69670</td><td>41.92269</td><td>-87.69715</td><td>member</td><td>10 mins</td><td>Thu</td><td>2021-01-07</td><td>January</td><td>07</td><td>2021</td></tr>\n",
       "\t<tr><th scope=row>24</th><td>85F441B67B05AB0D</td><td>classic_bike </td><td>2021-01-06 07:51:00</td><td>2021-01-06 07:56:00</td><td><span style=white-space:pre-wrap>Michigan Ave &amp; 8th St       </span></td><td><span style=white-space:pre-wrap>623         </span></td><td><span style=white-space:pre-wrap>LaSalle St &amp; Jackson Blvd      </span></td><td>TA1309000004</td><td>41.87277</td><td>-87.62398</td><td>41.87817</td><td>-87.63193</td><td>member</td><td> 5 mins</td><td>Wed</td><td>2021-01-06</td><td>January</td><td>06</td><td>2021</td></tr>\n",
       "\t<tr><th scope=row>25</th><td>144A7A47CA9BFB21</td><td>classic_bike </td><td>2021-01-06 16:00:00</td><td>2021-01-06 16:17:00</td><td><span style=white-space:pre-wrap>Glenwood Ave &amp; Touhy Ave    </span></td><td><span style=white-space:pre-wrap>525         </span></td><td><span style=white-space:pre-wrap>Clark St &amp; Elmdale Ave         </span></td><td>KA1504000148</td><td>42.01270</td><td>-87.66606</td><td>41.99086</td><td>-87.66972</td><td>casual</td><td>17 mins</td><td>Wed</td><td>2021-01-06</td><td>January</td><td>06</td><td>2021</td></tr>\n",
       "\t<tr><th scope=row>26</th><td>7EEE4DF07C43AE57</td><td>electric_bike</td><td>2021-01-06 17:26:00</td><td>2021-01-06 17:31:00</td><td><span style=white-space:pre-wrap>California Ave &amp; Cortez St  </span></td><td><span style=white-space:pre-wrap>17660       </span></td><td><span style=white-space:pre-wrap>California Ave &amp; North Ave     </span></td><td><span style=white-space:pre-wrap>13258       </span></td><td>41.90040</td><td>-87.69674</td><td>41.91042</td><td>-87.69691</td><td>member</td><td> 5 mins</td><td>Wed</td><td>2021-01-06</td><td>January</td><td>06</td><td>2021</td></tr>\n",
       "\t<tr><th scope=row>27</th><td>43EBF05C104DA09E</td><td>electric_bike</td><td>2021-01-03 16:59:00</td><td>2021-01-03 17:05:00</td><td><span style=white-space:pre-wrap>California Ave &amp; Cortez St  </span></td><td><span style=white-space:pre-wrap>17660       </span></td><td><span style=white-space:pre-wrap>California Ave &amp; North Ave     </span></td><td><span style=white-space:pre-wrap>13258       </span></td><td>41.90028</td><td>-87.69672</td><td>41.91044</td><td>-87.69690</td><td>member</td><td> 6 mins</td><td>Sun</td><td>2021-01-03</td><td>January</td><td>03</td><td>2021</td></tr>\n",
       "\t<tr><th scope=row>28</th><td>AD2B9AEFCD0B3AE2</td><td>classic_bike </td><td>2021-01-11 17:24:00</td><td>2021-01-11 17:29:00</td><td><span style=white-space:pre-wrap>California Ave &amp; Cortez St  </span></td><td><span style=white-space:pre-wrap>17660       </span></td><td><span style=white-space:pre-wrap>California Ave &amp; North Ave     </span></td><td><span style=white-space:pre-wrap>13258       </span></td><td>41.90036</td><td>-87.69670</td><td>41.91044</td><td>-87.69720</td><td>member</td><td> 5 mins</td><td>Mon</td><td>2021-01-11</td><td>January</td><td>11</td><td>2021</td></tr>\n",
       "\t<tr><th scope=row>29</th><td>80963048BE26AF85</td><td>classic_bike </td><td>2021-01-10 15:01:00</td><td>2021-01-10 15:07:00</td><td><span style=white-space:pre-wrap>California Ave &amp; Cortez St  </span></td><td><span style=white-space:pre-wrap>17660       </span></td><td><span style=white-space:pre-wrap>Smith Park                     </span></td><td><span style=white-space:pre-wrap>643         </span></td><td>41.90036</td><td>-87.69670</td><td>41.89205</td><td>-87.68940</td><td>member</td><td> 6 mins</td><td>Sun</td><td>2021-01-10</td><td>January</td><td>10</td><td>2021</td></tr>\n",
       "\t<tr><th scope=row>30</th><td>7DABDE2732700245</td><td>classic_bike </td><td>2021-01-16 22:09:00</td><td>2021-01-16 22:39:00</td><td>Halsted St &amp; North Branch St</td><td>KA1504000117</td><td>Ashland Ave &amp; Belle Plaine Ave </td><td><span style=white-space:pre-wrap>13249       </span></td><td>41.89937</td><td>-87.64848</td><td>41.95606</td><td>-87.66884</td><td>member</td><td>30 mins</td><td>Sat</td><td>2021-01-16</td><td>January</td><td>16</td><td>2021</td></tr>\n",
       "\t<tr><th scope=row>31</th><td>7DEF919722AD7359</td><td>classic_bike </td><td>2021-01-23 14:56:00</td><td>2021-01-23 15:20:00</td><td><span style=white-space:pre-wrap>Shedd Aquarium              </span></td><td><span style=white-space:pre-wrap>15544       </span></td><td><span style=white-space:pre-wrap>Streeter Dr &amp; Grand Ave        </span></td><td><span style=white-space:pre-wrap>13022       </span></td><td>41.86723</td><td>-87.61536</td><td>41.89228</td><td>-87.61204</td><td>member</td><td>24 mins</td><td>Sat</td><td>2021-01-23</td><td>January</td><td>23</td><td>2021</td></tr>\n",
       "\t<tr><th scope=row>32</th><td>5B796A9FDF9B13A4</td><td>electric_bike</td><td>2021-01-08 09:34:00</td><td>2021-01-08 09:52:00</td><td><span style=white-space:pre-wrap>Sedgwick St &amp; North Ave     </span></td><td>TA1307000038</td><td><span style=white-space:pre-wrap>Franklin St &amp; Chicago Ave      </span></td><td><span style=white-space:pre-wrap>13017       </span></td><td>41.91136</td><td>-87.63867</td><td>41.89685</td><td>-87.63590</td><td>member</td><td>18 mins</td><td>Fri</td><td>2021-01-08</td><td>January</td><td>08</td><td>2021</td></tr>\n",
       "\t<tr><th scope=row>33</th><td>F058BD483E1D2A8F</td><td>electric_bike</td><td>2021-01-29 16:17:00</td><td>2021-01-29 16:37:00</td><td><span style=white-space:pre-wrap>Shedd Aquarium              </span></td><td><span style=white-space:pre-wrap>15544       </span></td><td><span style=white-space:pre-wrap>Streeter Dr &amp; Grand Ave        </span></td><td><span style=white-space:pre-wrap>13022       </span></td><td>41.86730</td><td>-87.61535</td><td>41.89235</td><td>-87.61224</td><td>casual</td><td>20 mins</td><td>Fri</td><td>2021-01-29</td><td>January</td><td>29</td><td>2021</td></tr>\n",
       "\t<tr><th scope=row>34</th><td>961642F4B0CC2EDC</td><td>electric_bike</td><td>2021-01-21 19:46:00</td><td>2021-01-21 19:49:00</td><td><span style=white-space:pre-wrap>Rush St &amp; Hubbard St        </span></td><td>KA1503000044</td><td><span style=white-space:pre-wrap>Dearborn St &amp; Erie St          </span></td><td><span style=white-space:pre-wrap>13045       </span></td><td>41.89007</td><td>-87.62659</td><td>41.89374</td><td>-87.62925</td><td>member</td><td> 3 mins</td><td>Thu</td><td>2021-01-21</td><td>January</td><td>21</td><td>2021</td></tr>\n",
       "\t<tr><th scope=row>35</th><td>DF9C855E2A55D092</td><td>classic_bike </td><td>2021-01-25 18:40:00</td><td>2021-01-25 19:01:00</td><td>Halsted St &amp; North Branch St</td><td>KA1504000117</td><td><span style=white-space:pre-wrap>Fairbanks Ct &amp; Grand Ave       </span></td><td>TA1305000003</td><td>41.89937</td><td>-87.64848</td><td>41.89185</td><td>-87.62058</td><td>casual</td><td>21 mins</td><td>Mon</td><td>2021-01-25</td><td>January</td><td>25</td><td>2021</td></tr>\n",
       "\t<tr><th scope=row>36</th><td>7297C6B623D5F03B</td><td>classic_bike </td><td>2021-01-04 18:56:00</td><td>2021-01-04 19:23:00</td><td>Halsted St &amp; North Branch St</td><td>KA1504000117</td><td><span style=white-space:pre-wrap>Fairbanks Ct &amp; Grand Ave       </span></td><td>TA1305000003</td><td>41.89937</td><td>-87.64848</td><td>41.89185</td><td>-87.62058</td><td>casual</td><td>27 mins</td><td>Mon</td><td>2021-01-04</td><td>January</td><td>04</td><td>2021</td></tr>\n",
       "\t<tr><th scope=row>37</th><td>E87068221DB50BC2</td><td>classic_bike </td><td>2021-01-10 17:18:00</td><td>2021-01-10 17:38:00</td><td>Halsted St &amp; North Branch St</td><td>KA1504000117</td><td><span style=white-space:pre-wrap>Fairbanks Ct &amp; Grand Ave       </span></td><td>TA1305000003</td><td>41.89937</td><td>-87.64848</td><td>41.89185</td><td>-87.62058</td><td>casual</td><td>20 mins</td><td>Sun</td><td>2021-01-10</td><td>January</td><td>10</td><td>2021</td></tr>\n",
       "\t<tr><th scope=row>38</th><td>106B20BC04EC1C5B</td><td>classic_bike </td><td>2021-01-28 19:44:00</td><td>2021-01-28 20:08:00</td><td>Halsted St &amp; North Branch St</td><td>KA1504000117</td><td><span style=white-space:pre-wrap>Fairbanks Ct &amp; Grand Ave       </span></td><td>TA1305000003</td><td>41.89937</td><td>-87.64848</td><td>41.89185</td><td>-87.62058</td><td>casual</td><td>24 mins</td><td>Thu</td><td>2021-01-28</td><td>January</td><td>28</td><td>2021</td></tr>\n",
       "\t<tr><th scope=row>39</th><td>FF4F2DF286A9B732</td><td>classic_bike </td><td>2021-01-13 18:46:00</td><td>2021-01-13 19:05:00</td><td>Halsted St &amp; North Branch St</td><td>KA1504000117</td><td><span style=white-space:pre-wrap>Fairbanks Ct &amp; Grand Ave       </span></td><td>TA1305000003</td><td>41.89937</td><td>-87.64848</td><td>41.89185</td><td>-87.62058</td><td>casual</td><td>19 mins</td><td>Wed</td><td>2021-01-13</td><td>January</td><td>13</td><td>2021</td></tr>\n",
       "\t<tr><th scope=row>40</th><td>7ADB90D27AD2671D</td><td>electric_bike</td><td>2021-01-17 17:48:00</td><td>2021-01-17 18:10:00</td><td>Campbell Ave &amp; Montrose Ave </td><td><span style=white-space:pre-wrap>15623       </span></td><td><span style=white-space:pre-wrap>Sheridan Rd &amp; Irving Park Rd   </span></td><td><span style=white-space:pre-wrap>13063       </span></td><td>41.96155</td><td>-87.69118</td><td>41.95410</td><td>-87.65436</td><td>member</td><td>22 mins</td><td>Sun</td><td>2021-01-17</td><td>January</td><td>17</td><td>2021</td></tr>\n",
       "\t<tr><th scope=row>41</th><td>30FC2EFABAE5B054</td><td>classic_bike </td><td>2021-01-09 13:36:00</td><td>2021-01-09 14:02:00</td><td>Campbell Ave &amp; Montrose Ave </td><td><span style=white-space:pre-wrap>15623       </span></td><td><span style=white-space:pre-wrap>Western Ave &amp; Roscoe St        </span></td><td><span style=white-space:pre-wrap>15634       </span></td><td>41.96153</td><td>-87.69117</td><td>41.94303</td><td>-87.68729</td><td>member</td><td>26 mins</td><td>Sat</td><td>2021-01-09</td><td>January</td><td>09</td><td>2021</td></tr>\n",
       "\t<tr><th scope=row>42</th><td>BA01E196C856DBD7</td><td>classic_bike </td><td>2021-01-18 09:05:00</td><td>2021-01-18 09:15:00</td><td><span style=white-space:pre-wrap>Michigan Ave &amp; 8th St       </span></td><td><span style=white-space:pre-wrap>623         </span></td><td><span style=white-space:pre-wrap>Field Blvd &amp; South Water St    </span></td><td><span style=white-space:pre-wrap>15534       </span></td><td>41.87277</td><td>-87.62398</td><td>41.88635</td><td>-87.61752</td><td>member</td><td>10 mins</td><td>Mon</td><td>2021-01-18</td><td>January</td><td>18</td><td>2021</td></tr>\n",
       "\t<tr><th scope=row>43</th><td>0A66CE23765828F4</td><td>classic_bike </td><td>2021-01-17 19:57:00</td><td>2021-01-17 20:07:00</td><td><span style=white-space:pre-wrap>Michigan Ave &amp; 8th St       </span></td><td><span style=white-space:pre-wrap>623         </span></td><td><span style=white-space:pre-wrap>Field Blvd &amp; South Water St    </span></td><td><span style=white-space:pre-wrap>15534       </span></td><td>41.87277</td><td>-87.62398</td><td>41.88635</td><td>-87.61752</td><td>member</td><td>10 mins</td><td>Sun</td><td>2021-01-17</td><td>January</td><td>17</td><td>2021</td></tr>\n",
       "\t<tr><th scope=row>44</th><td>80FD198C415C0F51</td><td>classic_bike </td><td>2021-01-16 20:01:00</td><td>2021-01-16 20:10:00</td><td><span style=white-space:pre-wrap>Michigan Ave &amp; 8th St       </span></td><td><span style=white-space:pre-wrap>623         </span></td><td><span style=white-space:pre-wrap>Field Blvd &amp; South Water St    </span></td><td><span style=white-space:pre-wrap>15534       </span></td><td>41.87277</td><td>-87.62398</td><td>41.88635</td><td>-87.61752</td><td>member</td><td> 9 mins</td><td>Sat</td><td>2021-01-16</td><td>January</td><td>16</td><td>2021</td></tr>\n",
       "\t<tr><th scope=row>45</th><td>43DB7DCE2339EC6D</td><td>classic_bike </td><td>2021-01-24 13:45:00</td><td>2021-01-24 14:14:00</td><td><span style=white-space:pre-wrap>California Ave &amp; Cortez St  </span></td><td><span style=white-space:pre-wrap>17660       </span></td><td><span style=white-space:pre-wrap>Lincoln Ave &amp; Fullerton Ave    </span></td><td>TA1309000058</td><td>41.90036</td><td>-87.69670</td><td>41.92591</td><td>-87.64926</td><td>member</td><td>29 mins</td><td>Sun</td><td>2021-01-24</td><td>January</td><td>24</td><td>2021</td></tr>\n",
       "\t<tr><th scope=row>46</th><td>A4700D25F56EF2F2</td><td>classic_bike </td><td>2021-01-25 15:19:00</td><td>2021-01-25 15:28:00</td><td>Halsted St &amp; North Branch St</td><td>KA1504000117</td><td><span style=white-space:pre-wrap>Clark St &amp; Elm St              </span></td><td>TA1307000039</td><td>41.89937</td><td>-87.64848</td><td>41.90297</td><td>-87.63128</td><td>member</td><td> 9 mins</td><td>Mon</td><td>2021-01-25</td><td>January</td><td>25</td><td>2021</td></tr>\n",
       "\t<tr><th scope=row>47</th><td>40BB0D14EC02D8A4</td><td>classic_bike </td><td>2021-01-21 18:54:00</td><td>2021-01-21 19:01:00</td><td><span style=white-space:pre-wrap>Rush St &amp; Hubbard St        </span></td><td>KA1503000044</td><td><span style=white-space:pre-wrap>Sedgwick St &amp; Huron St         </span></td><td>TA1307000062</td><td>41.89017</td><td>-87.62619</td><td>41.89467</td><td>-87.63844</td><td>member</td><td> 7 mins</td><td>Thu</td><td>2021-01-21</td><td>January</td><td>21</td><td>2021</td></tr>\n",
       "\t<tr><th scope=row>48</th><td>AE2C596F6BB322BC</td><td>classic_bike </td><td>2021-01-25 16:58:00</td><td>2021-01-25 17:04:00</td><td><span style=white-space:pre-wrap>Rush St &amp; Hubbard St        </span></td><td>KA1503000044</td><td><span style=white-space:pre-wrap>Sedgwick St &amp; Huron St         </span></td><td>TA1307000062</td><td>41.89017</td><td>-87.62619</td><td>41.89467</td><td>-87.63844</td><td>member</td><td> 6 mins</td><td>Mon</td><td>2021-01-25</td><td>January</td><td>25</td><td>2021</td></tr>\n",
       "\t<tr><th scope=row>49</th><td>54B37FD2DCB8A328</td><td>electric_bike</td><td>2021-01-14 18:35:00</td><td>2021-01-14 18:41:00</td><td><span style=white-space:pre-wrap>Rush St &amp; Hubbard St        </span></td><td>KA1503000044</td><td><span style=white-space:pre-wrap>Sedgwick St &amp; Huron St         </span></td><td>TA1307000062</td><td>41.89007</td><td>-87.62631</td><td>41.89471</td><td>-87.63815</td><td>member</td><td> 6 mins</td><td>Thu</td><td>2021-01-14</td><td>January</td><td>14</td><td>2021</td></tr>\n",
       "\t<tr><th scope=row>50</th><td>65E938AE5AD1D768</td><td>classic_bike </td><td>2021-01-11 17:27:00</td><td>2021-01-11 17:33:00</td><td><span style=white-space:pre-wrap>Rush St &amp; Hubbard St        </span></td><td>KA1503000044</td><td><span style=white-space:pre-wrap>Sedgwick St &amp; Huron St         </span></td><td>TA1307000062</td><td>41.89017</td><td>-87.62619</td><td>41.89467</td><td>-87.63844</td><td>member</td><td> 6 mins</td><td>Mon</td><td>2021-01-11</td><td>January</td><td>11</td><td>2021</td></tr>\n",
       "</tbody>\n",
       "</table>\n"
      ],
      "text/latex": [
       "A data.frame: 50 × 19\n",
       "\\begin{tabular}{r|lllllllllllllllllll}\n",
       "  & ride\\_id & rideable\\_type & started\\_at & ended\\_at & start\\_station\\_name & start\\_station\\_id & end\\_station\\_name & end\\_station\\_id & start\\_lat & start\\_lng & end\\_lat & end\\_lng & member\\_casual & ride\\_length & day\\_of\\_week & date & month & day & year\\\\\n",
       "  & <chr> & <chr> & <dttm> & <dttm> & <chr> & <chr> & <chr> & <chr> & <dbl> & <dbl> & <dbl> & <dbl> & <chr> & <drtn> & <ord> & <date> & <chr> & <chr> & <chr>\\\\\n",
       "\\hline\n",
       "\t1 & B9F73448DFBE0D45 & classic\\_bike  & 2021-01-24 19:15:00 & 2021-01-24 19:22:00 & California Ave \\& Cortez St   & 17660        & Wood St \\& Augusta Blvd          & 657          & 41.90036 & -87.69670 & 41.89918 & -87.67220 & member &  7 mins & Sun & 2021-01-24 & January & 24 & 2021\\\\\n",
       "\t2 & 457C7F4B5D3DA135 & electric\\_bike & 2021-01-23 12:57:00 & 2021-01-23 13:02:00 & California Ave \\& Cortez St   & 17660        & California Ave \\& North Ave      & 13258        & 41.90041 & -87.69673 & 41.91044 & -87.69689 & member &  5 mins & Sat & 2021-01-23 & January & 23 & 2021\\\\\n",
       "\t3 & 57C750326F9FDABE & electric\\_bike & 2021-01-09 15:28:00 & 2021-01-09 15:37:00 & California Ave \\& Cortez St   & 17660        & Wood St \\& Augusta Blvd          & 657          & 41.90037 & -87.69669 & 41.89918 & -87.67218 & casual &  9 mins & Sat & 2021-01-09 & January & 09 & 2021\\\\\n",
       "\t4 & 4D518C65E338D070 & electric\\_bike & 2021-01-09 15:28:00 & 2021-01-09 15:37:00 & California Ave \\& Cortez St   & 17660        & Wood St \\& Augusta Blvd          & 657          & 41.90038 & -87.69672 & 41.89915 & -87.67218 & casual &  9 mins & Sat & 2021-01-09 & January & 09 & 2021\\\\\n",
       "\t5 & 9D08A3AFF410474D & classic\\_bike  & 2021-01-24 15:56:00 & 2021-01-24 16:07:00 & California Ave \\& Cortez St   & 17660        & Wood St \\& Augusta Blvd          & 657          & 41.90036 & -87.69670 & 41.89918 & -87.67220 & casual & 11 mins & Sun & 2021-01-24 & January & 24 & 2021\\\\\n",
       "\t6 & 49FCE1F8598F12C6 & electric\\_bike & 2021-01-22 15:15:00 & 2021-01-22 15:36:00 & California Ave \\& Cortez St   & 17660        & Wells St \\& Elm St               & KA1504000135 & 41.90037 & -87.69679 & 41.90327 & -87.63446 & member & 21 mins & Fri & 2021-01-22 & January & 22 & 2021\\\\\n",
       "\t7 & 0FEED5C2C8749A1C & classic\\_bike  & 2021-01-05 10:33:00 & 2021-01-05 10:39:00 & California Ave \\& Cortez St   & 17660        & Sacramento Blvd \\& Franklin Blvd & KA1504000113 & 41.90036 & -87.69670 & 41.89047 & -87.70261 & member &  6 mins & Tue & 2021-01-05 & January & 05 & 2021\\\\\n",
       "\t8 & E276FD43BDED6420 & classic\\_bike  & 2021-01-30 11:59:00 & 2021-01-30 12:03:00 & California Ave \\& Cortez St   & 17660        & Western Ave \\& Walton St         & KA1504000103 & 41.90036 & -87.69670 & 41.89842 & -87.68660 & member &  4 mins & Sat & 2021-01-30 & January & 30 & 2021\\\\\n",
       "\t9 & 88BFCF66C2D585EC & electric\\_bike & 2021-01-27 07:27:00 & 2021-01-27 07:45:00 & California Ave \\& Cortez St   & 17660        & Damen Ave \\& Clybourn Ave        & 13271        & 41.90031 & -87.69679 & 41.93184 & -87.67781 & member & 18 mins & Wed & 2021-01-27 & January & 27 & 2021\\\\\n",
       "\t10 & 8BD6F6510F5C8BD2 & electric\\_bike & 2021-01-15 08:54:00 & 2021-01-15 09:11:00 & California Ave \\& Cortez St   & 17660        & Damen Ave \\& Clybourn Ave        & 13271        & 41.90036 & -87.69663 & 41.93192 & -87.67786 & member & 17 mins & Fri & 2021-01-15 & January & 15 & 2021\\\\\n",
       "\t11 & 84F11CC620F83254 & electric\\_bike & 2021-01-10 08:05:00 & 2021-01-10 08:13:00 & California Ave \\& Cortez St   & 17660        & Leavitt St \\& North Ave          & TA1308000005 & 41.90040 & -87.69671 & 41.91012 & -87.68240 & casual &  8 mins & Sun & 2021-01-10 & January & 10 & 2021\\\\\n",
       "\t12 & C84E5DD4D74F4FC0 & electric\\_bike & 2021-01-18 13:30:00 & 2021-01-18 13:37:00 & California Ave \\& Cortez St   & 17660        & Leavitt St \\& North Ave          & TA1308000005 & 41.90041 & -87.69671 & 41.91015 & -87.68246 & casual &  7 mins & Mon & 2021-01-18 & January & 18 & 2021\\\\\n",
       "\t13 & 00AEF8EE4622147F & electric\\_bike & 2021-01-07 09:45:00 & 2021-01-07 09:52:00 & California Ave \\& Cortez St   & 17660        & Leavitt St \\& North Ave          & TA1308000005 & 41.90041 & -87.69685 & 41.91013 & -87.68244 & casual &  7 mins & Thu & 2021-01-07 & January & 07 & 2021\\\\\n",
       "\t14 & 55DAB9E709B61EA5 & classic\\_bike  & 2021-01-11 11:20:00 & 2021-01-11 11:29:00 & California Ave \\& Cortez St   & 17660        & Leavitt St \\& North Ave          & TA1308000005 & 41.90036 & -87.69670 & 41.91051 & -87.68239 & casual &  9 mins & Mon & 2021-01-11 & January & 11 & 2021\\\\\n",
       "\t15 & 3E41D6E4EFE87DD9 & classic\\_bike  & 2021-01-22 21:54:00 & 2021-01-22 22:04:00 & California Ave \\& Cortez St   & 17660        & Honore St \\& Division St         & TA1305000034 & 41.90036 & -87.69670 & 41.90312 & -87.67394 & casual & 10 mins & Fri & 2021-01-22 & January & 22 & 2021\\\\\n",
       "\t16 & FCE0D29EB2DF84DA & electric\\_bike & 2021-01-16 01:05:00 & 2021-01-16 01:19:00 & California Ave \\& Cortez St   & 17660        & Ogden Ave \\& Chicago Ave         & TA1305000020 & 41.90031 & -87.69683 & 41.89636 & -87.65421 & casual & 14 mins & Sat & 2021-01-16 & January & 16 & 2021\\\\\n",
       "\t17 & 77E53236C1F0EA3F & classic\\_bike  & 2021-01-28 20:35:00 & 2021-01-28 21:06:00 & Halsted St \\& North Branch St & KA1504000117 & Southport Ave \\& Clark St        & TA1308000047 & 41.89937 & -87.64848 & 41.95708 & -87.66420 & member & 31 mins & Thu & 2021-01-28 & January & 28 & 2021\\\\\n",
       "\t18 & 72335684BF7A0943 & electric\\_bike & 2021-01-09 00:35:00 & 2021-01-09 00:43:00 & Halsted St \\& North Branch St & KA1504000117 & Bissell St \\& Armitage Ave       & 13059        & 41.89936 & -87.64849 & 41.91799 & -87.65250 & member &  8 mins & Sat & 2021-01-08 & January & 08 & 2021\\\\\n",
       "\t19 & 625DDA8DCCCCB3E2 & classic\\_bike  & 2021-01-17 15:07:00 & 2021-01-17 15:20:00 & Glenwood Ave \\& Touhy Ave     & 525          & Broadway \\& Granville Ave        & 15571        & 42.01270 & -87.66606 & 41.99478 & -87.66028 & member & 13 mins & Sun & 2021-01-17 & January & 17 & 2021\\\\\n",
       "\t20 & 61C6977EA354684C & electric\\_bike & 2021-01-25 15:39:00 & 2021-01-25 15:52:00 & Halsted St \\& North Branch St & KA1504000117 & Clark St \\& Lincoln Ave          & 13179        & 41.89933 & -87.64847 & 41.91576 & -87.63480 & member & 13 mins & Mon & 2021-01-25 & January & 25 & 2021\\\\\n",
       "\t21 & 07F1F6A27AB0436E & classic\\_bike  & 2021-01-11 15:32:00 & 2021-01-11 15:35:00 & California Ave \\& Cortez St   & 17660        & California Ave \\& Division St    & 13256        & 41.90036 & -87.69670 & 41.90303 & -87.69747 & member &  3 mins & Mon & 2021-01-11 & January & 11 & 2021\\\\\n",
       "\t22 & 09BD39967CCCBFB3 & classic\\_bike  & 2021-01-14 13:39:00 & 2021-01-14 13:40:00 & California Ave \\& Cortez St   & 17660        & California Ave \\& Division St    & 13256        & 41.90036 & -87.69670 & 41.90303 & -87.69747 & member &  1 mins & Thu & 2021-01-14 & January & 14 & 2021\\\\\n",
       "\t23 & D57B11E4C1160596 & classic\\_bike  & 2021-01-07 13:31:00 & 2021-01-07 13:41:00 & California Ave \\& Cortez St   & 17660        & California Ave \\& Milwaukee Ave  & 13084        & 41.90036 & -87.69670 & 41.92269 & -87.69715 & member & 10 mins & Thu & 2021-01-07 & January & 07 & 2021\\\\\n",
       "\t24 & 85F441B67B05AB0D & classic\\_bike  & 2021-01-06 07:51:00 & 2021-01-06 07:56:00 & Michigan Ave \\& 8th St        & 623          & LaSalle St \\& Jackson Blvd       & TA1309000004 & 41.87277 & -87.62398 & 41.87817 & -87.63193 & member &  5 mins & Wed & 2021-01-06 & January & 06 & 2021\\\\\n",
       "\t25 & 144A7A47CA9BFB21 & classic\\_bike  & 2021-01-06 16:00:00 & 2021-01-06 16:17:00 & Glenwood Ave \\& Touhy Ave     & 525          & Clark St \\& Elmdale Ave          & KA1504000148 & 42.01270 & -87.66606 & 41.99086 & -87.66972 & casual & 17 mins & Wed & 2021-01-06 & January & 06 & 2021\\\\\n",
       "\t26 & 7EEE4DF07C43AE57 & electric\\_bike & 2021-01-06 17:26:00 & 2021-01-06 17:31:00 & California Ave \\& Cortez St   & 17660        & California Ave \\& North Ave      & 13258        & 41.90040 & -87.69674 & 41.91042 & -87.69691 & member &  5 mins & Wed & 2021-01-06 & January & 06 & 2021\\\\\n",
       "\t27 & 43EBF05C104DA09E & electric\\_bike & 2021-01-03 16:59:00 & 2021-01-03 17:05:00 & California Ave \\& Cortez St   & 17660        & California Ave \\& North Ave      & 13258        & 41.90028 & -87.69672 & 41.91044 & -87.69690 & member &  6 mins & Sun & 2021-01-03 & January & 03 & 2021\\\\\n",
       "\t28 & AD2B9AEFCD0B3AE2 & classic\\_bike  & 2021-01-11 17:24:00 & 2021-01-11 17:29:00 & California Ave \\& Cortez St   & 17660        & California Ave \\& North Ave      & 13258        & 41.90036 & -87.69670 & 41.91044 & -87.69720 & member &  5 mins & Mon & 2021-01-11 & January & 11 & 2021\\\\\n",
       "\t29 & 80963048BE26AF85 & classic\\_bike  & 2021-01-10 15:01:00 & 2021-01-10 15:07:00 & California Ave \\& Cortez St   & 17660        & Smith Park                      & 643          & 41.90036 & -87.69670 & 41.89205 & -87.68940 & member &  6 mins & Sun & 2021-01-10 & January & 10 & 2021\\\\\n",
       "\t30 & 7DABDE2732700245 & classic\\_bike  & 2021-01-16 22:09:00 & 2021-01-16 22:39:00 & Halsted St \\& North Branch St & KA1504000117 & Ashland Ave \\& Belle Plaine Ave  & 13249        & 41.89937 & -87.64848 & 41.95606 & -87.66884 & member & 30 mins & Sat & 2021-01-16 & January & 16 & 2021\\\\\n",
       "\t31 & 7DEF919722AD7359 & classic\\_bike  & 2021-01-23 14:56:00 & 2021-01-23 15:20:00 & Shedd Aquarium               & 15544        & Streeter Dr \\& Grand Ave         & 13022        & 41.86723 & -87.61536 & 41.89228 & -87.61204 & member & 24 mins & Sat & 2021-01-23 & January & 23 & 2021\\\\\n",
       "\t32 & 5B796A9FDF9B13A4 & electric\\_bike & 2021-01-08 09:34:00 & 2021-01-08 09:52:00 & Sedgwick St \\& North Ave      & TA1307000038 & Franklin St \\& Chicago Ave       & 13017        & 41.91136 & -87.63867 & 41.89685 & -87.63590 & member & 18 mins & Fri & 2021-01-08 & January & 08 & 2021\\\\\n",
       "\t33 & F058BD483E1D2A8F & electric\\_bike & 2021-01-29 16:17:00 & 2021-01-29 16:37:00 & Shedd Aquarium               & 15544        & Streeter Dr \\& Grand Ave         & 13022        & 41.86730 & -87.61535 & 41.89235 & -87.61224 & casual & 20 mins & Fri & 2021-01-29 & January & 29 & 2021\\\\\n",
       "\t34 & 961642F4B0CC2EDC & electric\\_bike & 2021-01-21 19:46:00 & 2021-01-21 19:49:00 & Rush St \\& Hubbard St         & KA1503000044 & Dearborn St \\& Erie St           & 13045        & 41.89007 & -87.62659 & 41.89374 & -87.62925 & member &  3 mins & Thu & 2021-01-21 & January & 21 & 2021\\\\\n",
       "\t35 & DF9C855E2A55D092 & classic\\_bike  & 2021-01-25 18:40:00 & 2021-01-25 19:01:00 & Halsted St \\& North Branch St & KA1504000117 & Fairbanks Ct \\& Grand Ave        & TA1305000003 & 41.89937 & -87.64848 & 41.89185 & -87.62058 & casual & 21 mins & Mon & 2021-01-25 & January & 25 & 2021\\\\\n",
       "\t36 & 7297C6B623D5F03B & classic\\_bike  & 2021-01-04 18:56:00 & 2021-01-04 19:23:00 & Halsted St \\& North Branch St & KA1504000117 & Fairbanks Ct \\& Grand Ave        & TA1305000003 & 41.89937 & -87.64848 & 41.89185 & -87.62058 & casual & 27 mins & Mon & 2021-01-04 & January & 04 & 2021\\\\\n",
       "\t37 & E87068221DB50BC2 & classic\\_bike  & 2021-01-10 17:18:00 & 2021-01-10 17:38:00 & Halsted St \\& North Branch St & KA1504000117 & Fairbanks Ct \\& Grand Ave        & TA1305000003 & 41.89937 & -87.64848 & 41.89185 & -87.62058 & casual & 20 mins & Sun & 2021-01-10 & January & 10 & 2021\\\\\n",
       "\t38 & 106B20BC04EC1C5B & classic\\_bike  & 2021-01-28 19:44:00 & 2021-01-28 20:08:00 & Halsted St \\& North Branch St & KA1504000117 & Fairbanks Ct \\& Grand Ave        & TA1305000003 & 41.89937 & -87.64848 & 41.89185 & -87.62058 & casual & 24 mins & Thu & 2021-01-28 & January & 28 & 2021\\\\\n",
       "\t39 & FF4F2DF286A9B732 & classic\\_bike  & 2021-01-13 18:46:00 & 2021-01-13 19:05:00 & Halsted St \\& North Branch St & KA1504000117 & Fairbanks Ct \\& Grand Ave        & TA1305000003 & 41.89937 & -87.64848 & 41.89185 & -87.62058 & casual & 19 mins & Wed & 2021-01-13 & January & 13 & 2021\\\\\n",
       "\t40 & 7ADB90D27AD2671D & electric\\_bike & 2021-01-17 17:48:00 & 2021-01-17 18:10:00 & Campbell Ave \\& Montrose Ave  & 15623        & Sheridan Rd \\& Irving Park Rd    & 13063        & 41.96155 & -87.69118 & 41.95410 & -87.65436 & member & 22 mins & Sun & 2021-01-17 & January & 17 & 2021\\\\\n",
       "\t41 & 30FC2EFABAE5B054 & classic\\_bike  & 2021-01-09 13:36:00 & 2021-01-09 14:02:00 & Campbell Ave \\& Montrose Ave  & 15623        & Western Ave \\& Roscoe St         & 15634        & 41.96153 & -87.69117 & 41.94303 & -87.68729 & member & 26 mins & Sat & 2021-01-09 & January & 09 & 2021\\\\\n",
       "\t42 & BA01E196C856DBD7 & classic\\_bike  & 2021-01-18 09:05:00 & 2021-01-18 09:15:00 & Michigan Ave \\& 8th St        & 623          & Field Blvd \\& South Water St     & 15534        & 41.87277 & -87.62398 & 41.88635 & -87.61752 & member & 10 mins & Mon & 2021-01-18 & January & 18 & 2021\\\\\n",
       "\t43 & 0A66CE23765828F4 & classic\\_bike  & 2021-01-17 19:57:00 & 2021-01-17 20:07:00 & Michigan Ave \\& 8th St        & 623          & Field Blvd \\& South Water St     & 15534        & 41.87277 & -87.62398 & 41.88635 & -87.61752 & member & 10 mins & Sun & 2021-01-17 & January & 17 & 2021\\\\\n",
       "\t44 & 80FD198C415C0F51 & classic\\_bike  & 2021-01-16 20:01:00 & 2021-01-16 20:10:00 & Michigan Ave \\& 8th St        & 623          & Field Blvd \\& South Water St     & 15534        & 41.87277 & -87.62398 & 41.88635 & -87.61752 & member &  9 mins & Sat & 2021-01-16 & January & 16 & 2021\\\\\n",
       "\t45 & 43DB7DCE2339EC6D & classic\\_bike  & 2021-01-24 13:45:00 & 2021-01-24 14:14:00 & California Ave \\& Cortez St   & 17660        & Lincoln Ave \\& Fullerton Ave     & TA1309000058 & 41.90036 & -87.69670 & 41.92591 & -87.64926 & member & 29 mins & Sun & 2021-01-24 & January & 24 & 2021\\\\\n",
       "\t46 & A4700D25F56EF2F2 & classic\\_bike  & 2021-01-25 15:19:00 & 2021-01-25 15:28:00 & Halsted St \\& North Branch St & KA1504000117 & Clark St \\& Elm St               & TA1307000039 & 41.89937 & -87.64848 & 41.90297 & -87.63128 & member &  9 mins & Mon & 2021-01-25 & January & 25 & 2021\\\\\n",
       "\t47 & 40BB0D14EC02D8A4 & classic\\_bike  & 2021-01-21 18:54:00 & 2021-01-21 19:01:00 & Rush St \\& Hubbard St         & KA1503000044 & Sedgwick St \\& Huron St          & TA1307000062 & 41.89017 & -87.62619 & 41.89467 & -87.63844 & member &  7 mins & Thu & 2021-01-21 & January & 21 & 2021\\\\\n",
       "\t48 & AE2C596F6BB322BC & classic\\_bike  & 2021-01-25 16:58:00 & 2021-01-25 17:04:00 & Rush St \\& Hubbard St         & KA1503000044 & Sedgwick St \\& Huron St          & TA1307000062 & 41.89017 & -87.62619 & 41.89467 & -87.63844 & member &  6 mins & Mon & 2021-01-25 & January & 25 & 2021\\\\\n",
       "\t49 & 54B37FD2DCB8A328 & electric\\_bike & 2021-01-14 18:35:00 & 2021-01-14 18:41:00 & Rush St \\& Hubbard St         & KA1503000044 & Sedgwick St \\& Huron St          & TA1307000062 & 41.89007 & -87.62631 & 41.89471 & -87.63815 & member &  6 mins & Thu & 2021-01-14 & January & 14 & 2021\\\\\n",
       "\t50 & 65E938AE5AD1D768 & classic\\_bike  & 2021-01-11 17:27:00 & 2021-01-11 17:33:00 & Rush St \\& Hubbard St         & KA1503000044 & Sedgwick St \\& Huron St          & TA1307000062 & 41.89017 & -87.62619 & 41.89467 & -87.63844 & member &  6 mins & Mon & 2021-01-11 & January & 11 & 2021\\\\\n",
       "\\end{tabular}\n"
      ],
      "text/markdown": [
       "\n",
       "A data.frame: 50 × 19\n",
       "\n",
       "| <!--/--> | ride_id &lt;chr&gt; | rideable_type &lt;chr&gt; | started_at &lt;dttm&gt; | ended_at &lt;dttm&gt; | start_station_name &lt;chr&gt; | start_station_id &lt;chr&gt; | end_station_name &lt;chr&gt; | end_station_id &lt;chr&gt; | start_lat &lt;dbl&gt; | start_lng &lt;dbl&gt; | end_lat &lt;dbl&gt; | end_lng &lt;dbl&gt; | member_casual &lt;chr&gt; | ride_length &lt;drtn&gt; | day_of_week &lt;ord&gt; | date &lt;date&gt; | month &lt;chr&gt; | day &lt;chr&gt; | year &lt;chr&gt; |\n",
       "|---|---|---|---|---|---|---|---|---|---|---|---|---|---|---|---|---|---|---|---|\n",
       "| 1 | B9F73448DFBE0D45 | classic_bike  | 2021-01-24 19:15:00 | 2021-01-24 19:22:00 | California Ave &amp; Cortez St   | 17660        | Wood St &amp; Augusta Blvd          | 657          | 41.90036 | -87.69670 | 41.89918 | -87.67220 | member |  7 mins | Sun | 2021-01-24 | January | 24 | 2021 |\n",
       "| 2 | 457C7F4B5D3DA135 | electric_bike | 2021-01-23 12:57:00 | 2021-01-23 13:02:00 | California Ave &amp; Cortez St   | 17660        | California Ave &amp; North Ave      | 13258        | 41.90041 | -87.69673 | 41.91044 | -87.69689 | member |  5 mins | Sat | 2021-01-23 | January | 23 | 2021 |\n",
       "| 3 | 57C750326F9FDABE | electric_bike | 2021-01-09 15:28:00 | 2021-01-09 15:37:00 | California Ave &amp; Cortez St   | 17660        | Wood St &amp; Augusta Blvd          | 657          | 41.90037 | -87.69669 | 41.89918 | -87.67218 | casual |  9 mins | Sat | 2021-01-09 | January | 09 | 2021 |\n",
       "| 4 | 4D518C65E338D070 | electric_bike | 2021-01-09 15:28:00 | 2021-01-09 15:37:00 | California Ave &amp; Cortez St   | 17660        | Wood St &amp; Augusta Blvd          | 657          | 41.90038 | -87.69672 | 41.89915 | -87.67218 | casual |  9 mins | Sat | 2021-01-09 | January | 09 | 2021 |\n",
       "| 5 | 9D08A3AFF410474D | classic_bike  | 2021-01-24 15:56:00 | 2021-01-24 16:07:00 | California Ave &amp; Cortez St   | 17660        | Wood St &amp; Augusta Blvd          | 657          | 41.90036 | -87.69670 | 41.89918 | -87.67220 | casual | 11 mins | Sun | 2021-01-24 | January | 24 | 2021 |\n",
       "| 6 | 49FCE1F8598F12C6 | electric_bike | 2021-01-22 15:15:00 | 2021-01-22 15:36:00 | California Ave &amp; Cortez St   | 17660        | Wells St &amp; Elm St               | KA1504000135 | 41.90037 | -87.69679 | 41.90327 | -87.63446 | member | 21 mins | Fri | 2021-01-22 | January | 22 | 2021 |\n",
       "| 7 | 0FEED5C2C8749A1C | classic_bike  | 2021-01-05 10:33:00 | 2021-01-05 10:39:00 | California Ave &amp; Cortez St   | 17660        | Sacramento Blvd &amp; Franklin Blvd | KA1504000113 | 41.90036 | -87.69670 | 41.89047 | -87.70261 | member |  6 mins | Tue | 2021-01-05 | January | 05 | 2021 |\n",
       "| 8 | E276FD43BDED6420 | classic_bike  | 2021-01-30 11:59:00 | 2021-01-30 12:03:00 | California Ave &amp; Cortez St   | 17660        | Western Ave &amp; Walton St         | KA1504000103 | 41.90036 | -87.69670 | 41.89842 | -87.68660 | member |  4 mins | Sat | 2021-01-30 | January | 30 | 2021 |\n",
       "| 9 | 88BFCF66C2D585EC | electric_bike | 2021-01-27 07:27:00 | 2021-01-27 07:45:00 | California Ave &amp; Cortez St   | 17660        | Damen Ave &amp; Clybourn Ave        | 13271        | 41.90031 | -87.69679 | 41.93184 | -87.67781 | member | 18 mins | Wed | 2021-01-27 | January | 27 | 2021 |\n",
       "| 10 | 8BD6F6510F5C8BD2 | electric_bike | 2021-01-15 08:54:00 | 2021-01-15 09:11:00 | California Ave &amp; Cortez St   | 17660        | Damen Ave &amp; Clybourn Ave        | 13271        | 41.90036 | -87.69663 | 41.93192 | -87.67786 | member | 17 mins | Fri | 2021-01-15 | January | 15 | 2021 |\n",
       "| 11 | 84F11CC620F83254 | electric_bike | 2021-01-10 08:05:00 | 2021-01-10 08:13:00 | California Ave &amp; Cortez St   | 17660        | Leavitt St &amp; North Ave          | TA1308000005 | 41.90040 | -87.69671 | 41.91012 | -87.68240 | casual |  8 mins | Sun | 2021-01-10 | January | 10 | 2021 |\n",
       "| 12 | C84E5DD4D74F4FC0 | electric_bike | 2021-01-18 13:30:00 | 2021-01-18 13:37:00 | California Ave &amp; Cortez St   | 17660        | Leavitt St &amp; North Ave          | TA1308000005 | 41.90041 | -87.69671 | 41.91015 | -87.68246 | casual |  7 mins | Mon | 2021-01-18 | January | 18 | 2021 |\n",
       "| 13 | 00AEF8EE4622147F | electric_bike | 2021-01-07 09:45:00 | 2021-01-07 09:52:00 | California Ave &amp; Cortez St   | 17660        | Leavitt St &amp; North Ave          | TA1308000005 | 41.90041 | -87.69685 | 41.91013 | -87.68244 | casual |  7 mins | Thu | 2021-01-07 | January | 07 | 2021 |\n",
       "| 14 | 55DAB9E709B61EA5 | classic_bike  | 2021-01-11 11:20:00 | 2021-01-11 11:29:00 | California Ave &amp; Cortez St   | 17660        | Leavitt St &amp; North Ave          | TA1308000005 | 41.90036 | -87.69670 | 41.91051 | -87.68239 | casual |  9 mins | Mon | 2021-01-11 | January | 11 | 2021 |\n",
       "| 15 | 3E41D6E4EFE87DD9 | classic_bike  | 2021-01-22 21:54:00 | 2021-01-22 22:04:00 | California Ave &amp; Cortez St   | 17660        | Honore St &amp; Division St         | TA1305000034 | 41.90036 | -87.69670 | 41.90312 | -87.67394 | casual | 10 mins | Fri | 2021-01-22 | January | 22 | 2021 |\n",
       "| 16 | FCE0D29EB2DF84DA | electric_bike | 2021-01-16 01:05:00 | 2021-01-16 01:19:00 | California Ave &amp; Cortez St   | 17660        | Ogden Ave &amp; Chicago Ave         | TA1305000020 | 41.90031 | -87.69683 | 41.89636 | -87.65421 | casual | 14 mins | Sat | 2021-01-16 | January | 16 | 2021 |\n",
       "| 17 | 77E53236C1F0EA3F | classic_bike  | 2021-01-28 20:35:00 | 2021-01-28 21:06:00 | Halsted St &amp; North Branch St | KA1504000117 | Southport Ave &amp; Clark St        | TA1308000047 | 41.89937 | -87.64848 | 41.95708 | -87.66420 | member | 31 mins | Thu | 2021-01-28 | January | 28 | 2021 |\n",
       "| 18 | 72335684BF7A0943 | electric_bike | 2021-01-09 00:35:00 | 2021-01-09 00:43:00 | Halsted St &amp; North Branch St | KA1504000117 | Bissell St &amp; Armitage Ave       | 13059        | 41.89936 | -87.64849 | 41.91799 | -87.65250 | member |  8 mins | Sat | 2021-01-08 | January | 08 | 2021 |\n",
       "| 19 | 625DDA8DCCCCB3E2 | classic_bike  | 2021-01-17 15:07:00 | 2021-01-17 15:20:00 | Glenwood Ave &amp; Touhy Ave     | 525          | Broadway &amp; Granville Ave        | 15571        | 42.01270 | -87.66606 | 41.99478 | -87.66028 | member | 13 mins | Sun | 2021-01-17 | January | 17 | 2021 |\n",
       "| 20 | 61C6977EA354684C | electric_bike | 2021-01-25 15:39:00 | 2021-01-25 15:52:00 | Halsted St &amp; North Branch St | KA1504000117 | Clark St &amp; Lincoln Ave          | 13179        | 41.89933 | -87.64847 | 41.91576 | -87.63480 | member | 13 mins | Mon | 2021-01-25 | January | 25 | 2021 |\n",
       "| 21 | 07F1F6A27AB0436E | classic_bike  | 2021-01-11 15:32:00 | 2021-01-11 15:35:00 | California Ave &amp; Cortez St   | 17660        | California Ave &amp; Division St    | 13256        | 41.90036 | -87.69670 | 41.90303 | -87.69747 | member |  3 mins | Mon | 2021-01-11 | January | 11 | 2021 |\n",
       "| 22 | 09BD39967CCCBFB3 | classic_bike  | 2021-01-14 13:39:00 | 2021-01-14 13:40:00 | California Ave &amp; Cortez St   | 17660        | California Ave &amp; Division St    | 13256        | 41.90036 | -87.69670 | 41.90303 | -87.69747 | member |  1 mins | Thu | 2021-01-14 | January | 14 | 2021 |\n",
       "| 23 | D57B11E4C1160596 | classic_bike  | 2021-01-07 13:31:00 | 2021-01-07 13:41:00 | California Ave &amp; Cortez St   | 17660        | California Ave &amp; Milwaukee Ave  | 13084        | 41.90036 | -87.69670 | 41.92269 | -87.69715 | member | 10 mins | Thu | 2021-01-07 | January | 07 | 2021 |\n",
       "| 24 | 85F441B67B05AB0D | classic_bike  | 2021-01-06 07:51:00 | 2021-01-06 07:56:00 | Michigan Ave &amp; 8th St        | 623          | LaSalle St &amp; Jackson Blvd       | TA1309000004 | 41.87277 | -87.62398 | 41.87817 | -87.63193 | member |  5 mins | Wed | 2021-01-06 | January | 06 | 2021 |\n",
       "| 25 | 144A7A47CA9BFB21 | classic_bike  | 2021-01-06 16:00:00 | 2021-01-06 16:17:00 | Glenwood Ave &amp; Touhy Ave     | 525          | Clark St &amp; Elmdale Ave          | KA1504000148 | 42.01270 | -87.66606 | 41.99086 | -87.66972 | casual | 17 mins | Wed | 2021-01-06 | January | 06 | 2021 |\n",
       "| 26 | 7EEE4DF07C43AE57 | electric_bike | 2021-01-06 17:26:00 | 2021-01-06 17:31:00 | California Ave &amp; Cortez St   | 17660        | California Ave &amp; North Ave      | 13258        | 41.90040 | -87.69674 | 41.91042 | -87.69691 | member |  5 mins | Wed | 2021-01-06 | January | 06 | 2021 |\n",
       "| 27 | 43EBF05C104DA09E | electric_bike | 2021-01-03 16:59:00 | 2021-01-03 17:05:00 | California Ave &amp; Cortez St   | 17660        | California Ave &amp; North Ave      | 13258        | 41.90028 | -87.69672 | 41.91044 | -87.69690 | member |  6 mins | Sun | 2021-01-03 | January | 03 | 2021 |\n",
       "| 28 | AD2B9AEFCD0B3AE2 | classic_bike  | 2021-01-11 17:24:00 | 2021-01-11 17:29:00 | California Ave &amp; Cortez St   | 17660        | California Ave &amp; North Ave      | 13258        | 41.90036 | -87.69670 | 41.91044 | -87.69720 | member |  5 mins | Mon | 2021-01-11 | January | 11 | 2021 |\n",
       "| 29 | 80963048BE26AF85 | classic_bike  | 2021-01-10 15:01:00 | 2021-01-10 15:07:00 | California Ave &amp; Cortez St   | 17660        | Smith Park                      | 643          | 41.90036 | -87.69670 | 41.89205 | -87.68940 | member |  6 mins | Sun | 2021-01-10 | January | 10 | 2021 |\n",
       "| 30 | 7DABDE2732700245 | classic_bike  | 2021-01-16 22:09:00 | 2021-01-16 22:39:00 | Halsted St &amp; North Branch St | KA1504000117 | Ashland Ave &amp; Belle Plaine Ave  | 13249        | 41.89937 | -87.64848 | 41.95606 | -87.66884 | member | 30 mins | Sat | 2021-01-16 | January | 16 | 2021 |\n",
       "| 31 | 7DEF919722AD7359 | classic_bike  | 2021-01-23 14:56:00 | 2021-01-23 15:20:00 | Shedd Aquarium               | 15544        | Streeter Dr &amp; Grand Ave         | 13022        | 41.86723 | -87.61536 | 41.89228 | -87.61204 | member | 24 mins | Sat | 2021-01-23 | January | 23 | 2021 |\n",
       "| 32 | 5B796A9FDF9B13A4 | electric_bike | 2021-01-08 09:34:00 | 2021-01-08 09:52:00 | Sedgwick St &amp; North Ave      | TA1307000038 | Franklin St &amp; Chicago Ave       | 13017        | 41.91136 | -87.63867 | 41.89685 | -87.63590 | member | 18 mins | Fri | 2021-01-08 | January | 08 | 2021 |\n",
       "| 33 | F058BD483E1D2A8F | electric_bike | 2021-01-29 16:17:00 | 2021-01-29 16:37:00 | Shedd Aquarium               | 15544        | Streeter Dr &amp; Grand Ave         | 13022        | 41.86730 | -87.61535 | 41.89235 | -87.61224 | casual | 20 mins | Fri | 2021-01-29 | January | 29 | 2021 |\n",
       "| 34 | 961642F4B0CC2EDC | electric_bike | 2021-01-21 19:46:00 | 2021-01-21 19:49:00 | Rush St &amp; Hubbard St         | KA1503000044 | Dearborn St &amp; Erie St           | 13045        | 41.89007 | -87.62659 | 41.89374 | -87.62925 | member |  3 mins | Thu | 2021-01-21 | January | 21 | 2021 |\n",
       "| 35 | DF9C855E2A55D092 | classic_bike  | 2021-01-25 18:40:00 | 2021-01-25 19:01:00 | Halsted St &amp; North Branch St | KA1504000117 | Fairbanks Ct &amp; Grand Ave        | TA1305000003 | 41.89937 | -87.64848 | 41.89185 | -87.62058 | casual | 21 mins | Mon | 2021-01-25 | January | 25 | 2021 |\n",
       "| 36 | 7297C6B623D5F03B | classic_bike  | 2021-01-04 18:56:00 | 2021-01-04 19:23:00 | Halsted St &amp; North Branch St | KA1504000117 | Fairbanks Ct &amp; Grand Ave        | TA1305000003 | 41.89937 | -87.64848 | 41.89185 | -87.62058 | casual | 27 mins | Mon | 2021-01-04 | January | 04 | 2021 |\n",
       "| 37 | E87068221DB50BC2 | classic_bike  | 2021-01-10 17:18:00 | 2021-01-10 17:38:00 | Halsted St &amp; North Branch St | KA1504000117 | Fairbanks Ct &amp; Grand Ave        | TA1305000003 | 41.89937 | -87.64848 | 41.89185 | -87.62058 | casual | 20 mins | Sun | 2021-01-10 | January | 10 | 2021 |\n",
       "| 38 | 106B20BC04EC1C5B | classic_bike  | 2021-01-28 19:44:00 | 2021-01-28 20:08:00 | Halsted St &amp; North Branch St | KA1504000117 | Fairbanks Ct &amp; Grand Ave        | TA1305000003 | 41.89937 | -87.64848 | 41.89185 | -87.62058 | casual | 24 mins | Thu | 2021-01-28 | January | 28 | 2021 |\n",
       "| 39 | FF4F2DF286A9B732 | classic_bike  | 2021-01-13 18:46:00 | 2021-01-13 19:05:00 | Halsted St &amp; North Branch St | KA1504000117 | Fairbanks Ct &amp; Grand Ave        | TA1305000003 | 41.89937 | -87.64848 | 41.89185 | -87.62058 | casual | 19 mins | Wed | 2021-01-13 | January | 13 | 2021 |\n",
       "| 40 | 7ADB90D27AD2671D | electric_bike | 2021-01-17 17:48:00 | 2021-01-17 18:10:00 | Campbell Ave &amp; Montrose Ave  | 15623        | Sheridan Rd &amp; Irving Park Rd    | 13063        | 41.96155 | -87.69118 | 41.95410 | -87.65436 | member | 22 mins | Sun | 2021-01-17 | January | 17 | 2021 |\n",
       "| 41 | 30FC2EFABAE5B054 | classic_bike  | 2021-01-09 13:36:00 | 2021-01-09 14:02:00 | Campbell Ave &amp; Montrose Ave  | 15623        | Western Ave &amp; Roscoe St         | 15634        | 41.96153 | -87.69117 | 41.94303 | -87.68729 | member | 26 mins | Sat | 2021-01-09 | January | 09 | 2021 |\n",
       "| 42 | BA01E196C856DBD7 | classic_bike  | 2021-01-18 09:05:00 | 2021-01-18 09:15:00 | Michigan Ave &amp; 8th St        | 623          | Field Blvd &amp; South Water St     | 15534        | 41.87277 | -87.62398 | 41.88635 | -87.61752 | member | 10 mins | Mon | 2021-01-18 | January | 18 | 2021 |\n",
       "| 43 | 0A66CE23765828F4 | classic_bike  | 2021-01-17 19:57:00 | 2021-01-17 20:07:00 | Michigan Ave &amp; 8th St        | 623          | Field Blvd &amp; South Water St     | 15534        | 41.87277 | -87.62398 | 41.88635 | -87.61752 | member | 10 mins | Sun | 2021-01-17 | January | 17 | 2021 |\n",
       "| 44 | 80FD198C415C0F51 | classic_bike  | 2021-01-16 20:01:00 | 2021-01-16 20:10:00 | Michigan Ave &amp; 8th St        | 623          | Field Blvd &amp; South Water St     | 15534        | 41.87277 | -87.62398 | 41.88635 | -87.61752 | member |  9 mins | Sat | 2021-01-16 | January | 16 | 2021 |\n",
       "| 45 | 43DB7DCE2339EC6D | classic_bike  | 2021-01-24 13:45:00 | 2021-01-24 14:14:00 | California Ave &amp; Cortez St   | 17660        | Lincoln Ave &amp; Fullerton Ave     | TA1309000058 | 41.90036 | -87.69670 | 41.92591 | -87.64926 | member | 29 mins | Sun | 2021-01-24 | January | 24 | 2021 |\n",
       "| 46 | A4700D25F56EF2F2 | classic_bike  | 2021-01-25 15:19:00 | 2021-01-25 15:28:00 | Halsted St &amp; North Branch St | KA1504000117 | Clark St &amp; Elm St               | TA1307000039 | 41.89937 | -87.64848 | 41.90297 | -87.63128 | member |  9 mins | Mon | 2021-01-25 | January | 25 | 2021 |\n",
       "| 47 | 40BB0D14EC02D8A4 | classic_bike  | 2021-01-21 18:54:00 | 2021-01-21 19:01:00 | Rush St &amp; Hubbard St         | KA1503000044 | Sedgwick St &amp; Huron St          | TA1307000062 | 41.89017 | -87.62619 | 41.89467 | -87.63844 | member |  7 mins | Thu | 2021-01-21 | January | 21 | 2021 |\n",
       "| 48 | AE2C596F6BB322BC | classic_bike  | 2021-01-25 16:58:00 | 2021-01-25 17:04:00 | Rush St &amp; Hubbard St         | KA1503000044 | Sedgwick St &amp; Huron St          | TA1307000062 | 41.89017 | -87.62619 | 41.89467 | -87.63844 | member |  6 mins | Mon | 2021-01-25 | January | 25 | 2021 |\n",
       "| 49 | 54B37FD2DCB8A328 | electric_bike | 2021-01-14 18:35:00 | 2021-01-14 18:41:00 | Rush St &amp; Hubbard St         | KA1503000044 | Sedgwick St &amp; Huron St          | TA1307000062 | 41.89007 | -87.62631 | 41.89471 | -87.63815 | member |  6 mins | Thu | 2021-01-14 | January | 14 | 2021 |\n",
       "| 50 | 65E938AE5AD1D768 | classic_bike  | 2021-01-11 17:27:00 | 2021-01-11 17:33:00 | Rush St &amp; Hubbard St         | KA1503000044 | Sedgwick St &amp; Huron St          | TA1307000062 | 41.89017 | -87.62619 | 41.89467 | -87.63844 | member |  6 mins | Mon | 2021-01-11 | January | 11 | 2021 |\n",
       "\n"
      ],
      "text/plain": [
       "   ride_id          rideable_type started_at          ended_at           \n",
       "1  B9F73448DFBE0D45 classic_bike  2021-01-24 19:15:00 2021-01-24 19:22:00\n",
       "2  457C7F4B5D3DA135 electric_bike 2021-01-23 12:57:00 2021-01-23 13:02:00\n",
       "3  57C750326F9FDABE electric_bike 2021-01-09 15:28:00 2021-01-09 15:37:00\n",
       "4  4D518C65E338D070 electric_bike 2021-01-09 15:28:00 2021-01-09 15:37:00\n",
       "5  9D08A3AFF410474D classic_bike  2021-01-24 15:56:00 2021-01-24 16:07:00\n",
       "6  49FCE1F8598F12C6 electric_bike 2021-01-22 15:15:00 2021-01-22 15:36:00\n",
       "7  0FEED5C2C8749A1C classic_bike  2021-01-05 10:33:00 2021-01-05 10:39:00\n",
       "8  E276FD43BDED6420 classic_bike  2021-01-30 11:59:00 2021-01-30 12:03:00\n",
       "9  88BFCF66C2D585EC electric_bike 2021-01-27 07:27:00 2021-01-27 07:45:00\n",
       "10 8BD6F6510F5C8BD2 electric_bike 2021-01-15 08:54:00 2021-01-15 09:11:00\n",
       "11 84F11CC620F83254 electric_bike 2021-01-10 08:05:00 2021-01-10 08:13:00\n",
       "12 C84E5DD4D74F4FC0 electric_bike 2021-01-18 13:30:00 2021-01-18 13:37:00\n",
       "13 00AEF8EE4622147F electric_bike 2021-01-07 09:45:00 2021-01-07 09:52:00\n",
       "14 55DAB9E709B61EA5 classic_bike  2021-01-11 11:20:00 2021-01-11 11:29:00\n",
       "15 3E41D6E4EFE87DD9 classic_bike  2021-01-22 21:54:00 2021-01-22 22:04:00\n",
       "16 FCE0D29EB2DF84DA electric_bike 2021-01-16 01:05:00 2021-01-16 01:19:00\n",
       "17 77E53236C1F0EA3F classic_bike  2021-01-28 20:35:00 2021-01-28 21:06:00\n",
       "18 72335684BF7A0943 electric_bike 2021-01-09 00:35:00 2021-01-09 00:43:00\n",
       "19 625DDA8DCCCCB3E2 classic_bike  2021-01-17 15:07:00 2021-01-17 15:20:00\n",
       "20 61C6977EA354684C electric_bike 2021-01-25 15:39:00 2021-01-25 15:52:00\n",
       "21 07F1F6A27AB0436E classic_bike  2021-01-11 15:32:00 2021-01-11 15:35:00\n",
       "22 09BD39967CCCBFB3 classic_bike  2021-01-14 13:39:00 2021-01-14 13:40:00\n",
       "23 D57B11E4C1160596 classic_bike  2021-01-07 13:31:00 2021-01-07 13:41:00\n",
       "24 85F441B67B05AB0D classic_bike  2021-01-06 07:51:00 2021-01-06 07:56:00\n",
       "25 144A7A47CA9BFB21 classic_bike  2021-01-06 16:00:00 2021-01-06 16:17:00\n",
       "26 7EEE4DF07C43AE57 electric_bike 2021-01-06 17:26:00 2021-01-06 17:31:00\n",
       "27 43EBF05C104DA09E electric_bike 2021-01-03 16:59:00 2021-01-03 17:05:00\n",
       "28 AD2B9AEFCD0B3AE2 classic_bike  2021-01-11 17:24:00 2021-01-11 17:29:00\n",
       "29 80963048BE26AF85 classic_bike  2021-01-10 15:01:00 2021-01-10 15:07:00\n",
       "30 7DABDE2732700245 classic_bike  2021-01-16 22:09:00 2021-01-16 22:39:00\n",
       "31 7DEF919722AD7359 classic_bike  2021-01-23 14:56:00 2021-01-23 15:20:00\n",
       "32 5B796A9FDF9B13A4 electric_bike 2021-01-08 09:34:00 2021-01-08 09:52:00\n",
       "33 F058BD483E1D2A8F electric_bike 2021-01-29 16:17:00 2021-01-29 16:37:00\n",
       "34 961642F4B0CC2EDC electric_bike 2021-01-21 19:46:00 2021-01-21 19:49:00\n",
       "35 DF9C855E2A55D092 classic_bike  2021-01-25 18:40:00 2021-01-25 19:01:00\n",
       "36 7297C6B623D5F03B classic_bike  2021-01-04 18:56:00 2021-01-04 19:23:00\n",
       "37 E87068221DB50BC2 classic_bike  2021-01-10 17:18:00 2021-01-10 17:38:00\n",
       "38 106B20BC04EC1C5B classic_bike  2021-01-28 19:44:00 2021-01-28 20:08:00\n",
       "39 FF4F2DF286A9B732 classic_bike  2021-01-13 18:46:00 2021-01-13 19:05:00\n",
       "40 7ADB90D27AD2671D electric_bike 2021-01-17 17:48:00 2021-01-17 18:10:00\n",
       "41 30FC2EFABAE5B054 classic_bike  2021-01-09 13:36:00 2021-01-09 14:02:00\n",
       "42 BA01E196C856DBD7 classic_bike  2021-01-18 09:05:00 2021-01-18 09:15:00\n",
       "43 0A66CE23765828F4 classic_bike  2021-01-17 19:57:00 2021-01-17 20:07:00\n",
       "44 80FD198C415C0F51 classic_bike  2021-01-16 20:01:00 2021-01-16 20:10:00\n",
       "45 43DB7DCE2339EC6D classic_bike  2021-01-24 13:45:00 2021-01-24 14:14:00\n",
       "46 A4700D25F56EF2F2 classic_bike  2021-01-25 15:19:00 2021-01-25 15:28:00\n",
       "47 40BB0D14EC02D8A4 classic_bike  2021-01-21 18:54:00 2021-01-21 19:01:00\n",
       "48 AE2C596F6BB322BC classic_bike  2021-01-25 16:58:00 2021-01-25 17:04:00\n",
       "49 54B37FD2DCB8A328 electric_bike 2021-01-14 18:35:00 2021-01-14 18:41:00\n",
       "50 65E938AE5AD1D768 classic_bike  2021-01-11 17:27:00 2021-01-11 17:33:00\n",
       "   start_station_name           start_station_id\n",
       "1  California Ave & Cortez St   17660           \n",
       "2  California Ave & Cortez St   17660           \n",
       "3  California Ave & Cortez St   17660           \n",
       "4  California Ave & Cortez St   17660           \n",
       "5  California Ave & Cortez St   17660           \n",
       "6  California Ave & Cortez St   17660           \n",
       "7  California Ave & Cortez St   17660           \n",
       "8  California Ave & Cortez St   17660           \n",
       "9  California Ave & Cortez St   17660           \n",
       "10 California Ave & Cortez St   17660           \n",
       "11 California Ave & Cortez St   17660           \n",
       "12 California Ave & Cortez St   17660           \n",
       "13 California Ave & Cortez St   17660           \n",
       "14 California Ave & Cortez St   17660           \n",
       "15 California Ave & Cortez St   17660           \n",
       "16 California Ave & Cortez St   17660           \n",
       "17 Halsted St & North Branch St KA1504000117    \n",
       "18 Halsted St & North Branch St KA1504000117    \n",
       "19 Glenwood Ave & Touhy Ave     525             \n",
       "20 Halsted St & North Branch St KA1504000117    \n",
       "21 California Ave & Cortez St   17660           \n",
       "22 California Ave & Cortez St   17660           \n",
       "23 California Ave & Cortez St   17660           \n",
       "24 Michigan Ave & 8th St        623             \n",
       "25 Glenwood Ave & Touhy Ave     525             \n",
       "26 California Ave & Cortez St   17660           \n",
       "27 California Ave & Cortez St   17660           \n",
       "28 California Ave & Cortez St   17660           \n",
       "29 California Ave & Cortez St   17660           \n",
       "30 Halsted St & North Branch St KA1504000117    \n",
       "31 Shedd Aquarium               15544           \n",
       "32 Sedgwick St & North Ave      TA1307000038    \n",
       "33 Shedd Aquarium               15544           \n",
       "34 Rush St & Hubbard St         KA1503000044    \n",
       "35 Halsted St & North Branch St KA1504000117    \n",
       "36 Halsted St & North Branch St KA1504000117    \n",
       "37 Halsted St & North Branch St KA1504000117    \n",
       "38 Halsted St & North Branch St KA1504000117    \n",
       "39 Halsted St & North Branch St KA1504000117    \n",
       "40 Campbell Ave & Montrose Ave  15623           \n",
       "41 Campbell Ave & Montrose Ave  15623           \n",
       "42 Michigan Ave & 8th St        623             \n",
       "43 Michigan Ave & 8th St        623             \n",
       "44 Michigan Ave & 8th St        623             \n",
       "45 California Ave & Cortez St   17660           \n",
       "46 Halsted St & North Branch St KA1504000117    \n",
       "47 Rush St & Hubbard St         KA1503000044    \n",
       "48 Rush St & Hubbard St         KA1503000044    \n",
       "49 Rush St & Hubbard St         KA1503000044    \n",
       "50 Rush St & Hubbard St         KA1503000044    \n",
       "   end_station_name                end_station_id start_lat start_lng end_lat \n",
       "1  Wood St & Augusta Blvd          657            41.90036  -87.69670 41.89918\n",
       "2  California Ave & North Ave      13258          41.90041  -87.69673 41.91044\n",
       "3  Wood St & Augusta Blvd          657            41.90037  -87.69669 41.89918\n",
       "4  Wood St & Augusta Blvd          657            41.90038  -87.69672 41.89915\n",
       "5  Wood St & Augusta Blvd          657            41.90036  -87.69670 41.89918\n",
       "6  Wells St & Elm St               KA1504000135   41.90037  -87.69679 41.90327\n",
       "7  Sacramento Blvd & Franklin Blvd KA1504000113   41.90036  -87.69670 41.89047\n",
       "8  Western Ave & Walton St         KA1504000103   41.90036  -87.69670 41.89842\n",
       "9  Damen Ave & Clybourn Ave        13271          41.90031  -87.69679 41.93184\n",
       "10 Damen Ave & Clybourn Ave        13271          41.90036  -87.69663 41.93192\n",
       "11 Leavitt St & North Ave          TA1308000005   41.90040  -87.69671 41.91012\n",
       "12 Leavitt St & North Ave          TA1308000005   41.90041  -87.69671 41.91015\n",
       "13 Leavitt St & North Ave          TA1308000005   41.90041  -87.69685 41.91013\n",
       "14 Leavitt St & North Ave          TA1308000005   41.90036  -87.69670 41.91051\n",
       "15 Honore St & Division St         TA1305000034   41.90036  -87.69670 41.90312\n",
       "16 Ogden Ave & Chicago Ave         TA1305000020   41.90031  -87.69683 41.89636\n",
       "17 Southport Ave & Clark St        TA1308000047   41.89937  -87.64848 41.95708\n",
       "18 Bissell St & Armitage Ave       13059          41.89936  -87.64849 41.91799\n",
       "19 Broadway & Granville Ave        15571          42.01270  -87.66606 41.99478\n",
       "20 Clark St & Lincoln Ave          13179          41.89933  -87.64847 41.91576\n",
       "21 California Ave & Division St    13256          41.90036  -87.69670 41.90303\n",
       "22 California Ave & Division St    13256          41.90036  -87.69670 41.90303\n",
       "23 California Ave & Milwaukee Ave  13084          41.90036  -87.69670 41.92269\n",
       "24 LaSalle St & Jackson Blvd       TA1309000004   41.87277  -87.62398 41.87817\n",
       "25 Clark St & Elmdale Ave          KA1504000148   42.01270  -87.66606 41.99086\n",
       "26 California Ave & North Ave      13258          41.90040  -87.69674 41.91042\n",
       "27 California Ave & North Ave      13258          41.90028  -87.69672 41.91044\n",
       "28 California Ave & North Ave      13258          41.90036  -87.69670 41.91044\n",
       "29 Smith Park                      643            41.90036  -87.69670 41.89205\n",
       "30 Ashland Ave & Belle Plaine Ave  13249          41.89937  -87.64848 41.95606\n",
       "31 Streeter Dr & Grand Ave         13022          41.86723  -87.61536 41.89228\n",
       "32 Franklin St & Chicago Ave       13017          41.91136  -87.63867 41.89685\n",
       "33 Streeter Dr & Grand Ave         13022          41.86730  -87.61535 41.89235\n",
       "34 Dearborn St & Erie St           13045          41.89007  -87.62659 41.89374\n",
       "35 Fairbanks Ct & Grand Ave        TA1305000003   41.89937  -87.64848 41.89185\n",
       "36 Fairbanks Ct & Grand Ave        TA1305000003   41.89937  -87.64848 41.89185\n",
       "37 Fairbanks Ct & Grand Ave        TA1305000003   41.89937  -87.64848 41.89185\n",
       "38 Fairbanks Ct & Grand Ave        TA1305000003   41.89937  -87.64848 41.89185\n",
       "39 Fairbanks Ct & Grand Ave        TA1305000003   41.89937  -87.64848 41.89185\n",
       "40 Sheridan Rd & Irving Park Rd    13063          41.96155  -87.69118 41.95410\n",
       "41 Western Ave & Roscoe St         15634          41.96153  -87.69117 41.94303\n",
       "42 Field Blvd & South Water St     15534          41.87277  -87.62398 41.88635\n",
       "43 Field Blvd & South Water St     15534          41.87277  -87.62398 41.88635\n",
       "44 Field Blvd & South Water St     15534          41.87277  -87.62398 41.88635\n",
       "45 Lincoln Ave & Fullerton Ave     TA1309000058   41.90036  -87.69670 41.92591\n",
       "46 Clark St & Elm St               TA1307000039   41.89937  -87.64848 41.90297\n",
       "47 Sedgwick St & Huron St          TA1307000062   41.89017  -87.62619 41.89467\n",
       "48 Sedgwick St & Huron St          TA1307000062   41.89017  -87.62619 41.89467\n",
       "49 Sedgwick St & Huron St          TA1307000062   41.89007  -87.62631 41.89471\n",
       "50 Sedgwick St & Huron St          TA1307000062   41.89017  -87.62619 41.89467\n",
       "   end_lng   member_casual ride_length day_of_week date       month   day year\n",
       "1  -87.67220 member         7 mins     Sun         2021-01-24 January 24  2021\n",
       "2  -87.69689 member         5 mins     Sat         2021-01-23 January 23  2021\n",
       "3  -87.67218 casual         9 mins     Sat         2021-01-09 January 09  2021\n",
       "4  -87.67218 casual         9 mins     Sat         2021-01-09 January 09  2021\n",
       "5  -87.67220 casual        11 mins     Sun         2021-01-24 January 24  2021\n",
       "6  -87.63446 member        21 mins     Fri         2021-01-22 January 22  2021\n",
       "7  -87.70261 member         6 mins     Tue         2021-01-05 January 05  2021\n",
       "8  -87.68660 member         4 mins     Sat         2021-01-30 January 30  2021\n",
       "9  -87.67781 member        18 mins     Wed         2021-01-27 January 27  2021\n",
       "10 -87.67786 member        17 mins     Fri         2021-01-15 January 15  2021\n",
       "11 -87.68240 casual         8 mins     Sun         2021-01-10 January 10  2021\n",
       "12 -87.68246 casual         7 mins     Mon         2021-01-18 January 18  2021\n",
       "13 -87.68244 casual         7 mins     Thu         2021-01-07 January 07  2021\n",
       "14 -87.68239 casual         9 mins     Mon         2021-01-11 January 11  2021\n",
       "15 -87.67394 casual        10 mins     Fri         2021-01-22 January 22  2021\n",
       "16 -87.65421 casual        14 mins     Sat         2021-01-16 January 16  2021\n",
       "17 -87.66420 member        31 mins     Thu         2021-01-28 January 28  2021\n",
       "18 -87.65250 member         8 mins     Sat         2021-01-08 January 08  2021\n",
       "19 -87.66028 member        13 mins     Sun         2021-01-17 January 17  2021\n",
       "20 -87.63480 member        13 mins     Mon         2021-01-25 January 25  2021\n",
       "21 -87.69747 member         3 mins     Mon         2021-01-11 January 11  2021\n",
       "22 -87.69747 member         1 mins     Thu         2021-01-14 January 14  2021\n",
       "23 -87.69715 member        10 mins     Thu         2021-01-07 January 07  2021\n",
       "24 -87.63193 member         5 mins     Wed         2021-01-06 January 06  2021\n",
       "25 -87.66972 casual        17 mins     Wed         2021-01-06 January 06  2021\n",
       "26 -87.69691 member         5 mins     Wed         2021-01-06 January 06  2021\n",
       "27 -87.69690 member         6 mins     Sun         2021-01-03 January 03  2021\n",
       "28 -87.69720 member         5 mins     Mon         2021-01-11 January 11  2021\n",
       "29 -87.68940 member         6 mins     Sun         2021-01-10 January 10  2021\n",
       "30 -87.66884 member        30 mins     Sat         2021-01-16 January 16  2021\n",
       "31 -87.61204 member        24 mins     Sat         2021-01-23 January 23  2021\n",
       "32 -87.63590 member        18 mins     Fri         2021-01-08 January 08  2021\n",
       "33 -87.61224 casual        20 mins     Fri         2021-01-29 January 29  2021\n",
       "34 -87.62925 member         3 mins     Thu         2021-01-21 January 21  2021\n",
       "35 -87.62058 casual        21 mins     Mon         2021-01-25 January 25  2021\n",
       "36 -87.62058 casual        27 mins     Mon         2021-01-04 January 04  2021\n",
       "37 -87.62058 casual        20 mins     Sun         2021-01-10 January 10  2021\n",
       "38 -87.62058 casual        24 mins     Thu         2021-01-28 January 28  2021\n",
       "39 -87.62058 casual        19 mins     Wed         2021-01-13 January 13  2021\n",
       "40 -87.65436 member        22 mins     Sun         2021-01-17 January 17  2021\n",
       "41 -87.68729 member        26 mins     Sat         2021-01-09 January 09  2021\n",
       "42 -87.61752 member        10 mins     Mon         2021-01-18 January 18  2021\n",
       "43 -87.61752 member        10 mins     Sun         2021-01-17 January 17  2021\n",
       "44 -87.61752 member         9 mins     Sat         2021-01-16 January 16  2021\n",
       "45 -87.64926 member        29 mins     Sun         2021-01-24 January 24  2021\n",
       "46 -87.63128 member         9 mins     Mon         2021-01-25 January 25  2021\n",
       "47 -87.63844 member         7 mins     Thu         2021-01-21 January 21  2021\n",
       "48 -87.63844 member         6 mins     Mon         2021-01-25 January 25  2021\n",
       "49 -87.63815 member         6 mins     Thu         2021-01-14 January 14  2021\n",
       "50 -87.63844 member         6 mins     Mon         2021-01-11 January 11  2021"
      ]
     },
     "metadata": {},
     "output_type": "display_data"
    },
    {
     "data": {
      "text/html": [
       "<table class=\"dataframe\">\n",
       "<caption>A data.frame: 20 × 19</caption>\n",
       "<thead>\n",
       "\t<tr><th></th><th scope=col>ride_id</th><th scope=col>rideable_type</th><th scope=col>started_at</th><th scope=col>ended_at</th><th scope=col>start_station_name</th><th scope=col>start_station_id</th><th scope=col>end_station_name</th><th scope=col>end_station_id</th><th scope=col>start_lat</th><th scope=col>start_lng</th><th scope=col>end_lat</th><th scope=col>end_lng</th><th scope=col>member_casual</th><th scope=col>ride_length</th><th scope=col>day_of_week</th><th scope=col>date</th><th scope=col>month</th><th scope=col>day</th><th scope=col>year</th></tr>\n",
       "\t<tr><th></th><th scope=col>&lt;chr&gt;</th><th scope=col>&lt;chr&gt;</th><th scope=col>&lt;dttm&gt;</th><th scope=col>&lt;dttm&gt;</th><th scope=col>&lt;chr&gt;</th><th scope=col>&lt;chr&gt;</th><th scope=col>&lt;chr&gt;</th><th scope=col>&lt;chr&gt;</th><th scope=col>&lt;dbl&gt;</th><th scope=col>&lt;dbl&gt;</th><th scope=col>&lt;dbl&gt;</th><th scope=col>&lt;dbl&gt;</th><th scope=col>&lt;chr&gt;</th><th scope=col>&lt;drtn&gt;</th><th scope=col>&lt;ord&gt;</th><th scope=col>&lt;date&gt;</th><th scope=col>&lt;chr&gt;</th><th scope=col>&lt;chr&gt;</th><th scope=col>&lt;chr&gt;</th></tr>\n",
       "</thead>\n",
       "<tbody>\n",
       "\t<tr><th scope=row>4491244</th><td>6C75BF6F496BF59C</td><td>classic_bike </td><td>2020-12-29 22:17:00</td><td>2020-12-29 22:21:00</td><td><span style=white-space:pre-wrap>Rhodes Ave &amp; 32nd St       </span></td><td><span style=white-space:pre-wrap>13215       </span></td><td><span style=white-space:pre-wrap>Indiana Ave &amp; 31st St      </span></td><td>TA1308000036</td><td>41.83621</td><td>-87.61353</td><td>41.83884</td><td>-87.62186</td><td>member</td><td> 4 mins</td><td>Tue</td><td>2020-12-29</td><td>December</td><td>29</td><td>2020</td></tr>\n",
       "\t<tr><th scope=row>4491245</th><td>4ACAFE42A588AC1A</td><td>classic_bike </td><td>2020-12-21 06:25:00</td><td>2020-12-21 06:29:00</td><td><span style=white-space:pre-wrap>Rhodes Ave &amp; 32nd St       </span></td><td><span style=white-space:pre-wrap>13215       </span></td><td><span style=white-space:pre-wrap>Indiana Ave &amp; 31st St      </span></td><td>TA1308000036</td><td>41.83621</td><td>-87.61353</td><td>41.83884</td><td>-87.62186</td><td>member</td><td> 4 mins</td><td>Mon</td><td>2020-12-21</td><td>December</td><td>21</td><td>2020</td></tr>\n",
       "\t<tr><th scope=row>4491246</th><td>6BF9B8388E6626D3</td><td>electric_bike</td><td>2020-12-14 06:17:00</td><td>2020-12-14 06:20:00</td><td><span style=white-space:pre-wrap>Rhodes Ave &amp; 32nd St       </span></td><td><span style=white-space:pre-wrap>13215       </span></td><td><span style=white-space:pre-wrap>Indiana Ave &amp; 31st St      </span></td><td>TA1308000036</td><td>41.83675</td><td>-87.61347</td><td>41.83868</td><td>-87.62184</td><td>member</td><td> 3 mins</td><td>Mon</td><td>2020-12-14</td><td>December</td><td>14</td><td>2020</td></tr>\n",
       "\t<tr><th scope=row>4491247</th><td>FD0C864E8360310A</td><td>classic_bike </td><td>2020-12-15 14:23:00</td><td>2020-12-15 14:27:00</td><td><span style=white-space:pre-wrap>Rhodes Ave &amp; 32nd St       </span></td><td><span style=white-space:pre-wrap>13215       </span></td><td><span style=white-space:pre-wrap>Indiana Ave &amp; 31st St      </span></td><td>TA1308000036</td><td>41.83621</td><td>-87.61353</td><td>41.83884</td><td>-87.62186</td><td>member</td><td> 4 mins</td><td>Tue</td><td>2020-12-15</td><td>December</td><td>15</td><td>2020</td></tr>\n",
       "\t<tr><th scope=row>4491248</th><td>439614F00C8BB50F</td><td>classic_bike </td><td>2020-12-22 14:14:00</td><td>2020-12-22 14:18:00</td><td><span style=white-space:pre-wrap>Rhodes Ave &amp; 32nd St       </span></td><td><span style=white-space:pre-wrap>13215       </span></td><td><span style=white-space:pre-wrap>Indiana Ave &amp; 31st St      </span></td><td>TA1308000036</td><td>41.83621</td><td>-87.61353</td><td>41.83884</td><td>-87.62186</td><td>member</td><td> 4 mins</td><td>Tue</td><td>2020-12-22</td><td>December</td><td>22</td><td>2020</td></tr>\n",
       "\t<tr><th scope=row>4491249</th><td>1CB7A948228128F5</td><td>electric_bike</td><td>2020-12-07 06:30:00</td><td>2020-12-07 06:33:00</td><td><span style=white-space:pre-wrap>Rhodes Ave &amp; 32nd St       </span></td><td><span style=white-space:pre-wrap>13215       </span></td><td><span style=white-space:pre-wrap>Indiana Ave &amp; 31st St      </span></td><td>TA1308000036</td><td>41.83673</td><td>-87.61348</td><td>41.83869</td><td>-87.62185</td><td>member</td><td> 3 mins</td><td>Mon</td><td>2020-12-07</td><td>December</td><td>07</td><td>2020</td></tr>\n",
       "\t<tr><th scope=row>4491250</th><td>FB351326E3592815</td><td>electric_bike</td><td>2020-12-01 14:21:00</td><td>2020-12-01 14:24:00</td><td><span style=white-space:pre-wrap>Rhodes Ave &amp; 32nd St       </span></td><td><span style=white-space:pre-wrap>13215       </span></td><td><span style=white-space:pre-wrap>Indiana Ave &amp; 31st St      </span></td><td>TA1308000036</td><td>41.83669</td><td>-87.61340</td><td>41.83875</td><td>-87.62183</td><td>member</td><td> 3 mins</td><td>Tue</td><td>2020-12-01</td><td>December</td><td>01</td><td>2020</td></tr>\n",
       "\t<tr><th scope=row>4491251</th><td>598B1E13C9AD9854</td><td>classic_bike </td><td>2020-12-08 14:08:00</td><td>2020-12-08 14:12:00</td><td><span style=white-space:pre-wrap>Rhodes Ave &amp; 32nd St       </span></td><td><span style=white-space:pre-wrap>13215       </span></td><td><span style=white-space:pre-wrap>Indiana Ave &amp; 31st St      </span></td><td>TA1308000036</td><td>41.83621</td><td>-87.61353</td><td>41.83884</td><td>-87.62186</td><td>member</td><td> 4 mins</td><td>Tue</td><td>2020-12-08</td><td>December</td><td>08</td><td>2020</td></tr>\n",
       "\t<tr><th scope=row>4491252</th><td>99741BBCF3E82A6B</td><td>classic_bike </td><td>2020-12-27 12:14:00</td><td>2020-12-27 12:18:00</td><td><span style=white-space:pre-wrap>Rhodes Ave &amp; 32nd St       </span></td><td><span style=white-space:pre-wrap>13215       </span></td><td><span style=white-space:pre-wrap>Indiana Ave &amp; 31st St      </span></td><td>TA1308000036</td><td>41.83621</td><td>-87.61353</td><td>41.83884</td><td>-87.62186</td><td>casual</td><td> 4 mins</td><td>Sun</td><td>2020-12-27</td><td>December</td><td>27</td><td>2020</td></tr>\n",
       "\t<tr><th scope=row>4491253</th><td>2AE24B8F461EE351</td><td>electric_bike</td><td>2020-12-16 17:42:00</td><td>2020-12-16 18:04:00</td><td><span style=white-space:pre-wrap>Bissell St &amp; Armitage Ave  </span></td><td><span style=white-space:pre-wrap>13059       </span></td><td>California Ave &amp; Altgeld St</td><td><span style=white-space:pre-wrap>15646       </span></td><td>41.91851</td><td>-87.65218</td><td>41.92665</td><td>-87.69770</td><td>casual</td><td>22 mins</td><td>Wed</td><td>2020-12-16</td><td>December</td><td>16</td><td>2020</td></tr>\n",
       "\t<tr><th scope=row>4491254</th><td>C354FD80C4EE7E05</td><td>classic_bike </td><td>2020-12-19 18:53:00</td><td>2020-12-19 19:16:00</td><td>Sheffield Ave &amp; Webster Ave</td><td>TA1309000033</td><td>California Ave &amp; Altgeld St</td><td><span style=white-space:pre-wrap>15646       </span></td><td>41.92154</td><td>-87.65382</td><td>41.92669</td><td>-87.69767</td><td>casual</td><td>23 mins</td><td>Sat</td><td>2020-12-19</td><td>December</td><td>19</td><td>2020</td></tr>\n",
       "\t<tr><th scope=row>4491255</th><td>BF6E2B5E79BB83BD</td><td>electric_bike</td><td>2020-12-18 19:13:00</td><td>2020-12-18 19:33:00</td><td>Sheffield Ave &amp; Webster Ave</td><td>TA1309000033</td><td>California Ave &amp; Altgeld St</td><td><span style=white-space:pre-wrap>15646       </span></td><td>41.92176</td><td>-87.65387</td><td>41.92666</td><td>-87.69771</td><td>casual</td><td>20 mins</td><td>Fri</td><td>2020-12-18</td><td>December</td><td>18</td><td>2020</td></tr>\n",
       "\t<tr><th scope=row>4491256</th><td>C521132FCAE361EE</td><td>electric_bike</td><td>2020-12-03 17:05:00</td><td>2020-12-03 17:08:00</td><td><span style=white-space:pre-wrap>Rhodes Ave &amp; 32nd St       </span></td><td><span style=white-space:pre-wrap>13215       </span></td><td><span style=white-space:pre-wrap>Indiana Ave &amp; 31st St      </span></td><td>TA1308000036</td><td>41.83674</td><td>-87.61342</td><td>41.83872</td><td>-87.62188</td><td>member</td><td> 3 mins</td><td>Thu</td><td>2020-12-03</td><td>December</td><td>03</td><td>2020</td></tr>\n",
       "\t<tr><th scope=row>4491257</th><td>3EABB634303FE27E</td><td>electric_bike</td><td>2020-12-19 14:37:00</td><td>2020-12-19 15:01:00</td><td><span style=white-space:pre-wrap>Damen Ave &amp; Clybourn Ave   </span></td><td><span style=white-space:pre-wrap>13271       </span></td><td><span style=white-space:pre-wrap>Clark St &amp; Bryn Mawr Ave   </span></td><td>KA1504000151</td><td>41.93192</td><td>-87.67777</td><td>41.98356</td><td>-87.66926</td><td>member</td><td>24 mins</td><td>Sat</td><td>2020-12-19</td><td>December</td><td>19</td><td>2020</td></tr>\n",
       "\t<tr><th scope=row>4491258</th><td>6248FC5575ADD257</td><td>classic_bike </td><td>2020-12-28 22:30:00</td><td>2020-12-28 22:36:00</td><td><span style=white-space:pre-wrap>Rhodes Ave &amp; 32nd St       </span></td><td><span style=white-space:pre-wrap>13215       </span></td><td><span style=white-space:pre-wrap>Indiana Ave &amp; 31st St      </span></td><td>TA1308000036</td><td>41.83621</td><td>-87.61353</td><td>41.83884</td><td>-87.62186</td><td>member</td><td> 6 mins</td><td>Mon</td><td>2020-12-28</td><td>December</td><td>28</td><td>2020</td></tr>\n",
       "\t<tr><th scope=row>4491259</th><td>4631EE956BCEA738</td><td>classic_bike </td><td>2020-12-19 13:59:00</td><td>2020-12-19 14:03:00</td><td><span style=white-space:pre-wrap>Rhodes Ave &amp; 32nd St       </span></td><td><span style=white-space:pre-wrap>13215       </span></td><td><span style=white-space:pre-wrap>Indiana Ave &amp; 31st St      </span></td><td>TA1308000036</td><td>41.83621</td><td>-87.61353</td><td>41.83884</td><td>-87.62186</td><td>casual</td><td> 4 mins</td><td>Sat</td><td>2020-12-19</td><td>December</td><td>19</td><td>2020</td></tr>\n",
       "\t<tr><th scope=row>4491260</th><td>D17CBEDEA8DBDFF6</td><td>electric_bike</td><td>2020-12-20 15:48:00</td><td>2020-12-20 15:52:00</td><td><span style=white-space:pre-wrap>Rhodes Ave &amp; 32nd St       </span></td><td><span style=white-space:pre-wrap>13215       </span></td><td><span style=white-space:pre-wrap>Indiana Ave &amp; 31st St      </span></td><td>TA1308000036</td><td>41.83672</td><td>-87.61336</td><td>41.83872</td><td>-87.62185</td><td>member</td><td> 4 mins</td><td>Sun</td><td>2020-12-20</td><td>December</td><td>20</td><td>2020</td></tr>\n",
       "\t<tr><th scope=row>4491261</th><td>447A6C67E9AF962E</td><td><span style=white-space:pre-wrap>docked_bike  </span></td><td>2020-12-02 16:59:00</td><td>2020-12-02 17:08:00</td><td><span style=white-space:pre-wrap>Rhodes Ave &amp; 32nd St       </span></td><td><span style=white-space:pre-wrap>13215       </span></td><td><span style=white-space:pre-wrap>Indiana Ave &amp; 31st St      </span></td><td>TA1308000036</td><td>41.83621</td><td>-87.61353</td><td>41.83884</td><td>-87.62186</td><td>member</td><td> 9 mins</td><td>Wed</td><td>2020-12-02</td><td>December</td><td>02</td><td>2020</td></tr>\n",
       "\t<tr><th scope=row>4491262</th><td>F558C17E95751C62</td><td>electric_bike</td><td>2020-12-20 18:06:00</td><td>2020-12-20 18:09:00</td><td><span style=white-space:pre-wrap>Rhodes Ave &amp; 32nd St       </span></td><td><span style=white-space:pre-wrap>13215       </span></td><td><span style=white-space:pre-wrap>Indiana Ave &amp; 31st St      </span></td><td>TA1308000036</td><td>41.83673</td><td>-87.61339</td><td>41.83875</td><td>-87.62186</td><td>member</td><td> 3 mins</td><td>Sun</td><td>2020-12-20</td><td>December</td><td>20</td><td>2020</td></tr>\n",
       "\t<tr><th scope=row>4491263</th><td>E1888F4B274EEA12</td><td>electric_bike</td><td>2020-12-03 09:43:00</td><td>2020-12-03 09:47:00</td><td><span style=white-space:pre-wrap>Rhodes Ave &amp; 32nd St       </span></td><td><span style=white-space:pre-wrap>13215       </span></td><td><span style=white-space:pre-wrap>Indiana Ave &amp; 31st St      </span></td><td>TA1308000036</td><td>41.83677</td><td>-87.61337</td><td>41.83868</td><td>-87.62185</td><td>member</td><td> 4 mins</td><td>Thu</td><td>2020-12-03</td><td>December</td><td>03</td><td>2020</td></tr>\n",
       "</tbody>\n",
       "</table>\n"
      ],
      "text/latex": [
       "A data.frame: 20 × 19\n",
       "\\begin{tabular}{r|lllllllllllllllllll}\n",
       "  & ride\\_id & rideable\\_type & started\\_at & ended\\_at & start\\_station\\_name & start\\_station\\_id & end\\_station\\_name & end\\_station\\_id & start\\_lat & start\\_lng & end\\_lat & end\\_lng & member\\_casual & ride\\_length & day\\_of\\_week & date & month & day & year\\\\\n",
       "  & <chr> & <chr> & <dttm> & <dttm> & <chr> & <chr> & <chr> & <chr> & <dbl> & <dbl> & <dbl> & <dbl> & <chr> & <drtn> & <ord> & <date> & <chr> & <chr> & <chr>\\\\\n",
       "\\hline\n",
       "\t4491244 & 6C75BF6F496BF59C & classic\\_bike  & 2020-12-29 22:17:00 & 2020-12-29 22:21:00 & Rhodes Ave \\& 32nd St        & 13215        & Indiana Ave \\& 31st St       & TA1308000036 & 41.83621 & -87.61353 & 41.83884 & -87.62186 & member &  4 mins & Tue & 2020-12-29 & December & 29 & 2020\\\\\n",
       "\t4491245 & 4ACAFE42A588AC1A & classic\\_bike  & 2020-12-21 06:25:00 & 2020-12-21 06:29:00 & Rhodes Ave \\& 32nd St        & 13215        & Indiana Ave \\& 31st St       & TA1308000036 & 41.83621 & -87.61353 & 41.83884 & -87.62186 & member &  4 mins & Mon & 2020-12-21 & December & 21 & 2020\\\\\n",
       "\t4491246 & 6BF9B8388E6626D3 & electric\\_bike & 2020-12-14 06:17:00 & 2020-12-14 06:20:00 & Rhodes Ave \\& 32nd St        & 13215        & Indiana Ave \\& 31st St       & TA1308000036 & 41.83675 & -87.61347 & 41.83868 & -87.62184 & member &  3 mins & Mon & 2020-12-14 & December & 14 & 2020\\\\\n",
       "\t4491247 & FD0C864E8360310A & classic\\_bike  & 2020-12-15 14:23:00 & 2020-12-15 14:27:00 & Rhodes Ave \\& 32nd St        & 13215        & Indiana Ave \\& 31st St       & TA1308000036 & 41.83621 & -87.61353 & 41.83884 & -87.62186 & member &  4 mins & Tue & 2020-12-15 & December & 15 & 2020\\\\\n",
       "\t4491248 & 439614F00C8BB50F & classic\\_bike  & 2020-12-22 14:14:00 & 2020-12-22 14:18:00 & Rhodes Ave \\& 32nd St        & 13215        & Indiana Ave \\& 31st St       & TA1308000036 & 41.83621 & -87.61353 & 41.83884 & -87.62186 & member &  4 mins & Tue & 2020-12-22 & December & 22 & 2020\\\\\n",
       "\t4491249 & 1CB7A948228128F5 & electric\\_bike & 2020-12-07 06:30:00 & 2020-12-07 06:33:00 & Rhodes Ave \\& 32nd St        & 13215        & Indiana Ave \\& 31st St       & TA1308000036 & 41.83673 & -87.61348 & 41.83869 & -87.62185 & member &  3 mins & Mon & 2020-12-07 & December & 07 & 2020\\\\\n",
       "\t4491250 & FB351326E3592815 & electric\\_bike & 2020-12-01 14:21:00 & 2020-12-01 14:24:00 & Rhodes Ave \\& 32nd St        & 13215        & Indiana Ave \\& 31st St       & TA1308000036 & 41.83669 & -87.61340 & 41.83875 & -87.62183 & member &  3 mins & Tue & 2020-12-01 & December & 01 & 2020\\\\\n",
       "\t4491251 & 598B1E13C9AD9854 & classic\\_bike  & 2020-12-08 14:08:00 & 2020-12-08 14:12:00 & Rhodes Ave \\& 32nd St        & 13215        & Indiana Ave \\& 31st St       & TA1308000036 & 41.83621 & -87.61353 & 41.83884 & -87.62186 & member &  4 mins & Tue & 2020-12-08 & December & 08 & 2020\\\\\n",
       "\t4491252 & 99741BBCF3E82A6B & classic\\_bike  & 2020-12-27 12:14:00 & 2020-12-27 12:18:00 & Rhodes Ave \\& 32nd St        & 13215        & Indiana Ave \\& 31st St       & TA1308000036 & 41.83621 & -87.61353 & 41.83884 & -87.62186 & casual &  4 mins & Sun & 2020-12-27 & December & 27 & 2020\\\\\n",
       "\t4491253 & 2AE24B8F461EE351 & electric\\_bike & 2020-12-16 17:42:00 & 2020-12-16 18:04:00 & Bissell St \\& Armitage Ave   & 13059        & California Ave \\& Altgeld St & 15646        & 41.91851 & -87.65218 & 41.92665 & -87.69770 & casual & 22 mins & Wed & 2020-12-16 & December & 16 & 2020\\\\\n",
       "\t4491254 & C354FD80C4EE7E05 & classic\\_bike  & 2020-12-19 18:53:00 & 2020-12-19 19:16:00 & Sheffield Ave \\& Webster Ave & TA1309000033 & California Ave \\& Altgeld St & 15646        & 41.92154 & -87.65382 & 41.92669 & -87.69767 & casual & 23 mins & Sat & 2020-12-19 & December & 19 & 2020\\\\\n",
       "\t4491255 & BF6E2B5E79BB83BD & electric\\_bike & 2020-12-18 19:13:00 & 2020-12-18 19:33:00 & Sheffield Ave \\& Webster Ave & TA1309000033 & California Ave \\& Altgeld St & 15646        & 41.92176 & -87.65387 & 41.92666 & -87.69771 & casual & 20 mins & Fri & 2020-12-18 & December & 18 & 2020\\\\\n",
       "\t4491256 & C521132FCAE361EE & electric\\_bike & 2020-12-03 17:05:00 & 2020-12-03 17:08:00 & Rhodes Ave \\& 32nd St        & 13215        & Indiana Ave \\& 31st St       & TA1308000036 & 41.83674 & -87.61342 & 41.83872 & -87.62188 & member &  3 mins & Thu & 2020-12-03 & December & 03 & 2020\\\\\n",
       "\t4491257 & 3EABB634303FE27E & electric\\_bike & 2020-12-19 14:37:00 & 2020-12-19 15:01:00 & Damen Ave \\& Clybourn Ave    & 13271        & Clark St \\& Bryn Mawr Ave    & KA1504000151 & 41.93192 & -87.67777 & 41.98356 & -87.66926 & member & 24 mins & Sat & 2020-12-19 & December & 19 & 2020\\\\\n",
       "\t4491258 & 6248FC5575ADD257 & classic\\_bike  & 2020-12-28 22:30:00 & 2020-12-28 22:36:00 & Rhodes Ave \\& 32nd St        & 13215        & Indiana Ave \\& 31st St       & TA1308000036 & 41.83621 & -87.61353 & 41.83884 & -87.62186 & member &  6 mins & Mon & 2020-12-28 & December & 28 & 2020\\\\\n",
       "\t4491259 & 4631EE956BCEA738 & classic\\_bike  & 2020-12-19 13:59:00 & 2020-12-19 14:03:00 & Rhodes Ave \\& 32nd St        & 13215        & Indiana Ave \\& 31st St       & TA1308000036 & 41.83621 & -87.61353 & 41.83884 & -87.62186 & casual &  4 mins & Sat & 2020-12-19 & December & 19 & 2020\\\\\n",
       "\t4491260 & D17CBEDEA8DBDFF6 & electric\\_bike & 2020-12-20 15:48:00 & 2020-12-20 15:52:00 & Rhodes Ave \\& 32nd St        & 13215        & Indiana Ave \\& 31st St       & TA1308000036 & 41.83672 & -87.61336 & 41.83872 & -87.62185 & member &  4 mins & Sun & 2020-12-20 & December & 20 & 2020\\\\\n",
       "\t4491261 & 447A6C67E9AF962E & docked\\_bike   & 2020-12-02 16:59:00 & 2020-12-02 17:08:00 & Rhodes Ave \\& 32nd St        & 13215        & Indiana Ave \\& 31st St       & TA1308000036 & 41.83621 & -87.61353 & 41.83884 & -87.62186 & member &  9 mins & Wed & 2020-12-02 & December & 02 & 2020\\\\\n",
       "\t4491262 & F558C17E95751C62 & electric\\_bike & 2020-12-20 18:06:00 & 2020-12-20 18:09:00 & Rhodes Ave \\& 32nd St        & 13215        & Indiana Ave \\& 31st St       & TA1308000036 & 41.83673 & -87.61339 & 41.83875 & -87.62186 & member &  3 mins & Sun & 2020-12-20 & December & 20 & 2020\\\\\n",
       "\t4491263 & E1888F4B274EEA12 & electric\\_bike & 2020-12-03 09:43:00 & 2020-12-03 09:47:00 & Rhodes Ave \\& 32nd St        & 13215        & Indiana Ave \\& 31st St       & TA1308000036 & 41.83677 & -87.61337 & 41.83868 & -87.62185 & member &  4 mins & Thu & 2020-12-03 & December & 03 & 2020\\\\\n",
       "\\end{tabular}\n"
      ],
      "text/markdown": [
       "\n",
       "A data.frame: 20 × 19\n",
       "\n",
       "| <!--/--> | ride_id &lt;chr&gt; | rideable_type &lt;chr&gt; | started_at &lt;dttm&gt; | ended_at &lt;dttm&gt; | start_station_name &lt;chr&gt; | start_station_id &lt;chr&gt; | end_station_name &lt;chr&gt; | end_station_id &lt;chr&gt; | start_lat &lt;dbl&gt; | start_lng &lt;dbl&gt; | end_lat &lt;dbl&gt; | end_lng &lt;dbl&gt; | member_casual &lt;chr&gt; | ride_length &lt;drtn&gt; | day_of_week &lt;ord&gt; | date &lt;date&gt; | month &lt;chr&gt; | day &lt;chr&gt; | year &lt;chr&gt; |\n",
       "|---|---|---|---|---|---|---|---|---|---|---|---|---|---|---|---|---|---|---|---|\n",
       "| 4491244 | 6C75BF6F496BF59C | classic_bike  | 2020-12-29 22:17:00 | 2020-12-29 22:21:00 | Rhodes Ave &amp; 32nd St        | 13215        | Indiana Ave &amp; 31st St       | TA1308000036 | 41.83621 | -87.61353 | 41.83884 | -87.62186 | member |  4 mins | Tue | 2020-12-29 | December | 29 | 2020 |\n",
       "| 4491245 | 4ACAFE42A588AC1A | classic_bike  | 2020-12-21 06:25:00 | 2020-12-21 06:29:00 | Rhodes Ave &amp; 32nd St        | 13215        | Indiana Ave &amp; 31st St       | TA1308000036 | 41.83621 | -87.61353 | 41.83884 | -87.62186 | member |  4 mins | Mon | 2020-12-21 | December | 21 | 2020 |\n",
       "| 4491246 | 6BF9B8388E6626D3 | electric_bike | 2020-12-14 06:17:00 | 2020-12-14 06:20:00 | Rhodes Ave &amp; 32nd St        | 13215        | Indiana Ave &amp; 31st St       | TA1308000036 | 41.83675 | -87.61347 | 41.83868 | -87.62184 | member |  3 mins | Mon | 2020-12-14 | December | 14 | 2020 |\n",
       "| 4491247 | FD0C864E8360310A | classic_bike  | 2020-12-15 14:23:00 | 2020-12-15 14:27:00 | Rhodes Ave &amp; 32nd St        | 13215        | Indiana Ave &amp; 31st St       | TA1308000036 | 41.83621 | -87.61353 | 41.83884 | -87.62186 | member |  4 mins | Tue | 2020-12-15 | December | 15 | 2020 |\n",
       "| 4491248 | 439614F00C8BB50F | classic_bike  | 2020-12-22 14:14:00 | 2020-12-22 14:18:00 | Rhodes Ave &amp; 32nd St        | 13215        | Indiana Ave &amp; 31st St       | TA1308000036 | 41.83621 | -87.61353 | 41.83884 | -87.62186 | member |  4 mins | Tue | 2020-12-22 | December | 22 | 2020 |\n",
       "| 4491249 | 1CB7A948228128F5 | electric_bike | 2020-12-07 06:30:00 | 2020-12-07 06:33:00 | Rhodes Ave &amp; 32nd St        | 13215        | Indiana Ave &amp; 31st St       | TA1308000036 | 41.83673 | -87.61348 | 41.83869 | -87.62185 | member |  3 mins | Mon | 2020-12-07 | December | 07 | 2020 |\n",
       "| 4491250 | FB351326E3592815 | electric_bike | 2020-12-01 14:21:00 | 2020-12-01 14:24:00 | Rhodes Ave &amp; 32nd St        | 13215        | Indiana Ave &amp; 31st St       | TA1308000036 | 41.83669 | -87.61340 | 41.83875 | -87.62183 | member |  3 mins | Tue | 2020-12-01 | December | 01 | 2020 |\n",
       "| 4491251 | 598B1E13C9AD9854 | classic_bike  | 2020-12-08 14:08:00 | 2020-12-08 14:12:00 | Rhodes Ave &amp; 32nd St        | 13215        | Indiana Ave &amp; 31st St       | TA1308000036 | 41.83621 | -87.61353 | 41.83884 | -87.62186 | member |  4 mins | Tue | 2020-12-08 | December | 08 | 2020 |\n",
       "| 4491252 | 99741BBCF3E82A6B | classic_bike  | 2020-12-27 12:14:00 | 2020-12-27 12:18:00 | Rhodes Ave &amp; 32nd St        | 13215        | Indiana Ave &amp; 31st St       | TA1308000036 | 41.83621 | -87.61353 | 41.83884 | -87.62186 | casual |  4 mins | Sun | 2020-12-27 | December | 27 | 2020 |\n",
       "| 4491253 | 2AE24B8F461EE351 | electric_bike | 2020-12-16 17:42:00 | 2020-12-16 18:04:00 | Bissell St &amp; Armitage Ave   | 13059        | California Ave &amp; Altgeld St | 15646        | 41.91851 | -87.65218 | 41.92665 | -87.69770 | casual | 22 mins | Wed | 2020-12-16 | December | 16 | 2020 |\n",
       "| 4491254 | C354FD80C4EE7E05 | classic_bike  | 2020-12-19 18:53:00 | 2020-12-19 19:16:00 | Sheffield Ave &amp; Webster Ave | TA1309000033 | California Ave &amp; Altgeld St | 15646        | 41.92154 | -87.65382 | 41.92669 | -87.69767 | casual | 23 mins | Sat | 2020-12-19 | December | 19 | 2020 |\n",
       "| 4491255 | BF6E2B5E79BB83BD | electric_bike | 2020-12-18 19:13:00 | 2020-12-18 19:33:00 | Sheffield Ave &amp; Webster Ave | TA1309000033 | California Ave &amp; Altgeld St | 15646        | 41.92176 | -87.65387 | 41.92666 | -87.69771 | casual | 20 mins | Fri | 2020-12-18 | December | 18 | 2020 |\n",
       "| 4491256 | C521132FCAE361EE | electric_bike | 2020-12-03 17:05:00 | 2020-12-03 17:08:00 | Rhodes Ave &amp; 32nd St        | 13215        | Indiana Ave &amp; 31st St       | TA1308000036 | 41.83674 | -87.61342 | 41.83872 | -87.62188 | member |  3 mins | Thu | 2020-12-03 | December | 03 | 2020 |\n",
       "| 4491257 | 3EABB634303FE27E | electric_bike | 2020-12-19 14:37:00 | 2020-12-19 15:01:00 | Damen Ave &amp; Clybourn Ave    | 13271        | Clark St &amp; Bryn Mawr Ave    | KA1504000151 | 41.93192 | -87.67777 | 41.98356 | -87.66926 | member | 24 mins | Sat | 2020-12-19 | December | 19 | 2020 |\n",
       "| 4491258 | 6248FC5575ADD257 | classic_bike  | 2020-12-28 22:30:00 | 2020-12-28 22:36:00 | Rhodes Ave &amp; 32nd St        | 13215        | Indiana Ave &amp; 31st St       | TA1308000036 | 41.83621 | -87.61353 | 41.83884 | -87.62186 | member |  6 mins | Mon | 2020-12-28 | December | 28 | 2020 |\n",
       "| 4491259 | 4631EE956BCEA738 | classic_bike  | 2020-12-19 13:59:00 | 2020-12-19 14:03:00 | Rhodes Ave &amp; 32nd St        | 13215        | Indiana Ave &amp; 31st St       | TA1308000036 | 41.83621 | -87.61353 | 41.83884 | -87.62186 | casual |  4 mins | Sat | 2020-12-19 | December | 19 | 2020 |\n",
       "| 4491260 | D17CBEDEA8DBDFF6 | electric_bike | 2020-12-20 15:48:00 | 2020-12-20 15:52:00 | Rhodes Ave &amp; 32nd St        | 13215        | Indiana Ave &amp; 31st St       | TA1308000036 | 41.83672 | -87.61336 | 41.83872 | -87.62185 | member |  4 mins | Sun | 2020-12-20 | December | 20 | 2020 |\n",
       "| 4491261 | 447A6C67E9AF962E | docked_bike   | 2020-12-02 16:59:00 | 2020-12-02 17:08:00 | Rhodes Ave &amp; 32nd St        | 13215        | Indiana Ave &amp; 31st St       | TA1308000036 | 41.83621 | -87.61353 | 41.83884 | -87.62186 | member |  9 mins | Wed | 2020-12-02 | December | 02 | 2020 |\n",
       "| 4491262 | F558C17E95751C62 | electric_bike | 2020-12-20 18:06:00 | 2020-12-20 18:09:00 | Rhodes Ave &amp; 32nd St        | 13215        | Indiana Ave &amp; 31st St       | TA1308000036 | 41.83673 | -87.61339 | 41.83875 | -87.62186 | member |  3 mins | Sun | 2020-12-20 | December | 20 | 2020 |\n",
       "| 4491263 | E1888F4B274EEA12 | electric_bike | 2020-12-03 09:43:00 | 2020-12-03 09:47:00 | Rhodes Ave &amp; 32nd St        | 13215        | Indiana Ave &amp; 31st St       | TA1308000036 | 41.83677 | -87.61337 | 41.83868 | -87.62185 | member |  4 mins | Thu | 2020-12-03 | December | 03 | 2020 |\n",
       "\n"
      ],
      "text/plain": [
       "        ride_id          rideable_type started_at          ended_at           \n",
       "4491244 6C75BF6F496BF59C classic_bike  2020-12-29 22:17:00 2020-12-29 22:21:00\n",
       "4491245 4ACAFE42A588AC1A classic_bike  2020-12-21 06:25:00 2020-12-21 06:29:00\n",
       "4491246 6BF9B8388E6626D3 electric_bike 2020-12-14 06:17:00 2020-12-14 06:20:00\n",
       "4491247 FD0C864E8360310A classic_bike  2020-12-15 14:23:00 2020-12-15 14:27:00\n",
       "4491248 439614F00C8BB50F classic_bike  2020-12-22 14:14:00 2020-12-22 14:18:00\n",
       "4491249 1CB7A948228128F5 electric_bike 2020-12-07 06:30:00 2020-12-07 06:33:00\n",
       "4491250 FB351326E3592815 electric_bike 2020-12-01 14:21:00 2020-12-01 14:24:00\n",
       "4491251 598B1E13C9AD9854 classic_bike  2020-12-08 14:08:00 2020-12-08 14:12:00\n",
       "4491252 99741BBCF3E82A6B classic_bike  2020-12-27 12:14:00 2020-12-27 12:18:00\n",
       "4491253 2AE24B8F461EE351 electric_bike 2020-12-16 17:42:00 2020-12-16 18:04:00\n",
       "4491254 C354FD80C4EE7E05 classic_bike  2020-12-19 18:53:00 2020-12-19 19:16:00\n",
       "4491255 BF6E2B5E79BB83BD electric_bike 2020-12-18 19:13:00 2020-12-18 19:33:00\n",
       "4491256 C521132FCAE361EE electric_bike 2020-12-03 17:05:00 2020-12-03 17:08:00\n",
       "4491257 3EABB634303FE27E electric_bike 2020-12-19 14:37:00 2020-12-19 15:01:00\n",
       "4491258 6248FC5575ADD257 classic_bike  2020-12-28 22:30:00 2020-12-28 22:36:00\n",
       "4491259 4631EE956BCEA738 classic_bike  2020-12-19 13:59:00 2020-12-19 14:03:00\n",
       "4491260 D17CBEDEA8DBDFF6 electric_bike 2020-12-20 15:48:00 2020-12-20 15:52:00\n",
       "4491261 447A6C67E9AF962E docked_bike   2020-12-02 16:59:00 2020-12-02 17:08:00\n",
       "4491262 F558C17E95751C62 electric_bike 2020-12-20 18:06:00 2020-12-20 18:09:00\n",
       "4491263 E1888F4B274EEA12 electric_bike 2020-12-03 09:43:00 2020-12-03 09:47:00\n",
       "        start_station_name          start_station_id\n",
       "4491244 Rhodes Ave & 32nd St        13215           \n",
       "4491245 Rhodes Ave & 32nd St        13215           \n",
       "4491246 Rhodes Ave & 32nd St        13215           \n",
       "4491247 Rhodes Ave & 32nd St        13215           \n",
       "4491248 Rhodes Ave & 32nd St        13215           \n",
       "4491249 Rhodes Ave & 32nd St        13215           \n",
       "4491250 Rhodes Ave & 32nd St        13215           \n",
       "4491251 Rhodes Ave & 32nd St        13215           \n",
       "4491252 Rhodes Ave & 32nd St        13215           \n",
       "4491253 Bissell St & Armitage Ave   13059           \n",
       "4491254 Sheffield Ave & Webster Ave TA1309000033    \n",
       "4491255 Sheffield Ave & Webster Ave TA1309000033    \n",
       "4491256 Rhodes Ave & 32nd St        13215           \n",
       "4491257 Damen Ave & Clybourn Ave    13271           \n",
       "4491258 Rhodes Ave & 32nd St        13215           \n",
       "4491259 Rhodes Ave & 32nd St        13215           \n",
       "4491260 Rhodes Ave & 32nd St        13215           \n",
       "4491261 Rhodes Ave & 32nd St        13215           \n",
       "4491262 Rhodes Ave & 32nd St        13215           \n",
       "4491263 Rhodes Ave & 32nd St        13215           \n",
       "        end_station_name            end_station_id start_lat start_lng end_lat \n",
       "4491244 Indiana Ave & 31st St       TA1308000036   41.83621  -87.61353 41.83884\n",
       "4491245 Indiana Ave & 31st St       TA1308000036   41.83621  -87.61353 41.83884\n",
       "4491246 Indiana Ave & 31st St       TA1308000036   41.83675  -87.61347 41.83868\n",
       "4491247 Indiana Ave & 31st St       TA1308000036   41.83621  -87.61353 41.83884\n",
       "4491248 Indiana Ave & 31st St       TA1308000036   41.83621  -87.61353 41.83884\n",
       "4491249 Indiana Ave & 31st St       TA1308000036   41.83673  -87.61348 41.83869\n",
       "4491250 Indiana Ave & 31st St       TA1308000036   41.83669  -87.61340 41.83875\n",
       "4491251 Indiana Ave & 31st St       TA1308000036   41.83621  -87.61353 41.83884\n",
       "4491252 Indiana Ave & 31st St       TA1308000036   41.83621  -87.61353 41.83884\n",
       "4491253 California Ave & Altgeld St 15646          41.91851  -87.65218 41.92665\n",
       "4491254 California Ave & Altgeld St 15646          41.92154  -87.65382 41.92669\n",
       "4491255 California Ave & Altgeld St 15646          41.92176  -87.65387 41.92666\n",
       "4491256 Indiana Ave & 31st St       TA1308000036   41.83674  -87.61342 41.83872\n",
       "4491257 Clark St & Bryn Mawr Ave    KA1504000151   41.93192  -87.67777 41.98356\n",
       "4491258 Indiana Ave & 31st St       TA1308000036   41.83621  -87.61353 41.83884\n",
       "4491259 Indiana Ave & 31st St       TA1308000036   41.83621  -87.61353 41.83884\n",
       "4491260 Indiana Ave & 31st St       TA1308000036   41.83672  -87.61336 41.83872\n",
       "4491261 Indiana Ave & 31st St       TA1308000036   41.83621  -87.61353 41.83884\n",
       "4491262 Indiana Ave & 31st St       TA1308000036   41.83673  -87.61339 41.83875\n",
       "4491263 Indiana Ave & 31st St       TA1308000036   41.83677  -87.61337 41.83868\n",
       "        end_lng   member_casual ride_length day_of_week date       month    day\n",
       "4491244 -87.62186 member         4 mins     Tue         2020-12-29 December 29 \n",
       "4491245 -87.62186 member         4 mins     Mon         2020-12-21 December 21 \n",
       "4491246 -87.62184 member         3 mins     Mon         2020-12-14 December 14 \n",
       "4491247 -87.62186 member         4 mins     Tue         2020-12-15 December 15 \n",
       "4491248 -87.62186 member         4 mins     Tue         2020-12-22 December 22 \n",
       "4491249 -87.62185 member         3 mins     Mon         2020-12-07 December 07 \n",
       "4491250 -87.62183 member         3 mins     Tue         2020-12-01 December 01 \n",
       "4491251 -87.62186 member         4 mins     Tue         2020-12-08 December 08 \n",
       "4491252 -87.62186 casual         4 mins     Sun         2020-12-27 December 27 \n",
       "4491253 -87.69770 casual        22 mins     Wed         2020-12-16 December 16 \n",
       "4491254 -87.69767 casual        23 mins     Sat         2020-12-19 December 19 \n",
       "4491255 -87.69771 casual        20 mins     Fri         2020-12-18 December 18 \n",
       "4491256 -87.62188 member         3 mins     Thu         2020-12-03 December 03 \n",
       "4491257 -87.66926 member        24 mins     Sat         2020-12-19 December 19 \n",
       "4491258 -87.62186 member         6 mins     Mon         2020-12-28 December 28 \n",
       "4491259 -87.62186 casual         4 mins     Sat         2020-12-19 December 19 \n",
       "4491260 -87.62185 member         4 mins     Sun         2020-12-20 December 20 \n",
       "4491261 -87.62186 member         9 mins     Wed         2020-12-02 December 02 \n",
       "4491262 -87.62186 member         3 mins     Sun         2020-12-20 December 20 \n",
       "4491263 -87.62185 member         4 mins     Thu         2020-12-03 December 03 \n",
       "        year\n",
       "4491244 2020\n",
       "4491245 2020\n",
       "4491246 2020\n",
       "4491247 2020\n",
       "4491248 2020\n",
       "4491249 2020\n",
       "4491250 2020\n",
       "4491251 2020\n",
       "4491252 2020\n",
       "4491253 2020\n",
       "4491254 2020\n",
       "4491255 2020\n",
       "4491256 2020\n",
       "4491257 2020\n",
       "4491258 2020\n",
       "4491259 2020\n",
       "4491260 2020\n",
       "4491261 2020\n",
       "4491262 2020\n",
       "4491263 2020"
      ]
     },
     "metadata": {},
     "output_type": "display_data"
    },
    {
     "name": "stdout",
     "output_type": "stream",
     "text": [
      "'data.frame':\t4491263 obs. of  19 variables:\n",
      " $ ride_id           : chr  \"B9F73448DFBE0D45\" \"457C7F4B5D3DA135\" \"57C750326F9FDABE\" \"4D518C65E338D070\" ...\n",
      " $ rideable_type     : chr  \"classic_bike\" \"electric_bike\" \"electric_bike\" \"electric_bike\" ...\n",
      " $ started_at        : POSIXct, format: \"2021-01-24 19:15:00\" \"2021-01-23 12:57:00\" ...\n",
      " $ ended_at          : POSIXct, format: \"2021-01-24 19:22:00\" \"2021-01-23 13:02:00\" ...\n",
      " $ start_station_name: chr  \"California Ave & Cortez St\" \"California Ave & Cortez St\" \"California Ave & Cortez St\" \"California Ave & Cortez St\" ...\n",
      " $ start_station_id  : chr  \"17660\" \"17660\" \"17660\" \"17660\" ...\n",
      " $ end_station_name  : chr  \"Wood St & Augusta Blvd\" \"California Ave & North Ave\" \"Wood St & Augusta Blvd\" \"Wood St & Augusta Blvd\" ...\n",
      " $ end_station_id    : chr  \"657\" \"13258\" \"657\" \"657\" ...\n",
      " $ start_lat         : num  41.9 41.9 41.9 41.9 41.9 ...\n",
      " $ start_lng         : num  -87.7 -87.7 -87.7 -87.7 -87.7 ...\n",
      " $ end_lat           : num  41.9 41.9 41.9 41.9 41.9 ...\n",
      " $ end_lng           : num  -87.7 -87.7 -87.7 -87.7 -87.7 ...\n",
      " $ member_casual     : chr  \"member\" \"member\" \"casual\" \"casual\" ...\n",
      " $ ride_length       : 'difftime' num  7 5 9 9 ...\n",
      "  ..- attr(*, \"units\")= chr \"mins\"\n",
      " $ day_of_week       : Ord.factor w/ 7 levels \"Sun\"<\"Mon\"<\"Tue\"<..: 1 7 7 7 1 6 3 7 4 6 ...\n",
      " $ date              : Date, format: \"2021-01-24\" \"2021-01-23\" ...\n",
      " $ month             : chr  \"January\" \"January\" \"January\" \"January\" ...\n",
      " $ day               : chr  \"24\" \"23\" \"09\" \"09\" ...\n",
      " $ year              : chr  \"2021\" \"2021\" \"2021\" \"2021\" ...\n",
      " - attr(*, \"na.action\")= 'omit' Named int [1:953254] 1 2 3 4 5 6 7 8 9 2465 ...\n",
      "  ..- attr(*, \"names\")= chr [1:953254] \"1\" \"2\" \"3\" \"4\" ...\n"
     ]
    }
   ],
   "source": [
    "# View summary of the dataframe\n",
    "summary(Trips2021)\n",
    "\n",
    "# View the first 50 rows of the dataframe\n",
    "head(Trips2021,50)\n",
    "\n",
    "# View the last 20 rows of the dataframe\n",
    "tail(Trips2021,20)\n",
    "\n",
    "# View the structure of the dataframe\n",
    "str(Trips2021)"
   ]
  },
  {
   "cell_type": "markdown",
   "id": "eb541321",
   "metadata": {
    "papermill": {
     "duration": 0.017737,
     "end_time": "2023-05-29T17:12:15.575548",
     "exception": false,
     "start_time": "2023-05-29T17:12:15.557811",
     "status": "completed"
    },
    "tags": []
   },
   "source": [
    "A more suitable name should be given to member_casual"
   ]
  },
  {
   "cell_type": "code",
   "execution_count": 17,
   "id": "b99876ab",
   "metadata": {
    "execution": {
     "iopub.execute_input": "2023-05-29T17:12:15.614929Z",
     "iopub.status.busy": "2023-05-29T17:12:15.613645Z",
     "iopub.status.idle": "2023-05-29T17:12:15.624878Z",
     "shell.execute_reply": "2023-05-29T17:12:15.623511Z"
    },
    "papermill": {
     "duration": 0.033157,
     "end_time": "2023-05-29T17:12:15.626681",
     "exception": false,
     "start_time": "2023-05-29T17:12:15.593524",
     "status": "completed"
    },
    "tags": []
   },
   "outputs": [],
   "source": [
    "# Rename the column member_casual to users\n",
    "colnames(Trips2021)[colnames(Trips2021)==\"member_casual\"] <- \"users\""
   ]
  },
  {
   "cell_type": "markdown",
   "id": "160ac1c9",
   "metadata": {
    "papermill": {
     "duration": 0.018009,
     "end_time": "2023-05-29T17:12:15.662804",
     "exception": false,
     "start_time": "2023-05-29T17:12:15.644795",
     "status": "completed"
    },
    "tags": []
   },
   "source": [
    "## **ANALYZE**\n",
    "* descriptive"
   ]
  },
  {
   "cell_type": "code",
   "execution_count": 18,
   "id": "72b9fb8e",
   "metadata": {
    "execution": {
     "iopub.execute_input": "2023-05-29T17:12:15.701794Z",
     "iopub.status.busy": "2023-05-29T17:12:15.700317Z",
     "iopub.status.idle": "2023-05-29T17:12:16.383214Z",
     "shell.execute_reply": "2023-05-29T17:12:16.381771Z"
    },
    "papermill": {
     "duration": 0.70457,
     "end_time": "2023-05-29T17:12:16.385072",
     "exception": false,
     "start_time": "2023-05-29T17:12:15.680502",
     "status": "completed"
    },
    "tags": []
   },
   "outputs": [
    {
     "name": "stdout",
     "output_type": "stream",
     "text": [
      "Time difference of 22 mins\n",
      "Time difference of 55944 mins\n",
      "Time difference of 1 mins\n",
      "Time difference of 12 mins\n",
      "[1] Sat\n",
      "Levels: Sun < Mon < Tue < Wed < Thu < Fri < Sat\n"
     ]
    }
   ],
   "source": [
    "# Calculate the mean ride length and print the result\n",
    "mean_ride_length = round(mean(Trips2021$ride_length),0)\n",
    "print(mean_ride_length)\n",
    "\n",
    "# Calculate the maximum ride length and print the result\n",
    "max_ride_length = max(Trips2021$ride_length)\n",
    "print(max_ride_length)\n",
    "\n",
    "# Calculate the minimum ride length and print the result\n",
    "min_ride_length = min(Trips2021$ride_length)\n",
    "print(min_ride_length)\n",
    "\n",
    "# Calculate the median ride length and print the result\n",
    "median_ride_length = median(Trips2021$ride_length)\n",
    "print(median_ride_length)\n",
    "\n",
    "# Define the Mode function for numeric variables\n",
    "Mode <- function(x) {\n",
    "  ux <- unique(x)\n",
    "  ux[which.max(tabulate(match(x, ux)))]\n",
    "}\n",
    "\n",
    "# Calculate the mode of the day_of_week column\n",
    "mode_day_of_week <- Mode(Trips2021$day_of_week)\n",
    "\n",
    "# Print the mode\n",
    "print(mode_day_of_week)"
   ]
  },
  {
   "cell_type": "markdown",
   "id": "89d7cf0d",
   "metadata": {
    "papermill": {
     "duration": 0.017963,
     "end_time": "2023-05-29T17:12:16.421430",
     "exception": false,
     "start_time": "2023-05-29T17:12:16.403467",
     "status": "completed"
    },
    "tags": []
   },
   "source": [
    "**comparing members and casual users**"
   ]
  },
  {
   "cell_type": "code",
   "execution_count": 19,
   "id": "82f6c85e",
   "metadata": {
    "execution": {
     "iopub.execute_input": "2023-05-29T17:12:16.460577Z",
     "iopub.status.busy": "2023-05-29T17:12:16.459357Z",
     "iopub.status.idle": "2023-05-29T17:12:32.086879Z",
     "shell.execute_reply": "2023-05-29T17:12:32.085521Z"
    },
    "papermill": {
     "duration": 15.649824,
     "end_time": "2023-05-29T17:12:32.088972",
     "exception": false,
     "start_time": "2023-05-29T17:12:16.439148",
     "status": "completed"
    },
    "tags": []
   },
   "outputs": [
    {
     "name": "stdout",
     "output_type": "stream",
     "text": [
      "     [,1]\n",
      "[1,]  0.7\n",
      "[2,]  1.9\n"
     ]
    }
   ],
   "source": [
    "# Compare user type with visuals\n",
    "# Set the output directory and file name\n",
    "output_dir <- \"/kaggle/working/\"\n",
    "output_file <- \"plot0.png\"\n",
    "\n",
    "# Open the PNG device with the specified file and directory\n",
    "png(file = \"/kaggle/working/plot0.png\")\n",
    "# Calculate the mean ride length for each user type\n",
    "means <- aggregate(ride_length ~ users, data = Trips2021, FUN = mean)\n",
    "\n",
    "# Extract the values of the ride_length column as a numeric vector By using as.numeric() to convert the ride_length column to a numeric vector, you are ensuring that the data is in a format that is compatible with these types of calculations, plots, and models.\n",
    "mean_lengths <- as.numeric(means$ride_length)\n",
    "\n",
    "# Remove missing and infinite values from mean_lengths and means$users\n",
    "mean_lengths <- mean_lengths[is.finite(mean_lengths)]\n",
    "means$users <- means$users[is.finite(mean_lengths)]\n",
    "\n",
    "# Create a bar plot of the mean ride length for each user type\n",
    "mean_ride_length<-barplot(height = mean_lengths, names.arg = means$users, xlab = \"User Type\", ylab = \"Mean Ride Length\")\n",
    "print(mean_ride_length)\n",
    "# Calculate the median ride length for each user type\n",
    "medians <- aggregate(ride_length ~ users, data = Trips2021, FUN = median)\n",
    "\n",
    "# Extract the values of the ride_length column as a numeric vector\n",
    "median_lengths <- as.numeric(medians$ride_length)\n",
    "\n",
    "# Create a bar plot of the median ride length for each user type\n",
    "median_ride_length<-barplot(height = median_lengths, names.arg = medians$users, xlab = \"User Type\", ylab = \"Median Ride Length\")\n",
    "\n",
    "# Calculate the min ride length for each user type\n",
    "mins <- aggregate(ride_length ~ users, data = Trips2021, FUN = min)\n",
    "\n",
    "# Extract the values of the ride_length column as a numeric vector\n",
    "min_lengths <- as.numeric(mins$ride_length)\n",
    "\n",
    "# Create a bar plot of the min ride length for each user type\n",
    "min_ride_length<-barplot(height = min_lengths, names.arg = mins$users, xlab = \"User Type\", ylab = \"Min Ride Length\")\n",
    "\n",
    "# Calculate the max ride length for each user type\n",
    "maxs <- aggregate(ride_length ~ users, data = Trips2021, FUN = max)\n",
    "\n",
    "# Extract the values of the ride_length column as a numeric vector\n",
    "max_lengths <- as.numeric(maxs$ride_length)\n",
    "\n",
    "# Create a bar plot of the max ride length for each user type\n",
    "max_ride_length<-barplot(height = max_lengths, names.arg = maxs$users, xlab = \"User Type\", ylab = \"Max Ride Length\")\n"
   ]
  },
  {
   "attachments": {
    "204e8e21-bf33-4fad-9025-4893b52fc439.png": {
     "image/png": "[encoded data removed]"
    },
    "2f0c210a-6f74-4d80-b62d-33bd050a9492.png": {
     "image/png": "[encoded data removed]"
    },
    "3d33ea93-f74f-40ba-870f-f09b838b651c.png": {
     "image/png": "[encoded data removed]"
    },
    "cfecf831-dd2f-4e33-9d68-f89135f773d8.png": {
     "image/png": "[encoded data removed]"
    }
   },
   "cell_type": "markdown",
   "id": "dfa6e1ba",
   "metadata": {
    "papermill": {
     "duration": 0.018862,
     "end_time": "2023-05-29T17:12:32.126786",
     "exception": false,
     "start_time": "2023-05-29T17:12:32.107924",
     "status": "completed"
    },
    "tags": []
   },
   "source": [
    "![Minimum Ride Length.png](attachment:cfecf831-dd2f-4e33-9d68-f89135f773d8.png)![Maximum Ride Length.png](attachment:2f0c210a-6f74-4d80-b62d-33bd050a9492.png)![Mean Ride Length.png](attachment:3d33ea93-f74f-40ba-870f-f09b838b651c.png)![Median Ride Length.png](attachment:204e8e21-bf33-4fad-9025-4893b52fc439.png)"
   ]
  },
  {
   "cell_type": "markdown",
   "id": "303589d8",
   "metadata": {
    "papermill": {
     "duration": 0.018004,
     "end_time": "2023-05-29T17:12:32.162722",
     "exception": false,
     "start_time": "2023-05-29T17:12:32.144718",
     "status": "completed"
    },
    "tags": []
   },
   "source": [
    "# **Supporting visualizations and key findings**"
   ]
  },
  {
   "cell_type": "markdown",
   "id": "63c1b137",
   "metadata": {
    "papermill": {
     "duration": 0.018779,
     "end_time": "2023-05-29T17:12:32.199711",
     "exception": false,
     "start_time": "2023-05-29T17:12:32.180932",
     "status": "completed"
    },
    "tags": []
   },
   "source": [
    "* Aggregating user type by total number of rides "
   ]
  },
  {
   "cell_type": "code",
   "execution_count": 20,
   "id": "236db914",
   "metadata": {
    "execution": {
     "iopub.execute_input": "2023-05-29T17:12:32.239406Z",
     "iopub.status.busy": "2023-05-29T17:12:32.238107Z",
     "iopub.status.idle": "2023-05-29T17:12:32.710501Z",
     "shell.execute_reply": "2023-05-29T17:12:32.709119Z"
    },
    "papermill": {
     "duration": 0.49461,
     "end_time": "2023-05-29T17:12:32.712660",
     "exception": false,
     "start_time": "2023-05-29T17:12:32.218050",
     "status": "completed"
    },
    "tags": []
   },
   "outputs": [
    {
     "data": {
      "text/html": [
       "<strong>png:</strong> 2"
      ],
      "text/latex": [
       "\\textbf{png:} 2"
      ],
      "text/markdown": [
       "**png:** 2"
      ],
      "text/plain": [
       "png \n",
       "  2 "
      ]
     },
     "metadata": {},
     "output_type": "display_data"
    }
   ],
   "source": [
    "# Set the output directory and file name\n",
    "output_dir <- \"/kaggle/working/\"\n",
    "output_file <- \"plot1.png\"\n",
    "\n",
    "# Open the PNG device with the specified file and directory\n",
    "png(file = \"/kaggle/working/plot1.png\")\n",
    "\n",
    "#Visualize user type by the number of ride taken (ride count)\n",
    "Trips2021 %>% \n",
    "  group_by(users) %>% \n",
    "  summarise(ride_count = length(ride_id)) %>% \n",
    "  arrange(users) %>% \n",
    "  ggplot(aes(x = users,y = ride_count,fill = users)) +\n",
    "  geom_col(position = \"dodge\")+\n",
    "  labs(title = \"Total rides taken (ride_count) of Members and Casual riders\")+\n",
    "  scale_y_continuous(labels = function(x) format(x, scientific = FALSE))\n",
    "\n",
    "# Save the plot\n",
    "dev.off()\n"
   ]
  },
  {
   "attachments": {
    "2071a13b-f3b5-436a-8af2-318d705f7551.png": {
     "image/png": "[encoded data removed]"
    }
   },
   "cell_type": "markdown",
   "id": "befc331c",
   "metadata": {
    "papermill": {
     "duration": 0.017731,
     "end_time": "2023-05-29T17:12:32.748726",
     "exception": false,
     "start_time": "2023-05-29T17:12:32.730995",
     "status": "completed"
    },
    "tags": []
   },
   "source": [
    "![Total Rides Taken of Members & Casual Riders.png](attachment:2071a13b-f3b5-436a-8af2-318d705f7551.png)"
   ]
  },
  {
   "cell_type": "markdown",
   "id": "bf804389",
   "metadata": {
    "papermill": {
     "duration": 0.017814,
     "end_time": "2023-05-29T17:12:32.784419",
     "exception": false,
     "start_time": "2023-05-29T17:12:32.766605",
     "status": "completed"
    },
    "tags": []
   },
   "source": [
    "From the above graph, we can observe that there are more member rides(2472658) compared to casual rides(2016189) based on the ride count"
   ]
  },
  {
   "cell_type": "markdown",
   "id": "e8544615",
   "metadata": {
    "papermill": {
     "duration": 0.018093,
     "end_time": "2023-05-29T17:12:32.820370",
     "exception": false,
     "start_time": "2023-05-29T17:12:32.802277",
     "status": "completed"
    },
    "tags": []
   },
   "source": [
    "* Aggregating user type by total number of rides and month"
   ]
  },
  {
   "cell_type": "code",
   "execution_count": 21,
   "id": "6a7895c0",
   "metadata": {
    "execution": {
     "iopub.execute_input": "2023-05-29T17:12:32.859282Z",
     "iopub.status.busy": "2023-05-29T17:12:32.858141Z",
     "iopub.status.idle": "2023-05-29T17:12:34.626968Z",
     "shell.execute_reply": "2023-05-29T17:12:34.625568Z"
    },
    "papermill": {
     "duration": 1.790297,
     "end_time": "2023-05-29T17:12:34.628792",
     "exception": false,
     "start_time": "2023-05-29T17:12:32.838495",
     "status": "completed"
    },
    "tags": []
   },
   "outputs": [
    {
     "name": "stderr",
     "output_type": "stream",
     "text": [
      "\u001b[1m\u001b[22m`summarise()` has grouped output by 'month'. You can override using the\n",
      "`.groups` argument.\n",
      "Warning message in geom_col(aes(y = casual, fill = \"Casual\"), stat = \"identity\"):\n",
      "“\u001b[1m\u001b[22mIgnoring unknown parameters: `stat`”\n"
     ]
    },
    {
     "data": {
      "text/html": [
       "<strong>png:</strong> 2"
      ],
      "text/latex": [
       "\\textbf{png:} 2"
      ],
      "text/markdown": [
       "**png:** 2"
      ],
      "text/plain": [
       "png \n",
       "  2 "
      ]
     },
     "metadata": {},
     "output_type": "display_data"
    }
   ],
   "source": [
    "# Set the output directory and file name\n",
    "output_dir <- \"/kaggle/working/\"\n",
    "output_file <- \"plot2.png\"\n",
    "\n",
    "# Open the PNG device with the specified file and directory\n",
    "png(file = \"/kaggle/working/plot2.png\")\n",
    "\n",
    "# This code chunk creates a bar chart showing the number of rides by user type and month.\n",
    "Trips2021 %>%\n",
    "  group_by(month, users) %>%\n",
    "  summarise(count = n()) %>%\n",
    "  pivot_wider(names_from = users, values_from = count) %>%\n",
    "  ggplot(aes(x = month, y = member, fill = \"Member\")) +\n",
    "  theme(axis.text.x = element_text(angle = 45)) +\n",
    "  geom_bar(stat = \"identity\") +\n",
    "  geom_col(aes(y = casual, fill = \"Casual\"), stat = \"identity\") +\n",
    "  scale_fill_manual(values = c(\"Member\" = \"blue\", \"Casual\" = \"orange\")) +\n",
    "  labs(title = \"Trips by Users' Type and Month From Dec2020 - Nov2021\",\n",
    "       x = \"Month\",\n",
    "       y = \"Number of Trips\",\n",
    "       fill = \"User Type\")\n",
    "\n",
    "# Save the plot\n",
    "dev.off()"
   ]
  },
  {
   "attachments": {
    "a2216acf-11da-4a15-843a-141baeb42bfb.png": {
     "image/png": "[encoded data removed]"
    }
   },
   "cell_type": "markdown",
   "id": "9128a6fe",
   "metadata": {
    "papermill": {
     "duration": 0.019906,
     "end_time": "2023-05-29T17:12:34.667311",
     "exception": false,
     "start_time": "2023-05-29T17:12:34.647405",
     "status": "completed"
    },
    "tags": []
   },
   "source": [
    "![image.png](attachment:a2216acf-11da-4a15-843a-141baeb42bfb.png)"
   ]
  },
  {
   "cell_type": "markdown",
   "id": "ef862bfa",
   "metadata": {
    "papermill": {
     "duration": 0.017916,
     "end_time": "2023-05-29T17:12:34.703202",
     "exception": false,
     "start_time": "2023-05-29T17:12:34.685286",
     "status": "completed"
    },
    "tags": []
   },
   "source": [
    "* Aggregating user type by total number of rides vs day of the week"
   ]
  },
  {
   "cell_type": "code",
   "execution_count": 22,
   "id": "a89ab03a",
   "metadata": {
    "execution": {
     "iopub.execute_input": "2023-05-29T17:12:34.743558Z",
     "iopub.status.busy": "2023-05-29T17:12:34.742173Z",
     "iopub.status.idle": "2023-05-29T17:12:35.070953Z",
     "shell.execute_reply": "2023-05-29T17:12:35.068934Z"
    },
    "papermill": {
     "duration": 0.35143,
     "end_time": "2023-05-29T17:12:35.073120",
     "exception": false,
     "start_time": "2023-05-29T17:12:34.721690",
     "status": "completed"
    },
    "tags": []
   },
   "outputs": [
    {
     "name": "stderr",
     "output_type": "stream",
     "text": [
      "\u001b[1m\u001b[22m`summarise()` has grouped output by 'users'. You can override using the\n",
      "`.groups` argument.\n"
     ]
    },
    {
     "data": {
      "text/html": [
       "<strong>png:</strong> 2"
      ],
      "text/latex": [
       "\\textbf{png:} 2"
      ],
      "text/markdown": [
       "**png:** 2"
      ],
      "text/plain": [
       "png \n",
       "  2 "
      ]
     },
     "metadata": {},
     "output_type": "display_data"
    }
   ],
   "source": [
    "# Set the output directory and file name\n",
    "output_dir <- \"/kaggle/working/\"\n",
    "output_file <- \"plot3.png\"\n",
    "\n",
    "# Open the PNG device with the specified file and directory\n",
    "png(file = \"/kaggle/working/plot3.png\")\n",
    "\n",
    "# This code chunk creates a bar chart showing the total trips by user type vs. day of the week.\n",
    "Trips2021 %>%\n",
    "  group_by(users, day_of_week) %>%\n",
    "  summarise(number_of_rides = n()) %>%\n",
    "  arrange(users, day_of_week)  %>%\n",
    "  ggplot(aes(x = day_of_week, y = number_of_rides, fill = users)) +\n",
    "  labs(title = \"Total trips by User type Vs. Day of the week\") +\n",
    "  geom_col(width = 0.5, position = position_dodge(width = 0.5)) +\n",
    "  scale_y_continuous(labels = function(x) format(x, scientific = FALSE))\n",
    "\n",
    "# Save the plot\n",
    "dev.off()"
   ]
  },
  {
   "attachments": {
    "98b92b28-d037-4aad-a4a4-1c43d79225cf.png": {
     "image/png": "[encoded data removed]"
    }
   },
   "cell_type": "markdown",
   "id": "4f92165c",
   "metadata": {
    "papermill": {
     "duration": 0.020016,
     "end_time": "2023-05-29T17:12:35.112899",
     "exception": false,
     "start_time": "2023-05-29T17:12:35.092883",
     "status": "completed"
    },
    "tags": []
   },
   "source": [
    "![Total trips by User type Vs. Day of the week.png](attachment:98b92b28-d037-4aad-a4a4-1c43d79225cf.png)"
   ]
  },
  {
   "cell_type": "markdown",
   "id": "45ee5d3e",
   "metadata": {
    "papermill": {
     "duration": 0.019669,
     "end_time": "2023-05-29T17:12:35.152376",
     "exception": false,
     "start_time": "2023-05-29T17:12:35.132707",
     "status": "completed"
    },
    "tags": []
   },
   "source": [
    "* Aggregating user type by total number of rides by hour of the day\n"
   ]
  },
  {
   "cell_type": "code",
   "execution_count": 23,
   "id": "a19327a3",
   "metadata": {
    "execution": {
     "iopub.execute_input": "2023-05-29T17:12:35.192648Z",
     "iopub.status.busy": "2023-05-29T17:12:35.191383Z",
     "iopub.status.idle": "2023-05-29T17:13:30.611116Z",
     "shell.execute_reply": "2023-05-29T17:13:30.609439Z"
    },
    "papermill": {
     "duration": 55.459167,
     "end_time": "2023-05-29T17:13:30.630365",
     "exception": false,
     "start_time": "2023-05-29T17:12:35.171198",
     "status": "completed"
    },
    "tags": []
   },
   "outputs": [
    {
     "name": "stderr",
     "output_type": "stream",
     "text": [
      "\u001b[1m\u001b[22mDon't know how to automatically pick scale for object of type \u001b[34m<difftime>\u001b[39m.\n",
      "Defaulting to continuous.\n"
     ]
    },
    {
     "data": {
      "text/html": [
       "<strong>png:</strong> 2"
      ],
      "text/latex": [
       "\\textbf{png:} 2"
      ],
      "text/markdown": [
       "**png:** 2"
      ],
      "text/plain": [
       "png \n",
       "  2 "
      ]
     },
     "metadata": {},
     "output_type": "display_data"
    }
   ],
   "source": [
    "# Set the output directory and file name\n",
    "output_dir <- \"/kaggle/working/\"\n",
    "output_file <- \"plot4.png\"\n",
    "\n",
    "# Open the PNG device with the specified file and directory\n",
    "png(file = \"/kaggle/working/plot4.png\")\n",
    "\n",
    " #This code chunk creates a scatter plot of ride length vs. hour of the day, with each point representing a single ride.\n",
    "# Extract the hour of the day from the started_at column\n",
    "Trips2021$hour <- format(Trips2021$started_at, format = \"%H\")\n",
    "# Create a scatter plot of ride length vs. hour of the day\n",
    "ggplot(Trips2021, aes(x = hour, y = ride_length)) +\n",
    "  geom_point() +\n",
    "  labs(title = \"Ride Length vs. Hour of the Day\",\n",
    "       x = \"Hour of the Day\",\n",
    "       y = \"Ride Length\")\n",
    "\n",
    "# Save the plot\n",
    "dev.off()\n"
   ]
  },
  {
   "attachments": {
    "ecedff26-91a0-45c0-a1fc-42a277e9989d.png": {
     "image/png": "[encoded data removed]"
    }
   },
   "cell_type": "markdown",
   "id": "72bf0ce0",
   "metadata": {
    "papermill": {
     "duration": 0.018742,
     "end_time": "2023-05-29T17:13:30.667821",
     "exception": false,
     "start_time": "2023-05-29T17:13:30.649079",
     "status": "completed"
    },
    "tags": []
   },
   "source": [
    "![Ride Length vs Hour of the Day.png](attachment:ecedff26-91a0-45c0-a1fc-42a277e9989d.png)"
   ]
  },
  {
   "cell_type": "markdown",
   "id": "aca59482",
   "metadata": {
    "papermill": {
     "duration": 0.018656,
     "end_time": "2023-05-29T17:13:30.705348",
     "exception": false,
     "start_time": "2023-05-29T17:13:30.686692",
     "status": "completed"
    },
    "tags": []
   },
   "source": [
    "* Aggregating user type by ride lengths by hour of the day\n"
   ]
  },
  {
   "cell_type": "code",
   "execution_count": 24,
   "id": "365c4391",
   "metadata": {
    "execution": {
     "iopub.execute_input": "2023-05-29T17:13:30.746218Z",
     "iopub.status.busy": "2023-05-29T17:13:30.744992Z",
     "iopub.status.idle": "2023-05-29T17:14:23.132251Z",
     "shell.execute_reply": "2023-05-29T17:14:23.130860Z"
    },
    "papermill": {
     "duration": 52.429759,
     "end_time": "2023-05-29T17:14:23.153841",
     "exception": false,
     "start_time": "2023-05-29T17:13:30.724082",
     "status": "completed"
    },
    "tags": []
   },
   "outputs": [
    {
     "name": "stderr",
     "output_type": "stream",
     "text": [
      "\u001b[1m\u001b[22mDon't know how to automatically pick scale for object of type \u001b[34m<difftime>\u001b[39m.\n",
      "Defaulting to continuous.\n"
     ]
    },
    {
     "data": {
      "text/html": [
       "<strong>png:</strong> 2"
      ],
      "text/latex": [
       "\\textbf{png:} 2"
      ],
      "text/markdown": [
       "**png:** 2"
      ],
      "text/plain": [
       "png \n",
       "  2 "
      ]
     },
     "metadata": {},
     "output_type": "display_data"
    }
   ],
   "source": [
    "# Set the output directory and file name\n",
    "output_dir <- \"/kaggle/working/\"\n",
    "output_file <- \"plot5.png\"\n",
    "\n",
    "# Open the PNG device with the specified file and directory\n",
    "png(file = \"/kaggle/working/plot5.png\")\n",
    "\n",
    " #This code chunk creates a scatter plot of ride length vs. hour of the day against each user type, with each point representing a single ride.\n",
    "# Create a scatter plot of ride length vs. hour of the day by each user type\n",
    "ggplot(Trips2021, aes(x = hour, y = ride_length, color = users)) +\n",
    "  geom_point() +\n",
    "  labs(title = \"Ride Length vs. Hour of the Day by User Type\",\n",
    "       x = \"Hour of the Day\",\n",
    "       y = \"Ride Length\",\n",
    "       color = \"User Type\")\n",
    "\n",
    "# Save the plot\n",
    "dev.off()"
   ]
  },
  {
   "attachments": {
    "9e3b527c-f3ca-4df2-8f94-2e29d7c54a95.jpeg": {
     "image/jpeg": "[encoded data removed]"
    }
   },
   "cell_type": "markdown",
   "id": "ff3b44a1",
   "metadata": {
    "papermill": {
     "duration": 0.019005,
     "end_time": "2023-05-29T17:14:23.192188",
     "exception": false,
     "start_time": "2023-05-29T17:14:23.173183",
     "status": "completed"
    },
    "tags": []
   },
   "source": [
    "![Ride Length vs Hour of the Day by user type.jpeg](attachment:9e3b527c-f3ca-4df2-8f94-2e29d7c54a95.jpeg)"
   ]
  },
  {
   "cell_type": "markdown",
   "id": "a0131576",
   "metadata": {
    "papermill": {
     "duration": 0.019105,
     "end_time": "2023-05-29T17:14:23.230416",
     "exception": false,
     "start_time": "2023-05-29T17:14:23.211311",
     "status": "completed"
    },
    "tags": []
   },
   "source": [
    "* Aggregating ride length by rideable type and user type"
   ]
  },
  {
   "cell_type": "code",
   "execution_count": 25,
   "id": "050a6953",
   "metadata": {
    "execution": {
     "iopub.execute_input": "2023-05-29T17:14:23.271966Z",
     "iopub.status.busy": "2023-05-29T17:14:23.270691Z",
     "iopub.status.idle": "2023-05-29T17:14:54.265170Z",
     "shell.execute_reply": "2023-05-29T17:14:54.263621Z"
    },
    "papermill": {
     "duration": 31.037214,
     "end_time": "2023-05-29T17:14:54.286802",
     "exception": false,
     "start_time": "2023-05-29T17:14:23.249588",
     "status": "completed"
    },
    "tags": []
   },
   "outputs": [
    {
     "name": "stderr",
     "output_type": "stream",
     "text": [
      "\u001b[1m\u001b[22mDon't know how to automatically pick scale for object of type \u001b[34m<difftime>\u001b[39m.\n",
      "Defaulting to continuous.\n"
     ]
    },
    {
     "data": {
      "text/html": [
       "<strong>png:</strong> 2"
      ],
      "text/latex": [
       "\\textbf{png:} 2"
      ],
      "text/markdown": [
       "**png:** 2"
      ],
      "text/plain": [
       "png \n",
       "  2 "
      ]
     },
     "metadata": {},
     "output_type": "display_data"
    }
   ],
   "source": [
    " # Set the output directory and file name\n",
    "output_dir <- \"/kaggle/working/\"\n",
    "output_file <- \"plot6.png\"\n",
    "\n",
    "# Open the PNG device with the specified file and directory\n",
    "png(file = \"/kaggle/working/plot6.png\")\n",
    "\n",
    "# Create a bar chart of ride length by rideable type and user type\n",
    " ggplot(Trips2021, aes(x = rideable_type, y = ride_length, fill = users)) +\n",
    "  geom_bar(stat = \"identity\", position = \"dodge\") +\n",
    "   labs(title = \"Ride Length by Rideable Type and User Type\",\n",
    "        x = \"Rideable Type\",\n",
    "        y = \"Ride Length\",\n",
    "        fill = \"User Type\") +\n",
    "   theme_minimal()\n",
    "\n",
    "# Save the plot\n",
    "dev.off()\n"
   ]
  },
  {
   "attachments": {
    "fe12a05f-0f0f-4069-9b9c-9bf1c387ee58.png": {
     "image/png": "[encoded data removed]"
    }
   },
   "cell_type": "markdown",
   "id": "5b18a817",
   "metadata": {
    "papermill": {
     "duration": 0.019221,
     "end_time": "2023-05-29T17:14:54.325514",
     "exception": false,
     "start_time": "2023-05-29T17:14:54.306293",
     "status": "completed"
    },
    "tags": []
   },
   "source": [
    "![rideableType by user.png](attachment:fe12a05f-0f0f-4069-9b9c-9bf1c387ee58.png)"
   ]
  },
  {
   "cell_type": "markdown",
   "id": "8742223d",
   "metadata": {
    "papermill": {
     "duration": 0.019645,
     "end_time": "2023-05-29T17:14:54.364547",
     "exception": false,
     "start_time": "2023-05-29T17:14:54.344902",
     "status": "completed"
    },
    "tags": []
   },
   "source": [
    "It is obvious that electric bike is the least choice of the rideable type for both users (casual and member). The docked bike seem to be the best option and dominated by the casual users. Members have their preferences at the same rate only within the classic and the docked bike."
   ]
  },
  {
   "cell_type": "markdown",
   "id": "07d0a03c",
   "metadata": {
    "papermill": {
     "duration": 0.019364,
     "end_time": "2023-05-29T17:14:54.402923",
     "exception": false,
     "start_time": "2023-05-29T17:14:54.383559",
     "status": "completed"
    },
    "tags": []
   },
   "source": [
    "* Average ride length by hour of the day "
   ]
  },
  {
   "cell_type": "code",
   "execution_count": 26,
   "id": "a20a0312",
   "metadata": {
    "execution": {
     "iopub.execute_input": "2023-05-29T17:14:54.445899Z",
     "iopub.status.busy": "2023-05-29T17:14:54.444540Z",
     "iopub.status.idle": "2023-05-29T17:14:56.978201Z",
     "shell.execute_reply": "2023-05-29T17:14:56.976724Z"
    },
    "papermill": {
     "duration": 2.557125,
     "end_time": "2023-05-29T17:14:56.979976",
     "exception": false,
     "start_time": "2023-05-29T17:14:54.422851",
     "status": "completed"
    },
    "tags": []
   },
   "outputs": [
    {
     "data": {
      "text/html": [
       "<strong>png:</strong> 2"
      ],
      "text/latex": [
       "\\textbf{png:} 2"
      ],
      "text/markdown": [
       "**png:** 2"
      ],
      "text/plain": [
       "png \n",
       "  2 "
      ]
     },
     "metadata": {},
     "output_type": "display_data"
    }
   ],
   "source": [
    "library(RColorBrewer)\n",
    "# Set the output directory and file name\n",
    "output_dir <- \"/kaggle/working/\"\n",
    "output_file <- \"plot7.png\"\n",
    "\n",
    "# Open the PNG device with the specified file and directory\n",
    "png(file = \"/kaggle/working/plot7.png\")\n",
    "\n",
    "# Calculate the average ride length by hour of the day\n",
    "ride_length_hour <- Trips2021 %>%\n",
    "  mutate(hour = format(started_at, format = \"%H\")) %>%\n",
    "  group_by(hour) %>%\n",
    "  summarise(avg_ride_length = mean(as.numeric(ride_length)))\n",
    "\n",
    "# Create a heatmap\n",
    "ggplot(ride_length_hour, aes(x = hour, y = avg_ride_length, fill = avg_ride_length)) +\n",
    "  geom_tile() +\n",
    "  scale_fill_gradient(low = \"blue\", high = \"red\") +\n",
    "  labs(title = \"Average Ride Length by Hour of the Day Heatmap\",\n",
    "       x = \"Hour of the Day\",\n",
    "       y = \"Average Ride Length\") +\n",
    "  theme_minimal()\n",
    "\n",
    "# Save the plot\n",
    "dev.off()"
   ]
  },
  {
   "attachments": {
    "c08520d4-fa4f-4e36-b0a1-fff777b8185e.png": {
     "image/png": "[encoded data removed]"
    }
   },
   "cell_type": "markdown",
   "id": "e4580060",
   "metadata": {
    "papermill": {
     "duration": 0.019531,
     "end_time": "2023-05-29T17:14:57.018980",
     "exception": false,
     "start_time": "2023-05-29T17:14:56.999449",
     "status": "completed"
    },
    "tags": []
   },
   "source": [
    "![Average Ride Length by Hour of the Day Heatmap.png](attachment:c08520d4-fa4f-4e36-b0a1-fff777b8185e.png)"
   ]
  },
  {
   "cell_type": "markdown",
   "id": "bdfb02b6",
   "metadata": {
    "papermill": {
     "duration": 0.021162,
     "end_time": "2023-05-29T17:14:57.059401",
     "exception": false,
     "start_time": "2023-05-29T17:14:57.038239",
     "status": "completed"
    },
    "tags": []
   },
   "source": [
    "* Aggregating user type by average ride length and day of the week"
   ]
  },
  {
   "cell_type": "code",
   "execution_count": 27,
   "id": "88f21640",
   "metadata": {
    "execution": {
     "iopub.execute_input": "2023-05-29T17:14:57.103255Z",
     "iopub.status.busy": "2023-05-29T17:14:57.102008Z",
     "iopub.status.idle": "2023-05-29T17:14:57.503298Z",
     "shell.execute_reply": "2023-05-29T17:14:57.501986Z"
    },
    "papermill": {
     "duration": 0.425252,
     "end_time": "2023-05-29T17:14:57.505157",
     "exception": false,
     "start_time": "2023-05-29T17:14:57.079905",
     "status": "completed"
    },
    "tags": []
   },
   "outputs": [
    {
     "name": "stderr",
     "output_type": "stream",
     "text": [
      "\u001b[1m\u001b[22m`summarise()` has grouped output by 'users'. You can override using the\n",
      "`.groups` argument.\n"
     ]
    },
    {
     "data": {
      "text/html": [
       "<strong>png:</strong> 2"
      ],
      "text/latex": [
       "\\textbf{png:} 2"
      ],
      "text/markdown": [
       "**png:** 2"
      ],
      "text/plain": [
       "png \n",
       "  2 "
      ]
     },
     "metadata": {},
     "output_type": "display_data"
    }
   ],
   "source": [
    "# Set the output directory and file name\n",
    "output_dir <- \"/kaggle/working/\"\n",
    "output_file <- \"plot8.png\"\n",
    "\n",
    "# Open the PNG device with the specified file and directory\n",
    "png(file = \"/kaggle/working/plot8.png\")\n",
    "\n",
    "# This code chunk creates a bar chart showing the average ride length by user type vs. day of the week.\n",
    "Trips2021 %>%\n",
    "  group_by(users, day_of_week) %>%\n",
    "  summarise(average_ride_length = mean(as.numeric(ride_length), na.rm = TRUE)) %>%\n",
    "  ggplot(aes(x = day_of_week, y = average_ride_length/60, fill = users)) + # dividing by 60 to convert seconds to minutes\n",
    "  geom_col(width = 0.5, position = position_dodge(width = 0.5)) +\n",
    "  labs(title = \"Average Ride length by User type Vs. Day of the week\")\n",
    "\n",
    "# Save the plot\n",
    "dev.off()"
   ]
  },
  {
   "attachments": {
    "a70976fc-47f2-4a77-8153-d25d3a704a8e.png": {
     "image/png": "[encoded data removed]"
    }
   },
   "cell_type": "markdown",
   "id": "a5188b16",
   "metadata": {
    "papermill": {
     "duration": 0.019678,
     "end_time": "2023-05-29T17:14:57.544522",
     "exception": false,
     "start_time": "2023-05-29T17:14:57.524844",
     "status": "completed"
    },
    "tags": []
   },
   "source": [
    "![Average Ride Length by User Type vs Day of the Week.png](attachment:a70976fc-47f2-4a77-8153-d25d3a704a8e.png)"
   ]
  },
  {
   "cell_type": "markdown",
   "id": "8e29d13a",
   "metadata": {
    "papermill": {
     "duration": 0.020321,
     "end_time": "2023-05-29T17:14:57.584401",
     "exception": false,
     "start_time": "2023-05-29T17:14:57.564080",
     "status": "completed"
    },
    "tags": []
   },
   "source": [
    "* Aggregating average ride length for each user type by month."
   ]
  },
  {
   "cell_type": "code",
   "execution_count": 28,
   "id": "326c5b79",
   "metadata": {
    "execution": {
     "iopub.execute_input": "2023-05-29T17:14:57.627482Z",
     "iopub.status.busy": "2023-05-29T17:14:57.626150Z",
     "iopub.status.idle": "2023-05-29T17:14:58.045892Z",
     "shell.execute_reply": "2023-05-29T17:14:58.044390Z"
    },
    "papermill": {
     "duration": 0.443727,
     "end_time": "2023-05-29T17:14:58.048328",
     "exception": false,
     "start_time": "2023-05-29T17:14:57.604601",
     "status": "completed"
    },
    "tags": []
   },
   "outputs": [
    {
     "name": "stderr",
     "output_type": "stream",
     "text": [
      "\u001b[1m\u001b[22m`summarise()` has grouped output by 'users'. You can override using the\n",
      "`.groups` argument.\n"
     ]
    },
    {
     "data": {
      "text/html": [
       "<strong>png:</strong> 2"
      ],
      "text/latex": [
       "\\textbf{png:} 2"
      ],
      "text/markdown": [
       "**png:** 2"
      ],
      "text/plain": [
       "png \n",
       "  2 "
      ]
     },
     "metadata": {},
     "output_type": "display_data"
    }
   ],
   "source": [
    "# Set the output directory and file name\n",
    "output_dir <- \"/kaggle/working/\"\n",
    "output_file <- \"plot9.png\"\n",
    "\n",
    "# Open the PNG device with the specified file and directory\n",
    "png(file = \"/kaggle/working/plot9.png\")\n",
    "\n",
    "#Visualize the average ride distance and month of the ride by users\n",
    "Trips2021 %>% \n",
    "  group_by(users,month) %>% \n",
    "  summarise(average_ride_length = mean(as.numeric(ride_length))) %>% \n",
    "  arrange(month) %>% \n",
    "  ggplot(aes(x = month, y = average_ride_length, fill = users)) +\n",
    "  labs(title = \"Average ride distance of members and casual riders by month\")+\n",
    "  theme(axis.text.x = element_text(angle = 45)) +\n",
    "  geom_col(position = position_dodge(width=0.5)) +\n",
    "  scale_y_continuous(labels = function(x) format(x, scientific = FALSE))\n",
    "\n",
    "# Save the plot\n",
    "dev.off()"
   ]
  },
  {
   "attachments": {
    "3725fbab-ffc9-4e43-9663-88863fb299ae.png": {
     "image/png": "[encoded data removed]"
    }
   },
   "cell_type": "markdown",
   "id": "da3f9133",
   "metadata": {
    "papermill": {
     "duration": 0.020152,
     "end_time": "2023-05-29T17:14:58.089322",
     "exception": false,
     "start_time": "2023-05-29T17:14:58.069170",
     "status": "completed"
    },
    "tags": []
   },
   "source": [
    "![Average Ride Distance of Members & Casual Riders by Month.png](attachment:3725fbab-ffc9-4e43-9663-88863fb299ae.png)"
   ]
  },
  {
   "cell_type": "markdown",
   "id": "f857dbb0",
   "metadata": {
    "papermill": {
     "duration": 0.019739,
     "end_time": "2023-05-29T17:14:58.128871",
     "exception": false,
     "start_time": "2023-05-29T17:14:58.109132",
     "status": "completed"
    },
    "tags": []
   },
   "source": [
    "From the graph above casual riders tend to travel for more distance than the membership riders.\n",
    "\n"
   ]
  },
  {
   "cell_type": "markdown",
   "id": "a113a000",
   "metadata": {
    "papermill": {
     "duration": 0.019635,
     "end_time": "2023-05-29T17:14:58.168363",
     "exception": false,
     "start_time": "2023-05-29T17:14:58.148728",
     "status": "completed"
    },
    "tags": []
   },
   "source": [
    "* Aggregating Ride Length and Hour of the Day by User Type"
   ]
  },
  {
   "cell_type": "code",
   "execution_count": 29,
   "id": "74d754b1",
   "metadata": {
    "execution": {
     "iopub.execute_input": "2023-05-29T17:14:58.210176Z",
     "iopub.status.busy": "2023-05-29T17:14:58.208945Z",
     "iopub.status.idle": "2023-05-29T17:15:39.397789Z",
     "shell.execute_reply": "2023-05-29T17:15:39.395658Z"
    },
    "papermill": {
     "duration": 41.234006,
     "end_time": "2023-05-29T17:15:39.421703",
     "exception": false,
     "start_time": "2023-05-29T17:14:58.187697",
     "status": "completed"
    },
    "tags": []
   },
   "outputs": [
    {
     "name": "stderr",
     "output_type": "stream",
     "text": [
      "\u001b[1m\u001b[22mDon't know how to automatically pick scale for object of type \u001b[34m<difftime>\u001b[39m.\n",
      "Defaulting to continuous.\n"
     ]
    },
    {
     "data": {
      "text/html": [
       "<strong>png:</strong> 2"
      ],
      "text/latex": [
       "\\textbf{png:} 2"
      ],
      "text/markdown": [
       "**png:** 2"
      ],
      "text/plain": [
       "png \n",
       "  2 "
      ]
     },
     "metadata": {},
     "output_type": "display_data"
    }
   ],
   "source": [
    "# Set the output directory and file name\n",
    "output_dir <- \"/kaggle/working/\"\n",
    "output_file <- \"plot10.png\"\n",
    "\n",
    "# Define the desired width and height for the output plot\n",
    "width <- 17  # Width in inches\n",
    "height <- 12  # Height in inches\n",
    "\n",
    "# Open the PNG device with the specified file and directory\n",
    "png(file = \"/kaggle/working/plot10.png\")\n",
    "\n",
    "# Convert hour to character\n",
    "Trips2021$hour <- as.character(Trips2021$hour)\n",
    "\n",
    "# Create the plot with organized x-axis labels\n",
    "ggplot(Trips2021, aes(x = hour, y = ride_length, color = users)) +\n",
    "  geom_point() +\n",
    "  labs(title = \"Ride Length and Hour of the Day by User Type\",\n",
    "       x = \"Hour of the Day\",\n",
    "       y = \"Ride Length\",\n",
    "       color = \"User Type\") +\n",
    "  facet_wrap(~ day, ncol = 3) +\n",
    "  theme_minimal() +\n",
    "  scale_x_discrete(breaks = seq(0, 23, by = 2), labels = c(\"12AM\", \"2AM\", \"4AM\", \"6AM\", \"8AM\", \"10AM\", \"12PM\", \"2PM\", \"4PM\", \"6PM\", \"8PM\", \"10PM\"))\n",
    "\n",
    "# Save the plot\n",
    "dev.off()"
   ]
  },
  {
   "cell_type": "markdown",
   "id": "9ca8c983",
   "metadata": {
    "papermill": {
     "duration": 0.019705,
     "end_time": "2023-05-29T17:15:39.461056",
     "exception": false,
     "start_time": "2023-05-29T17:15:39.441351",
     "status": "completed"
    },
    "tags": []
   },
   "source": [
    "* Aggregating Ride Length by Day of the Week, Hour of the Day, and User Type"
   ]
  },
  {
   "cell_type": "code",
   "execution_count": 30,
   "id": "9bede865",
   "metadata": {
    "execution": {
     "iopub.execute_input": "2023-05-29T17:15:39.504456Z",
     "iopub.status.busy": "2023-05-29T17:15:39.503042Z",
     "iopub.status.idle": "2023-05-29T17:16:24.504620Z",
     "shell.execute_reply": "2023-05-29T17:16:24.502510Z"
    },
    "papermill": {
     "duration": 45.047972,
     "end_time": "2023-05-29T17:16:24.528701",
     "exception": false,
     "start_time": "2023-05-29T17:15:39.480729",
     "status": "completed"
    },
    "tags": []
   },
   "outputs": [
    {
     "name": "stderr",
     "output_type": "stream",
     "text": [
      "\u001b[1m\u001b[22mDon't know how to automatically pick scale for object of type \u001b[34m<difftime>\u001b[39m.\n",
      "Defaulting to continuous.\n"
     ]
    },
    {
     "data": {
      "text/html": [
       "<strong>png:</strong> 2"
      ],
      "text/latex": [
       "\\textbf{png:} 2"
      ],
      "text/markdown": [
       "**png:** 2"
      ],
      "text/plain": [
       "png \n",
       "  2 "
      ]
     },
     "metadata": {},
     "output_type": "display_data"
    }
   ],
   "source": [
    "# Set the output directory and file name\n",
    "output_dir <- \"/kaggle/working/\"\n",
    "output_file <- \"plot11.png\"\n",
    "\n",
    "# Open the PNG device with the specified file and directory\n",
    "png(file = \"/kaggle/working/plot11.png\")\n",
    "\n",
    "# Convert the hour column to a factor with ordered levels\n",
    "Trips2021$hour <- factor(Trips2021$hour, levels = sprintf(\"%02d\", 1:24), ordered = TRUE)\n",
    "\n",
    "# Define the order of weekdays\n",
    "weekday_order <- c(\"Sunday\", \"Monday\", \"Tuesday\", \"Wednesday\", \"Thursday\", \"Friday\", \"Saturday\")\n",
    "\n",
    "# Create the plot\n",
    "ggplot(Trips2021, aes(x = hour, y = ride_length, color = users)) +\n",
    "  geom_point() +\n",
    "  labs(title = \"Ride Length by Day of the Week, Hour of the Day, and User Type\",\n",
    "       x = \"Hour of the Day\",\n",
    "       y = \"Ride Length\",\n",
    "       color = \"User Type\") +\n",
    "  facet_grid(day ~ .) +\n",
    "  scale_x_discrete(labels = function(x) weekday_order[as.integer(x)]) +\n",
    "  theme_minimal()\n",
    "                   \n",
    "# Save the plot\n",
    "dev.off()"
   ]
  },
  {
   "cell_type": "markdown",
   "id": "76cf23e8",
   "metadata": {
    "papermill": {
     "duration": 0.019913,
     "end_time": "2023-05-29T17:16:24.568450",
     "exception": false,
     "start_time": "2023-05-29T17:16:24.548537",
     "status": "completed"
    },
    "tags": []
   },
   "source": [
    "# **SHARE**\n",
    "The share phase is usually done by building a presentation. \n",
    "Let's go through the main finds and try to arrive at a conclusion.\n",
    "\n",
    "What we know about the dataset:\n",
    "\n",
    "**Members** have the biggest proportion of the dataset, **~23%** bigger than **Casuals**.\n",
    "There's more data points at the third quarter of the year.\n",
    "The month with the biggest count of data points was July.\n",
    "We have more members' rides than casual rides in all months except June, July and August.\n",
    "The difference of proporcion of member x casual is larger in the last semester of 2021.\n",
    "Time of day also influences the volume of rides in the days of the week.\n",
    "There's a bigger volume of bikers in the afternoon. Mostly around 1pm - 6pm\n",
    "Most active time for riders is between 12 noon to 9pm.\n",
    "The biggest volume of data is on the the weekend (sat & sun).\n",
    "\n",
    "The remaining question is: **Why are there more members than casual?** One plausible answer is that members have a bigger need for the bikes than casuals, as can be seen on how there are more members than casuals in the months.\n",
    "\n",
    "Besides that, we have more bike rides on the weekends. Maybe because on those days the bikes were utilized for more recreational ways. This is even more plausible when knowing that There's a bigger volume of bikers in the afternoon.\n",
    "\n",
    "Now for how members differs from casuals:\n",
    "\n",
    "* Members may have the biggest volume of data, besides on saturday and sunday. Averagely on weekdays, casuals take place as having the most data points.\n",
    "* Weekends have the biggest volume of casuals.\n",
    "* We have more members during the morning, mainly between 5am and 10am. And more casuals between 11pm and 4am.\n",
    "* There's a big increase of data points in the midweek between 6am to 8am for members. Then it fell a bit. Another big increase is from 7pm to 9pm.\n",
    "* During the weekend we have a bigger flow of casuals between 10am to 6pm.\n",
    "* Members have a bigger preference for classic bikes.\n",
    "* Casuals have more riding time than members.\n",
    "* Riding time for members keeps unchanged during the midweek, increasing during weekends.\n",
    "* Casuals follow a more curve distribution, peaking on sundays and valleying on thursday/friday.\n",
    "What we can take from this information is that members have a more fixed use for bikes besides casuals. Their uses is for more routine activities, like:\n",
    "\n",
    "* Go to work.\n",
    "* Use it as an exercise.\n",
    "This can be proven we state that we have more members in between 5am to 10am and at 5pm to 6pm. Also, members may have set routes when using the bikes, as proven by riding time for members keeps unchanged during the midweek, increasing during weekends. The bikes is also heavily used for recreation on the weekends, when riding time increases and casuals take place.\n",
    "\n",
    "Members also have a bigger preference for classic bikes, so they can exercise when going to work.\n",
    "\n",
    "#### **Concluding that;**\n",
    "\n",
    "1. Members use the bikes for fixed activities, one of those is going to work.\n",
    "2. Bikes are used for recreation on the weekends.\n",
    "3. Rides are influenced by purposes as well as time of day.\n",
    "\n",
    "#### **Guiding questions**\n",
    "Were you able to answer the question of how annual members and casual riders use Cyclistic bikes differently?\n",
    "Yes. The data points to several differences between casuals and members.\n",
    "\n",
    "What story does your data tell?\n",
    "The main story the data tells is that members have set schedules, as seen on chart above, Those timestamps point out that members use the bikes for routine activities, like going to work. Also point out that they have less riding time, because they have a set route to take.\n",
    "\n",
    "How do your findings relate to your original question?\n",
    "The findings build a profile for members, relating to the key differences between casuals and member riders\", also knowing why they use the bikes, helps to find \"How digital media could influence them\".\n",
    "\n",
    "Who is your audience? What is the best way to communicate with them?\n",
    "The main target audience is my cyclistic marketing analytics team and Lily Moreno. The best way to communicate is through a slide presentation of the findings.\n",
    "\n",
    "Can data visualization help you share your findings?\n",
    "Yes, the main core of the finds is through data visualization.\n",
    "\n",
    "Is your presentation accessible to your audience?\n",
    "Yes, the plots were made using vibrant colors, and corresponding labels.\n",
    "\n",
    "\n",
    "Key tasks\n",
    "[x] Determine the best way to share your findings.\n",
    "[x] Create effective data visualizations.\n",
    "[x] Present your findings.\n",
    "[x] Ensure your work is accessible.\n",
    "\n",
    "Deliverable\n",
    "[x] Supporting visualizations and key findings\n",
    "\n",
    "## **ACT**\n",
    "The act phase would be done by the marketing team of the company. The main takeaway will be the top three recommendations for the marketing.\n",
    "\n",
    "\n",
    "#### **Guiding questions**\n",
    "What is your final conclusion based on your analysis?\n",
    "Members and casual have different habits when using the bikes. The conclusion is further stated on the share phase.\n",
    "\n",
    "How could your team and business apply your insights?\n",
    "The insights could be implemented when preparing a marketing campaign for turning casual into members. The marketing can have a focus on workers as a green way to get to work.\n",
    "\n",
    "What next steps would you or your stakeholders take based on your findings?\n",
    "Further analysis could be done to improve the findings, besides that, the marketing team can take the main information to build a marketing campaign.\n",
    "\n",
    "\n",
    "#### Deliverable\n",
    "* Your top three recommendations based on your analysis.\n",
    "1. Build a marketing campaign focusing on show how bikes help people to get to work, as the bikes are also used for recreations on the weekends, ads campaigns could also be made showing people using the bikes for exercise during the weeks. The ads could focus on how practical and consistent the bikes can be. Whilst maintaining the planet green and avoid traffic. The ads could be show on professional social networks.\n",
    "\n",
    "2. Host fun biking competitions with prizes at intervals for casual riders during their high number of rides, this will also attract them to get a membership.\n",
    "\n",
    "3. Increase benefits for riding during certain months. Encourage casual riders to ride more in the entire year through advertisement, hand flyers, by giving them various coupons so as to convince them into being a member\n",
    "\n",
    "#### **Conclusion**\n",
    "The Google Analytics Professional Certificate taught me a lot and the R language is really useful for analysing data (although its my first time using it). This took me more time than I expected, but it was fun.\n",
    "\n",
    "Thank you for going through my work, I'll be open for new ideas and correction. Happy Reading!!\n"
   ]
  }
 ],
 "metadata": {
  "kernelspec": {
   "display_name": "R",
   "language": "R",
   "name": "ir"
  },
  "language_info": {
   "codemirror_mode": "r",
   "file_extension": ".r",
   "mimetype": "text/x-r-source",
   "name": "R",
   "pygments_lexer": "r",
   "version": "4.0.5"
  },
  "papermill": {
   "default_parameters": {},
   "duration": 585.907522,
   "end_time": "2023-05-29T17:16:25.110716",
   "environment_variables": {},
   "exception": null,
   "input_path": "__notebook__.ipynb",
   "output_path": "__notebook__.ipynb",
   "parameters": {},
   "start_time": "2023-05-29T17:06:39.203194",
   "version": "2.4.0"
  }
 },
 "nbformat": 4,
 "nbformat_minor": 5
}
